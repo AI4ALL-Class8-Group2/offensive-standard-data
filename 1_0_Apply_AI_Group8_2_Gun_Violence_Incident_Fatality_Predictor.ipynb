{
  "cells": [
    {
      "cell_type": "markdown",
      "metadata": {
        "id": "view-in-github",
        "colab_type": "text"
      },
      "source": [
        "<a href=\"https://colab.research.google.com/github/AI4ALL-Class8-Group2/offensive-standard-data/blob/main/1_0_Apply_AI_Group8_2_Gun_Violence_Incident_Fatality_Predictor.ipynb\" target=\"_parent\"><img src=\"https://colab.research.google.com/assets/colab-badge.svg\" alt=\"Open In Colab\"/></a>"
      ]
    },
    {
      "cell_type": "markdown",
      "source": [
        "**Title**\n",
        "\n",
        "Gun Violence Incident Fatality Predictor\n",
        "\n",
        "**Introduction**\n",
        "\n",
        "This project seeks to determine the fatality of gun violence incidents. The initial dataset comprised of data from 22 Police Departments across the United States.\n",
        "\n",
        "Dataset - https://github.com/the-trace-and-buzzfeed-news/local-police-data-analysis"
      ],
      "metadata": {
        "id": "-9ZsGhHR2OI1"
      }
    },
    {
      "cell_type": "markdown",
      "source": [
        "\n",
        "\n",
        "**4 PDs Dataset used**\n",
        "*   Baltimore PD\n",
        "*   Boston PD\n",
        "*   Los Angeles PD\n",
        "*   San Francisco PD\n",
        "\n",
        "**162,47 rows and 17 columns**\n",
        "\n",
        "**Data Selection**\n",
        "1.\tAll have ‘Non-Fatal Shooting’ and ‘Homicide-Gun’ variables under ‘offence_group’ column except Los Angeles.\n",
        "2.\tLos Angeles has ‘Homicide-Criminal-Fatal-Shooting’ and ‘Agg Assault - Shooting - Non-Fatal’ under ‘offence_category’.\n",
        "\n",
        "**Fatal** means ‘Homicide-Gun’ (as recorded by Baltimore PD, Boston PD, Newark PD, San Francisco PD) and ‘Homicide-Criminal-Fatal-Shooting’ (as recorded Los Angeles PD)\n",
        "\n",
        "**Non-Fatal** means ‘‘Non-Fatal Shooting’ (as recorded by Baltimore PD, Boston PD, Newark PD, San Francisco PD) and ‘Agg Assault - Shooting - Non-Fatal’ (as recorded by Los Angeles PD)\n",
        "\n",
        "**N0TE** Research started with 5 PDs but Newark-PD was dropped after further analysis"
      ],
      "metadata": {
        "id": "kS3ym1BU4U6i"
      }
    },
    {
      "cell_type": "code",
      "execution_count": null,
      "metadata": {
        "id": "nuim8-b56gv4",
        "colab": {
          "base_uri": "https://localhost:8080/",
          "height": 446
        },
        "outputId": "80c5cdfd-ac44-46af-ed95-ffcd3338fee1"
      },
      "outputs": [
        {
          "output_type": "execute_result",
          "data": {
            "text/plain": [
              "                     row_hash          source   agency_name agency_ori  \\\n",
              "0  MDBPD0000-C419771020-01-01  BALTIMORE-MAIN  BALTIMORE-PD  MDBPD0000   \n",
              "1  MDBPD0000-B63BECA76C-01-01  BALTIMORE-MAIN  BALTIMORE-PD  MDBPD0000   \n",
              "2  MDBPD0000-8A7079014F-01-01  BALTIMORE-MAIN  BALTIMORE-PD  MDBPD0000   \n",
              "3  MDBPD0000-3EF6B5EBEF-01-01  BALTIMORE-MAIN  BALTIMORE-PD  MDBPD0000   \n",
              "4  MDBPD0000-5995BFA411-01-01  BALTIMORE-MAIN  BALTIMORE-PD  MDBPD0000   \n",
              "\n",
              "  agency_incident_id occurred_date occurred_time    offense_category  \\\n",
              "0            17V0351     7/26/2017       UNKNOWN  NON FATAL SHOOTING   \n",
              "1            17H0198     7/26/2017       UNKNOWN  NON FATAL SHOOTING   \n",
              "2            17V0349     7/25/2017       UNKNOWN  NON FATAL SHOOTING   \n",
              "3            17V0348     7/25/2017       UNKNOWN  NON FATAL SHOOTING   \n",
              "4            17V0346     7/24/2017       UNKNOWN  NON FATAL SHOOTING   \n",
              "\n",
              "  top_ucr_classification top_local_classification  ... victim_age victim_race  \\\n",
              "0                UNKNOWN       NON FATAL SHOOTING  ...         22       BLACK   \n",
              "1                UNKNOWN       NON FATAL SHOOTING  ...         53       BLACK   \n",
              "2                UNKNOWN       NON FATAL SHOOTING  ...         19       BLACK   \n",
              "3                UNKNOWN       NON FATAL SHOOTING  ...         29       BLACK   \n",
              "4                UNKNOWN       NON FATAL SHOOTING  ...         22       BLACK   \n",
              "\n",
              "  victim_ethnicity victim_race_condensed  victim_sex case_status arrest_ind  \\\n",
              "0            BLACK        BLACK/HISPANIC        MALE        OPEN    UNKNOWN   \n",
              "1            BLACK        BLACK/HISPANIC      FEMALE        OPEN    UNKNOWN   \n",
              "2            BLACK        BLACK/HISPANIC        MALE        OPEN    UNKNOWN   \n",
              "3            BLACK        BLACK/HISPANIC        MALE        OPEN    UNKNOWN   \n",
              "4            BLACK        BLACK/HISPANIC        MALE        OPEN    UNKNOWN   \n",
              "\n",
              "  clearance_status               clearance_group Fatality Status  \n",
              "0             OPEN  Open & No Arrest-Unspecified       Non-Fatal  \n",
              "1             OPEN  Open & No Arrest-Unspecified       Non-Fatal  \n",
              "2             OPEN  Open & No Arrest-Unspecified       Non-Fatal  \n",
              "3             OPEN  Open & No Arrest-Unspecified       Non-Fatal  \n",
              "4             OPEN  Open & No Arrest-Unspecified       Non-Fatal  \n",
              "\n",
              "[5 rows x 24 columns]"
            ],
            "text/html": [
              "\n",
              "  <div id=\"df-5760fc33-8692-42e8-ae55-e92981a21045\" class=\"colab-df-container\">\n",
              "    <div>\n",
              "<style scoped>\n",
              "    .dataframe tbody tr th:only-of-type {\n",
              "        vertical-align: middle;\n",
              "    }\n",
              "\n",
              "    .dataframe tbody tr th {\n",
              "        vertical-align: top;\n",
              "    }\n",
              "\n",
              "    .dataframe thead th {\n",
              "        text-align: right;\n",
              "    }\n",
              "</style>\n",
              "<table border=\"1\" class=\"dataframe\">\n",
              "  <thead>\n",
              "    <tr style=\"text-align: right;\">\n",
              "      <th></th>\n",
              "      <th>row_hash</th>\n",
              "      <th>source</th>\n",
              "      <th>agency_name</th>\n",
              "      <th>agency_ori</th>\n",
              "      <th>agency_incident_id</th>\n",
              "      <th>occurred_date</th>\n",
              "      <th>occurred_time</th>\n",
              "      <th>offense_category</th>\n",
              "      <th>top_ucr_classification</th>\n",
              "      <th>top_local_classification</th>\n",
              "      <th>...</th>\n",
              "      <th>victim_age</th>\n",
              "      <th>victim_race</th>\n",
              "      <th>victim_ethnicity</th>\n",
              "      <th>victim_race_condensed</th>\n",
              "      <th>victim_sex</th>\n",
              "      <th>case_status</th>\n",
              "      <th>arrest_ind</th>\n",
              "      <th>clearance_status</th>\n",
              "      <th>clearance_group</th>\n",
              "      <th>Fatality Status</th>\n",
              "    </tr>\n",
              "  </thead>\n",
              "  <tbody>\n",
              "    <tr>\n",
              "      <th>0</th>\n",
              "      <td>MDBPD0000-C419771020-01-01</td>\n",
              "      <td>BALTIMORE-MAIN</td>\n",
              "      <td>BALTIMORE-PD</td>\n",
              "      <td>MDBPD0000</td>\n",
              "      <td>17V0351</td>\n",
              "      <td>7/26/2017</td>\n",
              "      <td>UNKNOWN</td>\n",
              "      <td>NON FATAL SHOOTING</td>\n",
              "      <td>UNKNOWN</td>\n",
              "      <td>NON FATAL SHOOTING</td>\n",
              "      <td>...</td>\n",
              "      <td>22</td>\n",
              "      <td>BLACK</td>\n",
              "      <td>BLACK</td>\n",
              "      <td>BLACK/HISPANIC</td>\n",
              "      <td>MALE</td>\n",
              "      <td>OPEN</td>\n",
              "      <td>UNKNOWN</td>\n",
              "      <td>OPEN</td>\n",
              "      <td>Open &amp; No Arrest-Unspecified</td>\n",
              "      <td>Non-Fatal</td>\n",
              "    </tr>\n",
              "    <tr>\n",
              "      <th>1</th>\n",
              "      <td>MDBPD0000-B63BECA76C-01-01</td>\n",
              "      <td>BALTIMORE-MAIN</td>\n",
              "      <td>BALTIMORE-PD</td>\n",
              "      <td>MDBPD0000</td>\n",
              "      <td>17H0198</td>\n",
              "      <td>7/26/2017</td>\n",
              "      <td>UNKNOWN</td>\n",
              "      <td>NON FATAL SHOOTING</td>\n",
              "      <td>UNKNOWN</td>\n",
              "      <td>NON FATAL SHOOTING</td>\n",
              "      <td>...</td>\n",
              "      <td>53</td>\n",
              "      <td>BLACK</td>\n",
              "      <td>BLACK</td>\n",
              "      <td>BLACK/HISPANIC</td>\n",
              "      <td>FEMALE</td>\n",
              "      <td>OPEN</td>\n",
              "      <td>UNKNOWN</td>\n",
              "      <td>OPEN</td>\n",
              "      <td>Open &amp; No Arrest-Unspecified</td>\n",
              "      <td>Non-Fatal</td>\n",
              "    </tr>\n",
              "    <tr>\n",
              "      <th>2</th>\n",
              "      <td>MDBPD0000-8A7079014F-01-01</td>\n",
              "      <td>BALTIMORE-MAIN</td>\n",
              "      <td>BALTIMORE-PD</td>\n",
              "      <td>MDBPD0000</td>\n",
              "      <td>17V0349</td>\n",
              "      <td>7/25/2017</td>\n",
              "      <td>UNKNOWN</td>\n",
              "      <td>NON FATAL SHOOTING</td>\n",
              "      <td>UNKNOWN</td>\n",
              "      <td>NON FATAL SHOOTING</td>\n",
              "      <td>...</td>\n",
              "      <td>19</td>\n",
              "      <td>BLACK</td>\n",
              "      <td>BLACK</td>\n",
              "      <td>BLACK/HISPANIC</td>\n",
              "      <td>MALE</td>\n",
              "      <td>OPEN</td>\n",
              "      <td>UNKNOWN</td>\n",
              "      <td>OPEN</td>\n",
              "      <td>Open &amp; No Arrest-Unspecified</td>\n",
              "      <td>Non-Fatal</td>\n",
              "    </tr>\n",
              "    <tr>\n",
              "      <th>3</th>\n",
              "      <td>MDBPD0000-3EF6B5EBEF-01-01</td>\n",
              "      <td>BALTIMORE-MAIN</td>\n",
              "      <td>BALTIMORE-PD</td>\n",
              "      <td>MDBPD0000</td>\n",
              "      <td>17V0348</td>\n",
              "      <td>7/25/2017</td>\n",
              "      <td>UNKNOWN</td>\n",
              "      <td>NON FATAL SHOOTING</td>\n",
              "      <td>UNKNOWN</td>\n",
              "      <td>NON FATAL SHOOTING</td>\n",
              "      <td>...</td>\n",
              "      <td>29</td>\n",
              "      <td>BLACK</td>\n",
              "      <td>BLACK</td>\n",
              "      <td>BLACK/HISPANIC</td>\n",
              "      <td>MALE</td>\n",
              "      <td>OPEN</td>\n",
              "      <td>UNKNOWN</td>\n",
              "      <td>OPEN</td>\n",
              "      <td>Open &amp; No Arrest-Unspecified</td>\n",
              "      <td>Non-Fatal</td>\n",
              "    </tr>\n",
              "    <tr>\n",
              "      <th>4</th>\n",
              "      <td>MDBPD0000-5995BFA411-01-01</td>\n",
              "      <td>BALTIMORE-MAIN</td>\n",
              "      <td>BALTIMORE-PD</td>\n",
              "      <td>MDBPD0000</td>\n",
              "      <td>17V0346</td>\n",
              "      <td>7/24/2017</td>\n",
              "      <td>UNKNOWN</td>\n",
              "      <td>NON FATAL SHOOTING</td>\n",
              "      <td>UNKNOWN</td>\n",
              "      <td>NON FATAL SHOOTING</td>\n",
              "      <td>...</td>\n",
              "      <td>22</td>\n",
              "      <td>BLACK</td>\n",
              "      <td>BLACK</td>\n",
              "      <td>BLACK/HISPANIC</td>\n",
              "      <td>MALE</td>\n",
              "      <td>OPEN</td>\n",
              "      <td>UNKNOWN</td>\n",
              "      <td>OPEN</td>\n",
              "      <td>Open &amp; No Arrest-Unspecified</td>\n",
              "      <td>Non-Fatal</td>\n",
              "    </tr>\n",
              "  </tbody>\n",
              "</table>\n",
              "<p>5 rows × 24 columns</p>\n",
              "</div>\n",
              "    <div class=\"colab-df-buttons\">\n",
              "\n",
              "  <div class=\"colab-df-container\">\n",
              "    <button class=\"colab-df-convert\" onclick=\"convertToInteractive('df-5760fc33-8692-42e8-ae55-e92981a21045')\"\n",
              "            title=\"Convert this dataframe to an interactive table.\"\n",
              "            style=\"display:none;\">\n",
              "\n",
              "  <svg xmlns=\"http://www.w3.org/2000/svg\" height=\"24px\" viewBox=\"0 -960 960 960\">\n",
              "    <path d=\"M120-120v-720h720v720H120Zm60-500h600v-160H180v160Zm220 220h160v-160H400v160Zm0 220h160v-160H400v160ZM180-400h160v-160H180v160Zm440 0h160v-160H620v160ZM180-180h160v-160H180v160Zm440 0h160v-160H620v160Z\"/>\n",
              "  </svg>\n",
              "    </button>\n",
              "\n",
              "  <style>\n",
              "    .colab-df-container {\n",
              "      display:flex;\n",
              "      gap: 12px;\n",
              "    }\n",
              "\n",
              "    .colab-df-convert {\n",
              "      background-color: #E8F0FE;\n",
              "      border: none;\n",
              "      border-radius: 50%;\n",
              "      cursor: pointer;\n",
              "      display: none;\n",
              "      fill: #1967D2;\n",
              "      height: 32px;\n",
              "      padding: 0 0 0 0;\n",
              "      width: 32px;\n",
              "    }\n",
              "\n",
              "    .colab-df-convert:hover {\n",
              "      background-color: #E2EBFA;\n",
              "      box-shadow: 0px 1px 2px rgba(60, 64, 67, 0.3), 0px 1px 3px 1px rgba(60, 64, 67, 0.15);\n",
              "      fill: #174EA6;\n",
              "    }\n",
              "\n",
              "    .colab-df-buttons div {\n",
              "      margin-bottom: 4px;\n",
              "    }\n",
              "\n",
              "    [theme=dark] .colab-df-convert {\n",
              "      background-color: #3B4455;\n",
              "      fill: #D2E3FC;\n",
              "    }\n",
              "\n",
              "    [theme=dark] .colab-df-convert:hover {\n",
              "      background-color: #434B5C;\n",
              "      box-shadow: 0px 1px 3px 1px rgba(0, 0, 0, 0.15);\n",
              "      filter: drop-shadow(0px 1px 2px rgba(0, 0, 0, 0.3));\n",
              "      fill: #FFFFFF;\n",
              "    }\n",
              "  </style>\n",
              "\n",
              "    <script>\n",
              "      const buttonEl =\n",
              "        document.querySelector('#df-5760fc33-8692-42e8-ae55-e92981a21045 button.colab-df-convert');\n",
              "      buttonEl.style.display =\n",
              "        google.colab.kernel.accessAllowed ? 'block' : 'none';\n",
              "\n",
              "      async function convertToInteractive(key) {\n",
              "        const element = document.querySelector('#df-5760fc33-8692-42e8-ae55-e92981a21045');\n",
              "        const dataTable =\n",
              "          await google.colab.kernel.invokeFunction('convertToInteractive',\n",
              "                                                    [key], {});\n",
              "        if (!dataTable) return;\n",
              "\n",
              "        const docLinkHtml = 'Like what you see? Visit the ' +\n",
              "          '<a target=\"_blank\" href=https://colab.research.google.com/notebooks/data_table.ipynb>data table notebook</a>'\n",
              "          + ' to learn more about interactive tables.';\n",
              "        element.innerHTML = '';\n",
              "        dataTable['output_type'] = 'display_data';\n",
              "        await google.colab.output.renderOutput(dataTable, element);\n",
              "        const docLink = document.createElement('div');\n",
              "        docLink.innerHTML = docLinkHtml;\n",
              "        element.appendChild(docLink);\n",
              "      }\n",
              "    </script>\n",
              "  </div>\n",
              "\n",
              "\n",
              "<div id=\"df-2735a7eb-e94e-44a9-bbc4-ed0fb8a2c240\">\n",
              "  <button class=\"colab-df-quickchart\" onclick=\"quickchart('df-2735a7eb-e94e-44a9-bbc4-ed0fb8a2c240')\"\n",
              "            title=\"Suggest charts\"\n",
              "            style=\"display:none;\">\n",
              "\n",
              "<svg xmlns=\"http://www.w3.org/2000/svg\" height=\"24px\"viewBox=\"0 0 24 24\"\n",
              "     width=\"24px\">\n",
              "    <g>\n",
              "        <path d=\"M19 3H5c-1.1 0-2 .9-2 2v14c0 1.1.9 2 2 2h14c1.1 0 2-.9 2-2V5c0-1.1-.9-2-2-2zM9 17H7v-7h2v7zm4 0h-2V7h2v10zm4 0h-2v-4h2v4z\"/>\n",
              "    </g>\n",
              "</svg>\n",
              "  </button>\n",
              "\n",
              "<style>\n",
              "  .colab-df-quickchart {\n",
              "      --bg-color: #E8F0FE;\n",
              "      --fill-color: #1967D2;\n",
              "      --hover-bg-color: #E2EBFA;\n",
              "      --hover-fill-color: #174EA6;\n",
              "      --disabled-fill-color: #AAA;\n",
              "      --disabled-bg-color: #DDD;\n",
              "  }\n",
              "\n",
              "  [theme=dark] .colab-df-quickchart {\n",
              "      --bg-color: #3B4455;\n",
              "      --fill-color: #D2E3FC;\n",
              "      --hover-bg-color: #434B5C;\n",
              "      --hover-fill-color: #FFFFFF;\n",
              "      --disabled-bg-color: #3B4455;\n",
              "      --disabled-fill-color: #666;\n",
              "  }\n",
              "\n",
              "  .colab-df-quickchart {\n",
              "    background-color: var(--bg-color);\n",
              "    border: none;\n",
              "    border-radius: 50%;\n",
              "    cursor: pointer;\n",
              "    display: none;\n",
              "    fill: var(--fill-color);\n",
              "    height: 32px;\n",
              "    padding: 0;\n",
              "    width: 32px;\n",
              "  }\n",
              "\n",
              "  .colab-df-quickchart:hover {\n",
              "    background-color: var(--hover-bg-color);\n",
              "    box-shadow: 0 1px 2px rgba(60, 64, 67, 0.3), 0 1px 3px 1px rgba(60, 64, 67, 0.15);\n",
              "    fill: var(--button-hover-fill-color);\n",
              "  }\n",
              "\n",
              "  .colab-df-quickchart-complete:disabled,\n",
              "  .colab-df-quickchart-complete:disabled:hover {\n",
              "    background-color: var(--disabled-bg-color);\n",
              "    fill: var(--disabled-fill-color);\n",
              "    box-shadow: none;\n",
              "  }\n",
              "\n",
              "  .colab-df-spinner {\n",
              "    border: 2px solid var(--fill-color);\n",
              "    border-color: transparent;\n",
              "    border-bottom-color: var(--fill-color);\n",
              "    animation:\n",
              "      spin 1s steps(1) infinite;\n",
              "  }\n",
              "\n",
              "  @keyframes spin {\n",
              "    0% {\n",
              "      border-color: transparent;\n",
              "      border-bottom-color: var(--fill-color);\n",
              "      border-left-color: var(--fill-color);\n",
              "    }\n",
              "    20% {\n",
              "      border-color: transparent;\n",
              "      border-left-color: var(--fill-color);\n",
              "      border-top-color: var(--fill-color);\n",
              "    }\n",
              "    30% {\n",
              "      border-color: transparent;\n",
              "      border-left-color: var(--fill-color);\n",
              "      border-top-color: var(--fill-color);\n",
              "      border-right-color: var(--fill-color);\n",
              "    }\n",
              "    40% {\n",
              "      border-color: transparent;\n",
              "      border-right-color: var(--fill-color);\n",
              "      border-top-color: var(--fill-color);\n",
              "    }\n",
              "    60% {\n",
              "      border-color: transparent;\n",
              "      border-right-color: var(--fill-color);\n",
              "    }\n",
              "    80% {\n",
              "      border-color: transparent;\n",
              "      border-right-color: var(--fill-color);\n",
              "      border-bottom-color: var(--fill-color);\n",
              "    }\n",
              "    90% {\n",
              "      border-color: transparent;\n",
              "      border-bottom-color: var(--fill-color);\n",
              "    }\n",
              "  }\n",
              "</style>\n",
              "\n",
              "  <script>\n",
              "    async function quickchart(key) {\n",
              "      const quickchartButtonEl =\n",
              "        document.querySelector('#' + key + ' button');\n",
              "      quickchartButtonEl.disabled = true;  // To prevent multiple clicks.\n",
              "      quickchartButtonEl.classList.add('colab-df-spinner');\n",
              "      try {\n",
              "        const charts = await google.colab.kernel.invokeFunction(\n",
              "            'suggestCharts', [key], {});\n",
              "      } catch (error) {\n",
              "        console.error('Error during call to suggestCharts:', error);\n",
              "      }\n",
              "      quickchartButtonEl.classList.remove('colab-df-spinner');\n",
              "      quickchartButtonEl.classList.add('colab-df-quickchart-complete');\n",
              "    }\n",
              "    (() => {\n",
              "      let quickchartButtonEl =\n",
              "        document.querySelector('#df-2735a7eb-e94e-44a9-bbc4-ed0fb8a2c240 button');\n",
              "      quickchartButtonEl.style.display =\n",
              "        google.colab.kernel.accessAllowed ? 'block' : 'none';\n",
              "    })();\n",
              "  </script>\n",
              "</div>\n",
              "    </div>\n",
              "  </div>\n"
            ],
            "application/vnd.google.colaboratory.intrinsic+json": {
              "type": "dataframe",
              "variable_name": "data"
            }
          },
          "metadata": {},
          "execution_count": 121
        }
      ],
      "source": [
        "#import library and load dataset\n",
        "import pandas as pd\n",
        "data = pd.read_csv(r'https://raw.githubusercontent.com/AI4ALL-Class8-Group2/offensive-standard-data/connor-branch/offenses_fatality_final_1.0.csv')\n",
        "\n",
        "\n",
        "# show the first 5 rows of the data\n",
        "data.head()"
      ]
    },
    {
      "cell_type": "code",
      "execution_count": null,
      "metadata": {
        "id": "abolTbYV3SUJ",
        "colab": {
          "base_uri": "https://localhost:8080/"
        },
        "outputId": "7135787e-32c0-4dfe-cf28-00f4b0e212d9"
      },
      "outputs": [
        {
          "output_type": "stream",
          "name": "stdout",
          "text": [
            "(16247, 24)\n"
          ]
        }
      ],
      "source": [
        "# show number of rows and columns\n",
        "print(data.shape)"
      ]
    },
    {
      "cell_type": "code",
      "execution_count": null,
      "metadata": {
        "id": "iUTOaFhA3buE",
        "colab": {
          "base_uri": "https://localhost:8080/"
        },
        "outputId": "594239ca-eacb-4fca-d0cd-30d24b84580f"
      },
      "outputs": [
        {
          "output_type": "stream",
          "name": "stdout",
          "text": [
            "<class 'pandas.core.frame.DataFrame'>\n",
            "RangeIndex: 16247 entries, 0 to 16246\n",
            "Data columns (total 24 columns):\n",
            " #   Column                    Non-Null Count  Dtype \n",
            "---  ------                    --------------  ----- \n",
            " 0   row_hash                  16247 non-null  object\n",
            " 1   source                    16247 non-null  object\n",
            " 2   agency_name               16247 non-null  object\n",
            " 3   agency_ori                16247 non-null  object\n",
            " 4   agency_incident_id        16247 non-null  object\n",
            " 5   occurred_date             16247 non-null  object\n",
            " 6   occurred_time             16247 non-null  object\n",
            " 7   offense_category          16247 non-null  object\n",
            " 8   top_ucr_classification    16247 non-null  object\n",
            " 9   top_local_classification  16247 non-null  object\n",
            " 10  nibrs_code                16247 non-null  object\n",
            " 11  weapon                    16247 non-null  object\n",
            " 12  offense_group             16247 non-null  object\n",
            " 13  gang_activity_ind         16247 non-null  object\n",
            " 14  victim_age                16247 non-null  int64 \n",
            " 15  victim_race               16247 non-null  object\n",
            " 16  victim_ethnicity          16247 non-null  object\n",
            " 17  victim_race_condensed     16247 non-null  object\n",
            " 18  victim_sex                16247 non-null  object\n",
            " 19  case_status               16247 non-null  object\n",
            " 20  arrest_ind                16247 non-null  object\n",
            " 21  clearance_status          16247 non-null  object\n",
            " 22  clearance_group           16247 non-null  object\n",
            " 23  Fatality Status           16247 non-null  object\n",
            "dtypes: int64(1), object(23)\n",
            "memory usage: 3.0+ MB\n",
            "None\n"
          ]
        }
      ],
      "source": [
        "# show data info\n",
        "print(data.info())"
      ]
    },
    {
      "cell_type": "code",
      "execution_count": null,
      "metadata": {
        "id": "NjTVfbyp3fPz",
        "colab": {
          "base_uri": "https://localhost:8080/"
        },
        "outputId": "6cea0d88-2f3c-4487-f1aa-569985763dea"
      },
      "outputs": [
        {
          "output_type": "stream",
          "name": "stdout",
          "text": [
            "Index(['row_hash', 'source', 'agency_name', 'agency_ori', 'agency_incident_id',\n",
            "       'occurred_date', 'occurred_time', 'offense_category',\n",
            "       'top_ucr_classification', 'top_local_classification', 'nibrs_code',\n",
            "       'weapon', 'offense_group', 'gang_activity_ind', 'victim_age',\n",
            "       'victim_race', 'victim_ethnicity', 'victim_race_condensed',\n",
            "       'victim_sex', 'case_status', 'arrest_ind', 'clearance_status',\n",
            "       'clearance_group', 'Fatality Status'],\n",
            "      dtype='object')\n"
          ]
        }
      ],
      "source": [
        "# show feature names\n",
        "print(data.keys())"
      ]
    },
    {
      "cell_type": "code",
      "execution_count": null,
      "metadata": {
        "id": "kycy4_J-60qU",
        "colab": {
          "base_uri": "https://localhost:8080/"
        },
        "outputId": "0e5da578-e710-4f40-d8e6-e8371581d59d"
      },
      "outputs": [
        {
          "output_type": "stream",
          "name": "stdout",
          "text": [
            "(16247, 24)\n",
            "(16247, 24)\n"
          ]
        }
      ],
      "source": [
        "# delete rows with missing values\n",
        "print(data.shape)\n",
        "print(data.dropna().shape)"
      ]
    },
    {
      "cell_type": "code",
      "execution_count": null,
      "metadata": {
        "id": "JWlSH9rw55VV",
        "colab": {
          "base_uri": "https://localhost:8080/",
          "height": 116
        },
        "outputId": "caed8436-2a8c-42da-84c7-593c1f138765"
      },
      "outputs": [
        {
          "output_type": "execute_result",
          "data": {
            "text/plain": [
              "Empty DataFrame\n",
              "Columns: [row_hash, source, agency_name, agency_ori, agency_incident_id, occurred_date, occurred_time, offense_category, top_ucr_classification, top_local_classification, nibrs_code, weapon, offense_group, gang_activity_ind, victim_age, victim_race, victim_ethnicity, victim_race_condensed, victim_sex, case_status, arrest_ind, clearance_status, clearance_group, Fatality Status]\n",
              "Index: []\n",
              "\n",
              "[0 rows x 24 columns]"
            ],
            "text/html": [
              "\n",
              "  <div id=\"df-15e961f8-f381-4846-a0af-b1f548b24dee\" class=\"colab-df-container\">\n",
              "    <div>\n",
              "<style scoped>\n",
              "    .dataframe tbody tr th:only-of-type {\n",
              "        vertical-align: middle;\n",
              "    }\n",
              "\n",
              "    .dataframe tbody tr th {\n",
              "        vertical-align: top;\n",
              "    }\n",
              "\n",
              "    .dataframe thead th {\n",
              "        text-align: right;\n",
              "    }\n",
              "</style>\n",
              "<table border=\"1\" class=\"dataframe\">\n",
              "  <thead>\n",
              "    <tr style=\"text-align: right;\">\n",
              "      <th></th>\n",
              "      <th>row_hash</th>\n",
              "      <th>source</th>\n",
              "      <th>agency_name</th>\n",
              "      <th>agency_ori</th>\n",
              "      <th>agency_incident_id</th>\n",
              "      <th>occurred_date</th>\n",
              "      <th>occurred_time</th>\n",
              "      <th>offense_category</th>\n",
              "      <th>top_ucr_classification</th>\n",
              "      <th>top_local_classification</th>\n",
              "      <th>...</th>\n",
              "      <th>victim_age</th>\n",
              "      <th>victim_race</th>\n",
              "      <th>victim_ethnicity</th>\n",
              "      <th>victim_race_condensed</th>\n",
              "      <th>victim_sex</th>\n",
              "      <th>case_status</th>\n",
              "      <th>arrest_ind</th>\n",
              "      <th>clearance_status</th>\n",
              "      <th>clearance_group</th>\n",
              "      <th>Fatality Status</th>\n",
              "    </tr>\n",
              "  </thead>\n",
              "  <tbody>\n",
              "  </tbody>\n",
              "</table>\n",
              "<p>0 rows × 24 columns</p>\n",
              "</div>\n",
              "    <div class=\"colab-df-buttons\">\n",
              "\n",
              "  <div class=\"colab-df-container\">\n",
              "    <button class=\"colab-df-convert\" onclick=\"convertToInteractive('df-15e961f8-f381-4846-a0af-b1f548b24dee')\"\n",
              "            title=\"Convert this dataframe to an interactive table.\"\n",
              "            style=\"display:none;\">\n",
              "\n",
              "  <svg xmlns=\"http://www.w3.org/2000/svg\" height=\"24px\" viewBox=\"0 -960 960 960\">\n",
              "    <path d=\"M120-120v-720h720v720H120Zm60-500h600v-160H180v160Zm220 220h160v-160H400v160Zm0 220h160v-160H400v160ZM180-400h160v-160H180v160Zm440 0h160v-160H620v160ZM180-180h160v-160H180v160Zm440 0h160v-160H620v160Z\"/>\n",
              "  </svg>\n",
              "    </button>\n",
              "\n",
              "  <style>\n",
              "    .colab-df-container {\n",
              "      display:flex;\n",
              "      gap: 12px;\n",
              "    }\n",
              "\n",
              "    .colab-df-convert {\n",
              "      background-color: #E8F0FE;\n",
              "      border: none;\n",
              "      border-radius: 50%;\n",
              "      cursor: pointer;\n",
              "      display: none;\n",
              "      fill: #1967D2;\n",
              "      height: 32px;\n",
              "      padding: 0 0 0 0;\n",
              "      width: 32px;\n",
              "    }\n",
              "\n",
              "    .colab-df-convert:hover {\n",
              "      background-color: #E2EBFA;\n",
              "      box-shadow: 0px 1px 2px rgba(60, 64, 67, 0.3), 0px 1px 3px 1px rgba(60, 64, 67, 0.15);\n",
              "      fill: #174EA6;\n",
              "    }\n",
              "\n",
              "    .colab-df-buttons div {\n",
              "      margin-bottom: 4px;\n",
              "    }\n",
              "\n",
              "    [theme=dark] .colab-df-convert {\n",
              "      background-color: #3B4455;\n",
              "      fill: #D2E3FC;\n",
              "    }\n",
              "\n",
              "    [theme=dark] .colab-df-convert:hover {\n",
              "      background-color: #434B5C;\n",
              "      box-shadow: 0px 1px 3px 1px rgba(0, 0, 0, 0.15);\n",
              "      filter: drop-shadow(0px 1px 2px rgba(0, 0, 0, 0.3));\n",
              "      fill: #FFFFFF;\n",
              "    }\n",
              "  </style>\n",
              "\n",
              "    <script>\n",
              "      const buttonEl =\n",
              "        document.querySelector('#df-15e961f8-f381-4846-a0af-b1f548b24dee button.colab-df-convert');\n",
              "      buttonEl.style.display =\n",
              "        google.colab.kernel.accessAllowed ? 'block' : 'none';\n",
              "\n",
              "      async function convertToInteractive(key) {\n",
              "        const element = document.querySelector('#df-15e961f8-f381-4846-a0af-b1f548b24dee');\n",
              "        const dataTable =\n",
              "          await google.colab.kernel.invokeFunction('convertToInteractive',\n",
              "                                                    [key], {});\n",
              "        if (!dataTable) return;\n",
              "\n",
              "        const docLinkHtml = 'Like what you see? Visit the ' +\n",
              "          '<a target=\"_blank\" href=https://colab.research.google.com/notebooks/data_table.ipynb>data table notebook</a>'\n",
              "          + ' to learn more about interactive tables.';\n",
              "        element.innerHTML = '';\n",
              "        dataTable['output_type'] = 'display_data';\n",
              "        await google.colab.output.renderOutput(dataTable, element);\n",
              "        const docLink = document.createElement('div');\n",
              "        docLink.innerHTML = docLinkHtml;\n",
              "        element.appendChild(docLink);\n",
              "      }\n",
              "    </script>\n",
              "  </div>\n",
              "\n",
              "    </div>\n",
              "  </div>\n"
            ],
            "application/vnd.google.colaboratory.intrinsic+json": {
              "type": "dataframe"
            }
          },
          "metadata": {},
          "execution_count": 126
        }
      ],
      "source": [
        "# duplicate rows\n",
        "data[data.duplicated(keep=False)]"
      ]
    },
    {
      "cell_type": "code",
      "execution_count": null,
      "metadata": {
        "id": "ziausvYkjB04",
        "colab": {
          "base_uri": "https://localhost:8080/",
          "height": 423
        },
        "outputId": "02db66df-8383-453e-c16b-d34734987115"
      },
      "outputs": [
        {
          "output_type": "execute_result",
          "data": {
            "text/plain": [
              "<Axes: ylabel='count'>"
            ]
          },
          "metadata": {},
          "execution_count": 127
        },
        {
          "output_type": "display_data",
          "data": {
            "text/plain": [
              "<Figure size 640x480 with 1 Axes>"
            ],
            "image/png": "[encoded data removed]"
          },
          "metadata": {}
        }
      ],
      "source": [
        "# pie chart for victim_sex\n",
        "data['victim_sex'].str.lower().value_counts(dropna=False).plot.pie()"
      ]
    },
    {
      "cell_type": "code",
      "source": [
        "# quasi constant values\n",
        "for val in data.columns.sort_values():\n",
        "    if (len(data[val].unique()) < 3):\n",
        "        print(data[val].value_counts())"
      ],
      "metadata": {
        "id": "NfpyHbXMFpt_",
        "colab": {
          "base_uri": "https://localhost:8080/"
        },
        "outputId": "a648bb8c-66ab-487f-cfa5-6c7caccf5587"
      },
      "execution_count": null,
      "outputs": [
        {
          "output_type": "stream",
          "name": "stdout",
          "text": [
            "Fatality Status\n",
            "Non-Fatal    12130\n",
            "Fatal         4117\n",
            "Name: count, dtype: int64\n",
            "nibrs_code\n",
            "UNKNOWN    16247\n",
            "Name: count, dtype: int64\n"
          ]
        }
      ]
    },
    {
      "cell_type": "markdown",
      "source": [
        "# Categorize victim_age"
      ],
      "metadata": {
        "id": "1J9sRZaNhISC"
      }
    },
    {
      "cell_type": "code",
      "source": [
        "# A column of name 'age-groupings' is created in DataFrame\n",
        "# Categorizing Age into 4 Categories\n",
        "# Baby/Toddler: (0,3], 0 is excluded & 3 is included\n",
        "# Child: (3,17], 3 is excluded & 17 is included\n",
        "# Adult: (17,63], 17 is excluded & 63 is included\n",
        "# Elderly: (63,99], 63 is excluded & 99 is included\n",
        "data['victim_age_groupings'] = pd.cut(x=data['victim_age'], bins=[0, 3, 17, 63, 99],\n",
        "                     labels=['Baby/Toddler', 'Child', 'Adult',\n",
        "                             'Elderly'])\n",
        "\n",
        "# Printing DataFrame after sorting Continuous to\n",
        "\n",
        "print(data)\n",
        "\n",
        "# Check the number of values in each bin\n",
        "print(\"Categories: \")\n",
        "print(data['victim_age_groupings'].value_counts())\n"
      ],
      "metadata": {
        "id": "du82NhDqe3tx",
        "colab": {
          "base_uri": "https://localhost:8080/"
        },
        "outputId": "6843f69b-6eb1-40f8-d1bb-260391516b91"
      },
      "execution_count": null,
      "outputs": [
        {
          "output_type": "stream",
          "name": "stdout",
          "text": [
            "                         row_hash             source       agency_name  \\\n",
            "0      MDBPD0000-C419771020-01-01     BALTIMORE-MAIN      BALTIMORE-PD   \n",
            "1      MDBPD0000-B63BECA76C-01-01     BALTIMORE-MAIN      BALTIMORE-PD   \n",
            "2      MDBPD0000-8A7079014F-01-01     BALTIMORE-MAIN      BALTIMORE-PD   \n",
            "3      MDBPD0000-3EF6B5EBEF-01-01     BALTIMORE-MAIN      BALTIMORE-PD   \n",
            "4      MDBPD0000-5995BFA411-01-01     BALTIMORE-MAIN      BALTIMORE-PD   \n",
            "...                           ...                ...               ...   \n",
            "16242  CA0380100-BEC29B8FFB-01-01  SAN-FRANCISCO-NFS  SAN-FRANCISCO-PD   \n",
            "16243  CA0380100-D587813381-01-01  SAN-FRANCISCO-NFS  SAN-FRANCISCO-PD   \n",
            "16244  CA0380100-E90239E18B-01-01  SAN-FRANCISCO-NFS  SAN-FRANCISCO-PD   \n",
            "16245  CA0380100-03D789C421-01-01  SAN-FRANCISCO-NFS  SAN-FRANCISCO-PD   \n",
            "16246  CA0380100-66B5883EAA-01-01  SAN-FRANCISCO-NFS  SAN-FRANCISCO-PD   \n",
            "\n",
            "      agency_ori                       agency_incident_id occurred_date  \\\n",
            "0      MDBPD0000                                  17V0351     7/26/2017   \n",
            "1      MDBPD0000                                  17H0198     7/26/2017   \n",
            "2      MDBPD0000                                  17V0349     7/25/2017   \n",
            "3      MDBPD0000                                  17V0348     7/25/2017   \n",
            "4      MDBPD0000                                  17V0346     7/24/2017   \n",
            "...          ...                                      ...           ...   \n",
            "16242  CA0380100  9/21/2014 12:00:00 AM207 BLYTHEDALE AVE     9/21/2014   \n",
            "16243  CA0380100        9/25/2014 12:00:00 AM55 WILLOW ST     9/25/2014   \n",
            "16244  CA0380100  10/1/2014 12:00:00 AM2425 DIVISADERO ST     10/1/2014   \n",
            "16245  CA0380100    10/1/2014 12:00:00 AM1391 SHAFTER AVE     10/1/2014   \n",
            "16246  CA0380100   10/14/2014 12:00:00 AM300 JEFFERSON ST    10/14/2014   \n",
            "\n",
            "      occurred_time    offense_category top_ucr_classification  \\\n",
            "0           UNKNOWN  NON FATAL SHOOTING                UNKNOWN   \n",
            "1           UNKNOWN  NON FATAL SHOOTING                UNKNOWN   \n",
            "2           UNKNOWN  NON FATAL SHOOTING                UNKNOWN   \n",
            "3           UNKNOWN  NON FATAL SHOOTING                UNKNOWN   \n",
            "4           UNKNOWN  NON FATAL SHOOTING                UNKNOWN   \n",
            "...             ...                 ...                    ...   \n",
            "16242       UNKNOWN  NON-FATAL-SHOOTING                UNKNOWN   \n",
            "16243       UNKNOWN  NON-FATAL-SHOOTING                UNKNOWN   \n",
            "16244       UNKNOWN  NON-FATAL-SHOOTING                UNKNOWN   \n",
            "16245       UNKNOWN  NON-FATAL-SHOOTING                UNKNOWN   \n",
            "16246       UNKNOWN  NON-FATAL-SHOOTING                UNKNOWN   \n",
            "\n",
            "      top_local_classification  ... victim_race victim_ethnicity  \\\n",
            "0           NON FATAL SHOOTING  ...       BLACK            BLACK   \n",
            "1           NON FATAL SHOOTING  ...       BLACK            BLACK   \n",
            "2           NON FATAL SHOOTING  ...       BLACK            BLACK   \n",
            "3           NON FATAL SHOOTING  ...       BLACK            BLACK   \n",
            "4           NON FATAL SHOOTING  ...       BLACK            BLACK   \n",
            "...                        ...  ...         ...              ...   \n",
            "16242                  UNKNOWN  ...       BLACK            BLACK   \n",
            "16243                  UNKNOWN  ...       WHITE            WHITE   \n",
            "16244                  UNKNOWN  ...       BLACK            BLACK   \n",
            "16245                  UNKNOWN  ...       BLACK            BLACK   \n",
            "16246                  UNKNOWN  ...       WHITE            WHITE   \n",
            "\n",
            "      victim_race_condensed victim_sex  case_status arrest_ind  \\\n",
            "0            BLACK/HISPANIC       MALE         OPEN    UNKNOWN   \n",
            "1            BLACK/HISPANIC     FEMALE         OPEN    UNKNOWN   \n",
            "2            BLACK/HISPANIC       MALE         OPEN    UNKNOWN   \n",
            "3            BLACK/HISPANIC       MALE         OPEN    UNKNOWN   \n",
            "4            BLACK/HISPANIC       MALE         OPEN    UNKNOWN   \n",
            "...                     ...        ...          ...        ...   \n",
            "16242        BLACK/HISPANIC       MALE         OPEN          N   \n",
            "16243                 WHITE       MALE         OPEN          N   \n",
            "16244        BLACK/HISPANIC       MALE         OPEN          N   \n",
            "16245        BLACK/HISPANIC       MALE         OPEN          N   \n",
            "16246                 WHITE       MALE         OPEN          N   \n",
            "\n",
            "      clearance_status               clearance_group Fatality Status  \\\n",
            "0                 OPEN  Open & No Arrest-Unspecified       Non-Fatal   \n",
            "1                 OPEN  Open & No Arrest-Unspecified       Non-Fatal   \n",
            "2                 OPEN  Open & No Arrest-Unspecified       Non-Fatal   \n",
            "3                 OPEN  Open & No Arrest-Unspecified       Non-Fatal   \n",
            "4                 OPEN  Open & No Arrest-Unspecified       Non-Fatal   \n",
            "...                ...                           ...             ...   \n",
            "16242             OPEN  Open & No Arrest-Unspecified       Non-Fatal   \n",
            "16243             OPEN  Open & No Arrest-Unspecified       Non-Fatal   \n",
            "16244             OPEN  Open & No Arrest-Unspecified       Non-Fatal   \n",
            "16245             OPEN  Open & No Arrest-Unspecified       Non-Fatal   \n",
            "16246             OPEN  Open & No Arrest-Unspecified       Non-Fatal   \n",
            "\n",
            "      victim_age_groupings  \n",
            "0                    Adult  \n",
            "1                    Adult  \n",
            "2                    Adult  \n",
            "3                    Adult  \n",
            "4                    Adult  \n",
            "...                    ...  \n",
            "16242                Adult  \n",
            "16243                Adult  \n",
            "16244                Adult  \n",
            "16245                Adult  \n",
            "16246                Adult  \n",
            "\n",
            "[16247 rows x 25 columns]\n",
            "Categories: \n",
            "victim_age_groupings\n",
            "Adult           14827\n",
            "Child            1287\n",
            "Elderly           123\n",
            "Baby/Toddler        8\n",
            "Name: count, dtype: int64\n"
          ]
        }
      ]
    },
    {
      "cell_type": "markdown",
      "source": [
        "# One-Hot Encoding"
      ],
      "metadata": {
        "id": "y9WFfzUP--fE"
      }
    },
    {
      "cell_type": "code",
      "source": [
        "\n",
        "#one hot encoding of categorical variables\n",
        "from sklearn.preprocessing import OneHotEncoder\n",
        "from sklearn.compose import make_column_transformer\n",
        "\n",
        "transformer = make_column_transformer(\n",
        "    (OneHotEncoder(), ['offense_group', 'Fatality Status','agency_name','victim_race','victim_sex','victim_age_groupings']),\n",
        "    remainder='passthrough')\n",
        "\n",
        "transformed = transformer.fit_transform(data)\n",
        "transformed_df = pd.DataFrame(transformed, columns=transformer.get_feature_names_out())\n",
        "print(transformed_df.head())\n"
      ],
      "metadata": {
        "id": "BjYgqWiP112G",
        "colab": {
          "base_uri": "https://localhost:8080/"
        },
        "outputId": "3be385ef-8be9-40e0-c2ba-5bcf0f799c0d"
      },
      "execution_count": null,
      "outputs": [
        {
          "output_type": "stream",
          "name": "stdout",
          "text": [
            "  onehotencoder__offense_group_Agg Assault - Gun  \\\n",
            "0                                            0.0   \n",
            "1                                            0.0   \n",
            "2                                            0.0   \n",
            "3                                            0.0   \n",
            "4                                            0.0   \n",
            "\n",
            "  onehotencoder__offense_group_Homicide - Gun  \\\n",
            "0                                         0.0   \n",
            "1                                         0.0   \n",
            "2                                         0.0   \n",
            "3                                         0.0   \n",
            "4                                         0.0   \n",
            "\n",
            "  onehotencoder__offense_group_Non-Fatal Shooting  \\\n",
            "0                                             1.0   \n",
            "1                                             1.0   \n",
            "2                                             1.0   \n",
            "3                                             1.0   \n",
            "4                                             1.0   \n",
            "\n",
            "  onehotencoder__Fatality Status_Fatal  \\\n",
            "0                                  0.0   \n",
            "1                                  0.0   \n",
            "2                                  0.0   \n",
            "3                                  0.0   \n",
            "4                                  0.0   \n",
            "\n",
            "  onehotencoder__Fatality Status_Non-Fatal  \\\n",
            "0                                      1.0   \n",
            "1                                      1.0   \n",
            "2                                      1.0   \n",
            "3                                      1.0   \n",
            "4                                      1.0   \n",
            "\n",
            "  onehotencoder__agency_name_BALTIMORE-PD  \\\n",
            "0                                     1.0   \n",
            "1                                     1.0   \n",
            "2                                     1.0   \n",
            "3                                     1.0   \n",
            "4                                     1.0   \n",
            "\n",
            "  onehotencoder__agency_name_BOSTON-PD  \\\n",
            "0                                  0.0   \n",
            "1                                  0.0   \n",
            "2                                  0.0   \n",
            "3                                  0.0   \n",
            "4                                  0.0   \n",
            "\n",
            "  onehotencoder__agency_name_LOS-ANGELES-PD  \\\n",
            "0                                       0.0   \n",
            "1                                       0.0   \n",
            "2                                       0.0   \n",
            "3                                       0.0   \n",
            "4                                       0.0   \n",
            "\n",
            "  onehotencoder__agency_name_SAN-FRANCISCO-PD  \\\n",
            "0                                         0.0   \n",
            "1                                         0.0   \n",
            "2                                         0.0   \n",
            "3                                         0.0   \n",
            "4                                         0.0   \n",
            "\n",
            "  onehotencoder__victim_race_ASIAN  ... remainder__nibrs_code  \\\n",
            "0                              0.0  ...               UNKNOWN   \n",
            "1                              0.0  ...               UNKNOWN   \n",
            "2                              0.0  ...               UNKNOWN   \n",
            "3                              0.0  ...               UNKNOWN   \n",
            "4                              0.0  ...               UNKNOWN   \n",
            "\n",
            "  remainder__weapon remainder__gang_activity_ind remainder__victim_age  \\\n",
            "0           FIREARM                  UNSPECIFIED                    22   \n",
            "1           FIREARM                  UNSPECIFIED                    53   \n",
            "2           FIREARM                  UNSPECIFIED                    19   \n",
            "3           FIREARM                  UNSPECIFIED                    29   \n",
            "4           FIREARM                  UNSPECIFIED                    22   \n",
            "\n",
            "  remainder__victim_ethnicity remainder__victim_race_condensed  \\\n",
            "0                       BLACK                   BLACK/HISPANIC   \n",
            "1                       BLACK                   BLACK/HISPANIC   \n",
            "2                       BLACK                   BLACK/HISPANIC   \n",
            "3                       BLACK                   BLACK/HISPANIC   \n",
            "4                       BLACK                   BLACK/HISPANIC   \n",
            "\n",
            "  remainder__case_status remainder__arrest_ind remainder__clearance_status  \\\n",
            "0                   OPEN               UNKNOWN                        OPEN   \n",
            "1                   OPEN               UNKNOWN                        OPEN   \n",
            "2                   OPEN               UNKNOWN                        OPEN   \n",
            "3                   OPEN               UNKNOWN                        OPEN   \n",
            "4                   OPEN               UNKNOWN                        OPEN   \n",
            "\n",
            "     remainder__clearance_group  \n",
            "0  Open & No Arrest-Unspecified  \n",
            "1  Open & No Arrest-Unspecified  \n",
            "2  Open & No Arrest-Unspecified  \n",
            "3  Open & No Arrest-Unspecified  \n",
            "4  Open & No Arrest-Unspecified  \n",
            "\n",
            "[5 rows x 53 columns]\n"
          ]
        }
      ]
    },
    {
      "cell_type": "code",
      "source": [
        "transformed_df.keys()"
      ],
      "metadata": {
        "id": "WvMjKBXQfGlT",
        "colab": {
          "base_uri": "https://localhost:8080/"
        },
        "outputId": "abb6fdfa-3cfe-4734-e5be-6eb922e0f291"
      },
      "execution_count": null,
      "outputs": [
        {
          "output_type": "execute_result",
          "data": {
            "text/plain": [
              "Index(['onehotencoder__offense_group_Agg Assault - Gun',\n",
              "       'onehotencoder__offense_group_Homicide - Gun',\n",
              "       'onehotencoder__offense_group_Non-Fatal Shooting',\n",
              "       'onehotencoder__Fatality Status_Fatal',\n",
              "       'onehotencoder__Fatality Status_Non-Fatal',\n",
              "       'onehotencoder__agency_name_BALTIMORE-PD',\n",
              "       'onehotencoder__agency_name_BOSTON-PD',\n",
              "       'onehotencoder__agency_name_LOS-ANGELES-PD',\n",
              "       'onehotencoder__agency_name_SAN-FRANCISCO-PD',\n",
              "       'onehotencoder__victim_race_ASIAN',\n",
              "       'onehotencoder__victim_race_ASIAN OR PACIFIC ISLANDER',\n",
              "       'onehotencoder__victim_race_BLACK',\n",
              "       'onehotencoder__victim_race_BLACK HISPANIC',\n",
              "       'onehotencoder__victim_race_BLACK NON-HISPANIC',\n",
              "       'onehotencoder__victim_race_HISPANIC', 'onehotencoder__victim_race_I',\n",
              "       'onehotencoder__victim_race_OTH', 'onehotencoder__victim_race_OTHER',\n",
              "       'onehotencoder__victim_race_UNKNOWN',\n",
              "       'onehotencoder__victim_race_WHITE',\n",
              "       'onehotencoder__victim_race_WHITE HISPANIC',\n",
              "       'onehotencoder__victim_race_WHITE NON-HISPANIC',\n",
              "       'onehotencoder__victim_sex_FEMALE', 'onehotencoder__victim_sex_MALE',\n",
              "       'onehotencoder__victim_sex_OTH',\n",
              "       'onehotencoder__victim_sex_TRANSGENDERED',\n",
              "       'onehotencoder__victim_sex_UNCLEAR',\n",
              "       'onehotencoder__victim_sex_UNKNOWN', 'onehotencoder__victim_sex_X',\n",
              "       'onehotencoder__victim_age_groupings_Adult',\n",
              "       'onehotencoder__victim_age_groupings_Baby/Toddler',\n",
              "       'onehotencoder__victim_age_groupings_Child',\n",
              "       'onehotencoder__victim_age_groupings_Elderly',\n",
              "       'onehotencoder__victim_age_groupings_nan', 'remainder__row_hash',\n",
              "       'remainder__source', 'remainder__agency_ori',\n",
              "       'remainder__agency_incident_id', 'remainder__occurred_date',\n",
              "       'remainder__occurred_time', 'remainder__offense_category',\n",
              "       'remainder__top_ucr_classification',\n",
              "       'remainder__top_local_classification', 'remainder__nibrs_code',\n",
              "       'remainder__weapon', 'remainder__gang_activity_ind',\n",
              "       'remainder__victim_age', 'remainder__victim_ethnicity',\n",
              "       'remainder__victim_race_condensed', 'remainder__case_status',\n",
              "       'remainder__arrest_ind', 'remainder__clearance_status',\n",
              "       'remainder__clearance_group'],\n",
              "      dtype='object')"
            ]
          },
          "metadata": {},
          "execution_count": 131
        }
      ]
    },
    {
      "cell_type": "code",
      "source": [
        "#violin plot\n",
        "import seaborn\n",
        "\n",
        "seaborn.set(style = 'whitegrid')\n",
        "\n",
        "seaborn.violinplot(x ='Fatality Status', data = data)"
      ],
      "metadata": {
        "id": "uXTI5pne0etY",
        "colab": {
          "base_uri": "https://localhost:8080/",
          "height": 475
        },
        "outputId": "ace40628-9493-43c4-e904-ab6b68712b50"
      },
      "execution_count": null,
      "outputs": [
        {
          "output_type": "execute_result",
          "data": {
            "text/plain": [
              "<Axes: xlabel='Fatality Status'>"
            ]
          },
          "metadata": {},
          "execution_count": 132
        },
        {
          "output_type": "display_data",
          "data": {
            "text/plain": [
              "<Figure size 640x480 with 1 Axes>"
            ],
            "image/png": "[encoded data removed]"
          },
          "metadata": {}
        }
      ]
    },
    {
      "cell_type": "code",
      "source": [
        "# Import libraries\n",
        "import matplotlib.pyplot as plt\n",
        "import numpy as np\n",
        "# Creating plot\n",
        "data.boxplot()\n",
        "\n",
        "# show plot\n",
        "plt.show()"
      ],
      "metadata": {
        "id": "VbW2_ABm1Dfm",
        "colab": {
          "base_uri": "https://localhost:8080/",
          "height": 435
        },
        "outputId": "1e0bf1d0-95c6-4241-87d9-9e5873d37148"
      },
      "execution_count": null,
      "outputs": [
        {
          "output_type": "display_data",
          "data": {
            "text/plain": [
              "<Figure size 640x480 with 1 Axes>"
            ],
            "image/png": "[encoded data removed]"
          },
          "metadata": {}
        }
      ]
    },
    {
      "cell_type": "code",
      "source": [
        "# pie chart\n",
        "data['Fatality Status'].str.lower().value_counts(dropna=False).plot.pie()"
      ],
      "metadata": {
        "id": "wn8hZLu-No4b",
        "colab": {
          "base_uri": "https://localhost:8080/",
          "height": 423
        },
        "outputId": "cb9260d9-83a5-4705-ff90-24013e1ebcca"
      },
      "execution_count": null,
      "outputs": [
        {
          "output_type": "execute_result",
          "data": {
            "text/plain": [
              "<Axes: ylabel='count'>"
            ]
          },
          "metadata": {},
          "execution_count": 134
        },
        {
          "output_type": "display_data",
          "data": {
            "text/plain": [
              "<Figure size 640x480 with 1 Axes>"
            ],
            "image/png": "[encoded data removed]"
          },
          "metadata": {}
        }
      ]
    },
    {
      "cell_type": "code",
      "source": [
        "# pie chart\n",
        "data['victim_age_groupings'].str.lower().value_counts(dropna=False).plot.pie()"
      ],
      "metadata": {
        "id": "MjiG0UwmfNA-",
        "colab": {
          "base_uri": "https://localhost:8080/",
          "height": 423
        },
        "outputId": "c0003f9b-bca7-4d03-bd2f-dff5e880c3a2"
      },
      "execution_count": null,
      "outputs": [
        {
          "output_type": "execute_result",
          "data": {
            "text/plain": [
              "<Axes: ylabel='count'>"
            ]
          },
          "metadata": {},
          "execution_count": 135
        },
        {
          "output_type": "display_data",
          "data": {
            "text/plain": [
              "<Figure size 640x480 with 1 Axes>"
            ],
            "image/png": "[encoded data removed]"
          },
          "metadata": {}
        }
      ]
    },
    {
      "cell_type": "markdown",
      "source": [
        "# Train Test Split"
      ],
      "metadata": {
        "id": "5U1aQSiW_u0P"
      }
    },
    {
      "cell_type": "code",
      "source": [
        "# train test split\n",
        "from sklearn.model_selection import train_test_split\n",
        "\n",
        "X_train, X_test, y_train, y_test = train_test_split(data.drop(['Fatality Status'], axis=1), data['Fatality Status'], test_size=.2, random_state=42)\n",
        "\n",
        "print(X_train.shape)\n",
        "print(X_test.shape)"
      ],
      "metadata": {
        "id": "114U3FgO_tpg",
        "colab": {
          "base_uri": "https://localhost:8080/"
        },
        "outputId": "babb9cc6-667f-47e0-d824-c7f481516616"
      },
      "execution_count": null,
      "outputs": [
        {
          "output_type": "stream",
          "name": "stdout",
          "text": [
            "(12997, 24)\n",
            "(3250, 24)\n"
          ]
        }
      ]
    }
  ],
  "metadata": {
    "colab": {
      "provenance": [],
      "include_colab_link": true
    },
    "kernelspec": {
      "display_name": "Python 3",
      "name": "python3"
    },
    "language_info": {
      "name": "python"
    }
  },
  "nbformat": 4,
  "nbformat_minor": 0
}