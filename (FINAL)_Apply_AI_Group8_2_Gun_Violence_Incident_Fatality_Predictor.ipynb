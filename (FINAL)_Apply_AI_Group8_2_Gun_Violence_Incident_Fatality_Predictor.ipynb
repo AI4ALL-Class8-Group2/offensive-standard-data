{
  "cells": [
    {
      "cell_type": "markdown",
      "metadata": {
        "id": "view-in-github",
        "colab_type": "text"
      },
      "source": [
        "<a href=\"https://colab.research.google.com/github/AI4ALL-Class8-Group2/offensive-standard-data/blob/google-colab-group/(FINAL)_Apply_AI_Group8_2_Gun_Violence_Incident_Fatality_Predictor.ipynb\" target=\"_parent\"><img src=\"https://colab.research.google.com/assets/colab-badge.svg\" alt=\"Open In Colab\"/></a>"
      ]
    },
    {
      "cell_type": "markdown",
      "source": [
        "**Title**\n",
        "\n",
        "Gun Violence Incident Fatality Predictor\n",
        "\n",
        "**Introduction**\n",
        "\n",
        "This project seeks to determine the fatality of gun violence incidents. The initial dataset comprised of data from 22 Police Departments across the United States.\n",
        "\n",
        "Dataset - https://github.com/the-trace-and-buzzfeed-news/local-police-data-analysis"
      ],
      "metadata": {
        "id": "-9ZsGhHR2OI1"
      }
    },
    {
      "cell_type": "markdown",
      "source": [
        "\n",
        "\n",
        "**4 PDs Dataset used**\n",
        "*   Baltimore PD\n",
        "*   Boston PD\n",
        "*   Los Angeles PD\n",
        "*   San Francisco PD\n",
        "\n",
        "**162,47 rows and 17 columns**\n",
        "\n",
        "**Data Selection**\n",
        "1.\tAll have ‘Non-Fatal Shooting’ and ‘Homicide-Gun’ variables under ‘offence_group’ column except Los Angeles.\n",
        "2.\tLos Angeles has ‘Homicide-Criminal-Fatal-Shooting’ and ‘Agg Assault - Shooting - Non-Fatal’ under ‘offence_category’.\n",
        "\n",
        "**Fatal** means ‘Homicide-Gun’ (as recorded by Baltimore PD, Boston PD, Newark PD, San Francisco PD) and ‘Homicide-Criminal-Fatal-Shooting’ (as recorded Los Angeles PD)\n",
        "\n",
        "**Non-Fatal** means ‘‘Non-Fatal Shooting’ (as recorded by Baltimore PD, Boston PD, Newark PD, San Francisco PD) and ‘Agg Assault - Shooting - Non-Fatal’ (as recorded by Los Angeles PD)\n",
        "\n",
        "**N0TE** Research started with 5 PDs but Newark-PD was dropped after further analysis"
      ],
      "metadata": {
        "id": "kS3ym1BU4U6i"
      }
    },
    {
      "cell_type": "code",
      "execution_count": 41,
      "metadata": {
        "id": "nuim8-b56gv4",
        "colab": {
          "base_uri": "https://localhost:8080/",
          "height": 481
        },
        "outputId": "7d8a3e6a-ed3a-4666-cbc7-ed99d45f4696"
      },
      "outputs": [
        {
          "output_type": "stream",
          "name": "stderr",
          "text": [
            "<ipython-input-41-27649a4ab19f>:3: DtypeWarning: Columns (14,16,19,22,29) have mixed types. Specify dtype option on import or set low_memory=False.\n",
            "  data = pd.read_csv(r'https://raw.githubusercontent.com/AI4ALL-Class8-Group2/offensive-standard-data/main/offenses_5pd_fatality.csv')\n"
          ]
        },
        {
          "output_type": "execute_result",
          "data": {
            "text/plain": [
              "                     row_hash          source   agency_name agency_ori  \\\n",
              "0  MDBPD0000-C419771020-01-01  BALTIMORE-MAIN  BALTIMORE-PD  MDBPD0000   \n",
              "1  MDBPD0000-B63BECA76C-01-01  BALTIMORE-MAIN  BALTIMORE-PD  MDBPD0000   \n",
              "2  MDBPD0000-8A7079014F-01-01  BALTIMORE-MAIN  BALTIMORE-PD  MDBPD0000   \n",
              "3  MDBPD0000-3EF6B5EBEF-01-01  BALTIMORE-MAIN  BALTIMORE-PD  MDBPD0000   \n",
              "4  MDBPD0000-5995BFA411-01-01  BALTIMORE-MAIN  BALTIMORE-PD  MDBPD0000   \n",
              "\n",
              "  agency_incident_id occurred_date occurred_time    offense_category  \\\n",
              "0            17V0351     7/26/2017           NaN  NON FATAL SHOOTING   \n",
              "1            17H0198     7/26/2017           NaN  NON FATAL SHOOTING   \n",
              "2            17V0349     7/25/2017           NaN  NON FATAL SHOOTING   \n",
              "3            17V0348     7/25/2017           NaN  NON FATAL SHOOTING   \n",
              "4            17V0346     7/24/2017           NaN  NON FATAL SHOOTING   \n",
              "\n",
              "  top_ucr_classification top_local_classification  ...  victim_ethnicity  \\\n",
              "0                    NaN       NON FATAL SHOOTING  ...               NaN   \n",
              "1                    NaN       NON FATAL SHOOTING  ...               NaN   \n",
              "2                    NaN       NON FATAL SHOOTING  ...               NaN   \n",
              "3                    NaN       NON FATAL SHOOTING  ...               NaN   \n",
              "4                    NaN       NON FATAL SHOOTING  ...               NaN   \n",
              "\n",
              "  victim_race_condensed victim_sex case_status arrest_ind  clearance_status  \\\n",
              "0        BLACK/HISPANIC       MALE        OPEN        NaN              OPEN   \n",
              "1        BLACK/HISPANIC     FEMALE        OPEN        NaN              OPEN   \n",
              "2        BLACK/HISPANIC       MALE        OPEN        NaN              OPEN   \n",
              "3        BLACK/HISPANIC       MALE        OPEN        NaN              OPEN   \n",
              "4        BLACK/HISPANIC       MALE        OPEN        NaN              OPEN   \n",
              "\n",
              "                clearance_group  clearance_date arrest_date Fatality Status  \n",
              "0  Open & No Arrest-Unspecified             NaN         NaN       Non-Fatal  \n",
              "1  Open & No Arrest-Unspecified             NaN         NaN       Non-Fatal  \n",
              "2  Open & No Arrest-Unspecified             NaN         NaN       Non-Fatal  \n",
              "3  Open & No Arrest-Unspecified             NaN         NaN       Non-Fatal  \n",
              "4  Open & No Arrest-Unspecified             NaN         NaN       Non-Fatal  \n",
              "\n",
              "[5 rows x 32 columns]"
            ],
            "text/html": [
              "\n",
              "  <div id=\"df-8f1c46fb-aa8f-490b-9d60-e522cdc32a39\" class=\"colab-df-container\">\n",
              "    <div>\n",
              "<style scoped>\n",
              "    .dataframe tbody tr th:only-of-type {\n",
              "        vertical-align: middle;\n",
              "    }\n",
              "\n",
              "    .dataframe tbody tr th {\n",
              "        vertical-align: top;\n",
              "    }\n",
              "\n",
              "    .dataframe thead th {\n",
              "        text-align: right;\n",
              "    }\n",
              "</style>\n",
              "<table border=\"1\" class=\"dataframe\">\n",
              "  <thead>\n",
              "    <tr style=\"text-align: right;\">\n",
              "      <th></th>\n",
              "      <th>row_hash</th>\n",
              "      <th>source</th>\n",
              "      <th>agency_name</th>\n",
              "      <th>agency_ori</th>\n",
              "      <th>agency_incident_id</th>\n",
              "      <th>occurred_date</th>\n",
              "      <th>occurred_time</th>\n",
              "      <th>offense_category</th>\n",
              "      <th>top_ucr_classification</th>\n",
              "      <th>top_local_classification</th>\n",
              "      <th>...</th>\n",
              "      <th>victim_ethnicity</th>\n",
              "      <th>victim_race_condensed</th>\n",
              "      <th>victim_sex</th>\n",
              "      <th>case_status</th>\n",
              "      <th>arrest_ind</th>\n",
              "      <th>clearance_status</th>\n",
              "      <th>clearance_group</th>\n",
              "      <th>clearance_date</th>\n",
              "      <th>arrest_date</th>\n",
              "      <th>Fatality Status</th>\n",
              "    </tr>\n",
              "  </thead>\n",
              "  <tbody>\n",
              "    <tr>\n",
              "      <th>0</th>\n",
              "      <td>MDBPD0000-C419771020-01-01</td>\n",
              "      <td>BALTIMORE-MAIN</td>\n",
              "      <td>BALTIMORE-PD</td>\n",
              "      <td>MDBPD0000</td>\n",
              "      <td>17V0351</td>\n",
              "      <td>7/26/2017</td>\n",
              "      <td>NaN</td>\n",
              "      <td>NON FATAL SHOOTING</td>\n",
              "      <td>NaN</td>\n",
              "      <td>NON FATAL SHOOTING</td>\n",
              "      <td>...</td>\n",
              "      <td>NaN</td>\n",
              "      <td>BLACK/HISPANIC</td>\n",
              "      <td>MALE</td>\n",
              "      <td>OPEN</td>\n",
              "      <td>NaN</td>\n",
              "      <td>OPEN</td>\n",
              "      <td>Open &amp; No Arrest-Unspecified</td>\n",
              "      <td>NaN</td>\n",
              "      <td>NaN</td>\n",
              "      <td>Non-Fatal</td>\n",
              "    </tr>\n",
              "    <tr>\n",
              "      <th>1</th>\n",
              "      <td>MDBPD0000-B63BECA76C-01-01</td>\n",
              "      <td>BALTIMORE-MAIN</td>\n",
              "      <td>BALTIMORE-PD</td>\n",
              "      <td>MDBPD0000</td>\n",
              "      <td>17H0198</td>\n",
              "      <td>7/26/2017</td>\n",
              "      <td>NaN</td>\n",
              "      <td>NON FATAL SHOOTING</td>\n",
              "      <td>NaN</td>\n",
              "      <td>NON FATAL SHOOTING</td>\n",
              "      <td>...</td>\n",
              "      <td>NaN</td>\n",
              "      <td>BLACK/HISPANIC</td>\n",
              "      <td>FEMALE</td>\n",
              "      <td>OPEN</td>\n",
              "      <td>NaN</td>\n",
              "      <td>OPEN</td>\n",
              "      <td>Open &amp; No Arrest-Unspecified</td>\n",
              "      <td>NaN</td>\n",
              "      <td>NaN</td>\n",
              "      <td>Non-Fatal</td>\n",
              "    </tr>\n",
              "    <tr>\n",
              "      <th>2</th>\n",
              "      <td>MDBPD0000-8A7079014F-01-01</td>\n",
              "      <td>BALTIMORE-MAIN</td>\n",
              "      <td>BALTIMORE-PD</td>\n",
              "      <td>MDBPD0000</td>\n",
              "      <td>17V0349</td>\n",
              "      <td>7/25/2017</td>\n",
              "      <td>NaN</td>\n",
              "      <td>NON FATAL SHOOTING</td>\n",
              "      <td>NaN</td>\n",
              "      <td>NON FATAL SHOOTING</td>\n",
              "      <td>...</td>\n",
              "      <td>NaN</td>\n",
              "      <td>BLACK/HISPANIC</td>\n",
              "      <td>MALE</td>\n",
              "      <td>OPEN</td>\n",
              "      <td>NaN</td>\n",
              "      <td>OPEN</td>\n",
              "      <td>Open &amp; No Arrest-Unspecified</td>\n",
              "      <td>NaN</td>\n",
              "      <td>NaN</td>\n",
              "      <td>Non-Fatal</td>\n",
              "    </tr>\n",
              "    <tr>\n",
              "      <th>3</th>\n",
              "      <td>MDBPD0000-3EF6B5EBEF-01-01</td>\n",
              "      <td>BALTIMORE-MAIN</td>\n",
              "      <td>BALTIMORE-PD</td>\n",
              "      <td>MDBPD0000</td>\n",
              "      <td>17V0348</td>\n",
              "      <td>7/25/2017</td>\n",
              "      <td>NaN</td>\n",
              "      <td>NON FATAL SHOOTING</td>\n",
              "      <td>NaN</td>\n",
              "      <td>NON FATAL SHOOTING</td>\n",
              "      <td>...</td>\n",
              "      <td>NaN</td>\n",
              "      <td>BLACK/HISPANIC</td>\n",
              "      <td>MALE</td>\n",
              "      <td>OPEN</td>\n",
              "      <td>NaN</td>\n",
              "      <td>OPEN</td>\n",
              "      <td>Open &amp; No Arrest-Unspecified</td>\n",
              "      <td>NaN</td>\n",
              "      <td>NaN</td>\n",
              "      <td>Non-Fatal</td>\n",
              "    </tr>\n",
              "    <tr>\n",
              "      <th>4</th>\n",
              "      <td>MDBPD0000-5995BFA411-01-01</td>\n",
              "      <td>BALTIMORE-MAIN</td>\n",
              "      <td>BALTIMORE-PD</td>\n",
              "      <td>MDBPD0000</td>\n",
              "      <td>17V0346</td>\n",
              "      <td>7/24/2017</td>\n",
              "      <td>NaN</td>\n",
              "      <td>NON FATAL SHOOTING</td>\n",
              "      <td>NaN</td>\n",
              "      <td>NON FATAL SHOOTING</td>\n",
              "      <td>...</td>\n",
              "      <td>NaN</td>\n",
              "      <td>BLACK/HISPANIC</td>\n",
              "      <td>MALE</td>\n",
              "      <td>OPEN</td>\n",
              "      <td>NaN</td>\n",
              "      <td>OPEN</td>\n",
              "      <td>Open &amp; No Arrest-Unspecified</td>\n",
              "      <td>NaN</td>\n",
              "      <td>NaN</td>\n",
              "      <td>Non-Fatal</td>\n",
              "    </tr>\n",
              "  </tbody>\n",
              "</table>\n",
              "<p>5 rows × 32 columns</p>\n",
              "</div>\n",
              "    <div class=\"colab-df-buttons\">\n",
              "\n",
              "  <div class=\"colab-df-container\">\n",
              "    <button class=\"colab-df-convert\" onclick=\"convertToInteractive('df-8f1c46fb-aa8f-490b-9d60-e522cdc32a39')\"\n",
              "            title=\"Convert this dataframe to an interactive table.\"\n",
              "            style=\"display:none;\">\n",
              "\n",
              "  <svg xmlns=\"http://www.w3.org/2000/svg\" height=\"24px\" viewBox=\"0 -960 960 960\">\n",
              "    <path d=\"M120-120v-720h720v720H120Zm60-500h600v-160H180v160Zm220 220h160v-160H400v160Zm0 220h160v-160H400v160ZM180-400h160v-160H180v160Zm440 0h160v-160H620v160ZM180-180h160v-160H180v160Zm440 0h160v-160H620v160Z\"/>\n",
              "  </svg>\n",
              "    </button>\n",
              "\n",
              "  <style>\n",
              "    .colab-df-container {\n",
              "      display:flex;\n",
              "      gap: 12px;\n",
              "    }\n",
              "\n",
              "    .colab-df-convert {\n",
              "      background-color: #E8F0FE;\n",
              "      border: none;\n",
              "      border-radius: 50%;\n",
              "      cursor: pointer;\n",
              "      display: none;\n",
              "      fill: #1967D2;\n",
              "      height: 32px;\n",
              "      padding: 0 0 0 0;\n",
              "      width: 32px;\n",
              "    }\n",
              "\n",
              "    .colab-df-convert:hover {\n",
              "      background-color: #E2EBFA;\n",
              "      box-shadow: 0px 1px 2px rgba(60, 64, 67, 0.3), 0px 1px 3px 1px rgba(60, 64, 67, 0.15);\n",
              "      fill: #174EA6;\n",
              "    }\n",
              "\n",
              "    .colab-df-buttons div {\n",
              "      margin-bottom: 4px;\n",
              "    }\n",
              "\n",
              "    [theme=dark] .colab-df-convert {\n",
              "      background-color: #3B4455;\n",
              "      fill: #D2E3FC;\n",
              "    }\n",
              "\n",
              "    [theme=dark] .colab-df-convert:hover {\n",
              "      background-color: #434B5C;\n",
              "      box-shadow: 0px 1px 3px 1px rgba(0, 0, 0, 0.15);\n",
              "      filter: drop-shadow(0px 1px 2px rgba(0, 0, 0, 0.3));\n",
              "      fill: #FFFFFF;\n",
              "    }\n",
              "  </style>\n",
              "\n",
              "    <script>\n",
              "      const buttonEl =\n",
              "        document.querySelector('#df-8f1c46fb-aa8f-490b-9d60-e522cdc32a39 button.colab-df-convert');\n",
              "      buttonEl.style.display =\n",
              "        google.colab.kernel.accessAllowed ? 'block' : 'none';\n",
              "\n",
              "      async function convertToInteractive(key) {\n",
              "        const element = document.querySelector('#df-8f1c46fb-aa8f-490b-9d60-e522cdc32a39');\n",
              "        const dataTable =\n",
              "          await google.colab.kernel.invokeFunction('convertToInteractive',\n",
              "                                                    [key], {});\n",
              "        if (!dataTable) return;\n",
              "\n",
              "        const docLinkHtml = 'Like what you see? Visit the ' +\n",
              "          '<a target=\"_blank\" href=https://colab.research.google.com/notebooks/data_table.ipynb>data table notebook</a>'\n",
              "          + ' to learn more about interactive tables.';\n",
              "        element.innerHTML = '';\n",
              "        dataTable['output_type'] = 'display_data';\n",
              "        await google.colab.output.renderOutput(dataTable, element);\n",
              "        const docLink = document.createElement('div');\n",
              "        docLink.innerHTML = docLinkHtml;\n",
              "        element.appendChild(docLink);\n",
              "      }\n",
              "    </script>\n",
              "  </div>\n",
              "\n",
              "\n",
              "<div id=\"df-9227efc0-c9a5-4d5b-be4d-658652dbc7b8\">\n",
              "  <button class=\"colab-df-quickchart\" onclick=\"quickchart('df-9227efc0-c9a5-4d5b-be4d-658652dbc7b8')\"\n",
              "            title=\"Suggest charts\"\n",
              "            style=\"display:none;\">\n",
              "\n",
              "<svg xmlns=\"http://www.w3.org/2000/svg\" height=\"24px\"viewBox=\"0 0 24 24\"\n",
              "     width=\"24px\">\n",
              "    <g>\n",
              "        <path d=\"M19 3H5c-1.1 0-2 .9-2 2v14c0 1.1.9 2 2 2h14c1.1 0 2-.9 2-2V5c0-1.1-.9-2-2-2zM9 17H7v-7h2v7zm4 0h-2V7h2v10zm4 0h-2v-4h2v4z\"/>\n",
              "    </g>\n",
              "</svg>\n",
              "  </button>\n",
              "\n",
              "<style>\n",
              "  .colab-df-quickchart {\n",
              "      --bg-color: #E8F0FE;\n",
              "      --fill-color: #1967D2;\n",
              "      --hover-bg-color: #E2EBFA;\n",
              "      --hover-fill-color: #174EA6;\n",
              "      --disabled-fill-color: #AAA;\n",
              "      --disabled-bg-color: #DDD;\n",
              "  }\n",
              "\n",
              "  [theme=dark] .colab-df-quickchart {\n",
              "      --bg-color: #3B4455;\n",
              "      --fill-color: #D2E3FC;\n",
              "      --hover-bg-color: #434B5C;\n",
              "      --hover-fill-color: #FFFFFF;\n",
              "      --disabled-bg-color: #3B4455;\n",
              "      --disabled-fill-color: #666;\n",
              "  }\n",
              "\n",
              "  .colab-df-quickchart {\n",
              "    background-color: var(--bg-color);\n",
              "    border: none;\n",
              "    border-radius: 50%;\n",
              "    cursor: pointer;\n",
              "    display: none;\n",
              "    fill: var(--fill-color);\n",
              "    height: 32px;\n",
              "    padding: 0;\n",
              "    width: 32px;\n",
              "  }\n",
              "\n",
              "  .colab-df-quickchart:hover {\n",
              "    background-color: var(--hover-bg-color);\n",
              "    box-shadow: 0 1px 2px rgba(60, 64, 67, 0.3), 0 1px 3px 1px rgba(60, 64, 67, 0.15);\n",
              "    fill: var(--button-hover-fill-color);\n",
              "  }\n",
              "\n",
              "  .colab-df-quickchart-complete:disabled,\n",
              "  .colab-df-quickchart-complete:disabled:hover {\n",
              "    background-color: var(--disabled-bg-color);\n",
              "    fill: var(--disabled-fill-color);\n",
              "    box-shadow: none;\n",
              "  }\n",
              "\n",
              "  .colab-df-spinner {\n",
              "    border: 2px solid var(--fill-color);\n",
              "    border-color: transparent;\n",
              "    border-bottom-color: var(--fill-color);\n",
              "    animation:\n",
              "      spin 1s steps(1) infinite;\n",
              "  }\n",
              "\n",
              "  @keyframes spin {\n",
              "    0% {\n",
              "      border-color: transparent;\n",
              "      border-bottom-color: var(--fill-color);\n",
              "      border-left-color: var(--fill-color);\n",
              "    }\n",
              "    20% {\n",
              "      border-color: transparent;\n",
              "      border-left-color: var(--fill-color);\n",
              "      border-top-color: var(--fill-color);\n",
              "    }\n",
              "    30% {\n",
              "      border-color: transparent;\n",
              "      border-left-color: var(--fill-color);\n",
              "      border-top-color: var(--fill-color);\n",
              "      border-right-color: var(--fill-color);\n",
              "    }\n",
              "    40% {\n",
              "      border-color: transparent;\n",
              "      border-right-color: var(--fill-color);\n",
              "      border-top-color: var(--fill-color);\n",
              "    }\n",
              "    60% {\n",
              "      border-color: transparent;\n",
              "      border-right-color: var(--fill-color);\n",
              "    }\n",
              "    80% {\n",
              "      border-color: transparent;\n",
              "      border-right-color: var(--fill-color);\n",
              "      border-bottom-color: var(--fill-color);\n",
              "    }\n",
              "    90% {\n",
              "      border-color: transparent;\n",
              "      border-bottom-color: var(--fill-color);\n",
              "    }\n",
              "  }\n",
              "</style>\n",
              "\n",
              "  <script>\n",
              "    async function quickchart(key) {\n",
              "      const quickchartButtonEl =\n",
              "        document.querySelector('#' + key + ' button');\n",
              "      quickchartButtonEl.disabled = true;  // To prevent multiple clicks.\n",
              "      quickchartButtonEl.classList.add('colab-df-spinner');\n",
              "      try {\n",
              "        const charts = await google.colab.kernel.invokeFunction(\n",
              "            'suggestCharts', [key], {});\n",
              "      } catch (error) {\n",
              "        console.error('Error during call to suggestCharts:', error);\n",
              "      }\n",
              "      quickchartButtonEl.classList.remove('colab-df-spinner');\n",
              "      quickchartButtonEl.classList.add('colab-df-quickchart-complete');\n",
              "    }\n",
              "    (() => {\n",
              "      let quickchartButtonEl =\n",
              "        document.querySelector('#df-9227efc0-c9a5-4d5b-be4d-658652dbc7b8 button');\n",
              "      quickchartButtonEl.style.display =\n",
              "        google.colab.kernel.accessAllowed ? 'block' : 'none';\n",
              "    })();\n",
              "  </script>\n",
              "</div>\n",
              "    </div>\n",
              "  </div>\n"
            ],
            "application/vnd.google.colaboratory.intrinsic+json": {
              "type": "dataframe",
              "variable_name": "data"
            }
          },
          "metadata": {},
          "execution_count": 41
        }
      ],
      "source": [
        "#import library and load dataset\n",
        "import pandas as pd\n",
        "data = pd.read_csv(r'https://raw.githubusercontent.com/AI4ALL-Class8-Group2/offensive-standard-data/main/offenses_5pd_fatality.csv')\n",
        "\n",
        "\n",
        "# show the first 5 rows of the data\n",
        "data.head()"
      ]
    },
    {
      "cell_type": "code",
      "execution_count": 42,
      "metadata": {
        "id": "abolTbYV3SUJ",
        "colab": {
          "base_uri": "https://localhost:8080/"
        },
        "outputId": "13968c6c-7fac-4676-d5c0-9c5c5ee29e31"
      },
      "outputs": [
        {
          "output_type": "stream",
          "name": "stdout",
          "text": [
            "(18616, 32)\n"
          ]
        }
      ],
      "source": [
        "# show number of rows and columns\n",
        "print(data.shape)"
      ]
    },
    {
      "cell_type": "code",
      "execution_count": 43,
      "metadata": {
        "id": "iUTOaFhA3buE",
        "colab": {
          "base_uri": "https://localhost:8080/"
        },
        "outputId": "c4ca0207-babc-4386-a757-ab3c556407b2"
      },
      "outputs": [
        {
          "output_type": "stream",
          "name": "stdout",
          "text": [
            "<class 'pandas.core.frame.DataFrame'>\n",
            "RangeIndex: 18616 entries, 0 to 18615\n",
            "Data columns (total 32 columns):\n",
            " #   Column                    Non-Null Count  Dtype  \n",
            "---  ------                    --------------  -----  \n",
            " 0   row_hash                  18616 non-null  object \n",
            " 1   source                    18616 non-null  object \n",
            " 2   agency_name               18616 non-null  object \n",
            " 3   agency_ori                18616 non-null  object \n",
            " 4   agency_incident_id        18616 non-null  object \n",
            " 5   occurred_date             18610 non-null  object \n",
            " 6   occurred_time             13433 non-null  object \n",
            " 7   offense_category          18616 non-null  object \n",
            " 8   top_ucr_classification    9748 non-null   object \n",
            " 9   top_local_classification  14640 non-null  object \n",
            " 10  nibrs_code                0 non-null      float64\n",
            " 11  weapon                    16223 non-null  object \n",
            " 12  firearm_ind               18616 non-null  object \n",
            " 13  offense_group             18616 non-null  object \n",
            " 14  domestic_violence_ind     1795 non-null   object \n",
            " 15  family_violence_ind       0 non-null      float64\n",
            " 16  gang_activity_ind         10062 non-null  object \n",
            " 17  relationship_to_offender  0 non-null      float64\n",
            " 18  circumstance              737 non-null    object \n",
            " 19  inside_outside            1789 non-null   object \n",
            " 20  victim_age                17018 non-null  float64\n",
            " 21  victim_race               17183 non-null  object \n",
            " 22  victim_ethnicity          9676 non-null   object \n",
            " 23  victim_race_condensed     18616 non-null  object \n",
            " 24  victim_sex                17188 non-null  object \n",
            " 25  case_status               16981 non-null  object \n",
            " 26  arrest_ind                12678 non-null  object \n",
            " 27  clearance_status          18162 non-null  object \n",
            " 28  clearance_group           18616 non-null  object \n",
            " 29  clearance_date            342 non-null    object \n",
            " 30  arrest_date               0 non-null      float64\n",
            " 31  Fatality Status           18616 non-null  object \n",
            "dtypes: float64(5), object(27)\n",
            "memory usage: 4.5+ MB\n",
            "None\n"
          ]
        }
      ],
      "source": [
        "# show data info\n",
        "print(data.info())"
      ]
    },
    {
      "cell_type": "code",
      "execution_count": 44,
      "metadata": {
        "id": "NjTVfbyp3fPz",
        "colab": {
          "base_uri": "https://localhost:8080/"
        },
        "outputId": "8495525a-79f8-4ab6-b389-785fe09a25bd"
      },
      "outputs": [
        {
          "output_type": "stream",
          "name": "stdout",
          "text": [
            "Index(['row_hash', 'source', 'agency_name', 'agency_ori', 'agency_incident_id',\n",
            "       'occurred_date', 'occurred_time', 'offense_category',\n",
            "       'top_ucr_classification', 'top_local_classification', 'nibrs_code',\n",
            "       'weapon', 'firearm_ind', 'offense_group', 'domestic_violence_ind',\n",
            "       'family_violence_ind', 'gang_activity_ind', 'relationship_to_offender',\n",
            "       'circumstance', 'inside_outside', 'victim_age', 'victim_race',\n",
            "       'victim_ethnicity', 'victim_race_condensed', 'victim_sex',\n",
            "       'case_status', 'arrest_ind', 'clearance_status', 'clearance_group',\n",
            "       'clearance_date', 'arrest_date', 'Fatality Status'],\n",
            "      dtype='object')\n"
          ]
        }
      ],
      "source": [
        "# show feature names\n",
        "print(data.keys())"
      ]
    },
    {
      "cell_type": "code",
      "execution_count": 45,
      "metadata": {
        "id": "kycy4_J-60qU",
        "colab": {
          "base_uri": "https://localhost:8080/"
        },
        "outputId": "fc32f186-49b3-4233-e66f-ba69bf4fa55a"
      },
      "outputs": [
        {
          "output_type": "stream",
          "name": "stdout",
          "text": [
            "(18616, 32)\n",
            "(0, 32)\n"
          ]
        }
      ],
      "source": [
        "# delete rows with missing values\n",
        "print(data.shape)\n",
        "print(data.dropna().shape)"
      ]
    },
    {
      "cell_type": "code",
      "execution_count": 46,
      "metadata": {
        "id": "JWlSH9rw55VV",
        "colab": {
          "base_uri": "https://localhost:8080/",
          "height": 116
        },
        "outputId": "074a8a4c-c9bc-4f2e-cf05-df52d4519891"
      },
      "outputs": [
        {
          "output_type": "execute_result",
          "data": {
            "text/plain": [
              "Empty DataFrame\n",
              "Columns: [row_hash, source, agency_name, agency_ori, agency_incident_id, occurred_date, occurred_time, offense_category, top_ucr_classification, top_local_classification, nibrs_code, weapon, firearm_ind, offense_group, domestic_violence_ind, family_violence_ind, gang_activity_ind, relationship_to_offender, circumstance, inside_outside, victim_age, victim_race, victim_ethnicity, victim_race_condensed, victim_sex, case_status, arrest_ind, clearance_status, clearance_group, clearance_date, arrest_date, Fatality Status]\n",
              "Index: []\n",
              "\n",
              "[0 rows x 32 columns]"
            ],
            "text/html": [
              "\n",
              "  <div id=\"df-76552725-2b74-44f7-b0a0-740e00143ee4\" class=\"colab-df-container\">\n",
              "    <div>\n",
              "<style scoped>\n",
              "    .dataframe tbody tr th:only-of-type {\n",
              "        vertical-align: middle;\n",
              "    }\n",
              "\n",
              "    .dataframe tbody tr th {\n",
              "        vertical-align: top;\n",
              "    }\n",
              "\n",
              "    .dataframe thead th {\n",
              "        text-align: right;\n",
              "    }\n",
              "</style>\n",
              "<table border=\"1\" class=\"dataframe\">\n",
              "  <thead>\n",
              "    <tr style=\"text-align: right;\">\n",
              "      <th></th>\n",
              "      <th>row_hash</th>\n",
              "      <th>source</th>\n",
              "      <th>agency_name</th>\n",
              "      <th>agency_ori</th>\n",
              "      <th>agency_incident_id</th>\n",
              "      <th>occurred_date</th>\n",
              "      <th>occurred_time</th>\n",
              "      <th>offense_category</th>\n",
              "      <th>top_ucr_classification</th>\n",
              "      <th>top_local_classification</th>\n",
              "      <th>...</th>\n",
              "      <th>victim_ethnicity</th>\n",
              "      <th>victim_race_condensed</th>\n",
              "      <th>victim_sex</th>\n",
              "      <th>case_status</th>\n",
              "      <th>arrest_ind</th>\n",
              "      <th>clearance_status</th>\n",
              "      <th>clearance_group</th>\n",
              "      <th>clearance_date</th>\n",
              "      <th>arrest_date</th>\n",
              "      <th>Fatality Status</th>\n",
              "    </tr>\n",
              "  </thead>\n",
              "  <tbody>\n",
              "  </tbody>\n",
              "</table>\n",
              "<p>0 rows × 32 columns</p>\n",
              "</div>\n",
              "    <div class=\"colab-df-buttons\">\n",
              "\n",
              "  <div class=\"colab-df-container\">\n",
              "    <button class=\"colab-df-convert\" onclick=\"convertToInteractive('df-76552725-2b74-44f7-b0a0-740e00143ee4')\"\n",
              "            title=\"Convert this dataframe to an interactive table.\"\n",
              "            style=\"display:none;\">\n",
              "\n",
              "  <svg xmlns=\"http://www.w3.org/2000/svg\" height=\"24px\" viewBox=\"0 -960 960 960\">\n",
              "    <path d=\"M120-120v-720h720v720H120Zm60-500h600v-160H180v160Zm220 220h160v-160H400v160Zm0 220h160v-160H400v160ZM180-400h160v-160H180v160Zm440 0h160v-160H620v160ZM180-180h160v-160H180v160Zm440 0h160v-160H620v160Z\"/>\n",
              "  </svg>\n",
              "    </button>\n",
              "\n",
              "  <style>\n",
              "    .colab-df-container {\n",
              "      display:flex;\n",
              "      gap: 12px;\n",
              "    }\n",
              "\n",
              "    .colab-df-convert {\n",
              "      background-color: #E8F0FE;\n",
              "      border: none;\n",
              "      border-radius: 50%;\n",
              "      cursor: pointer;\n",
              "      display: none;\n",
              "      fill: #1967D2;\n",
              "      height: 32px;\n",
              "      padding: 0 0 0 0;\n",
              "      width: 32px;\n",
              "    }\n",
              "\n",
              "    .colab-df-convert:hover {\n",
              "      background-color: #E2EBFA;\n",
              "      box-shadow: 0px 1px 2px rgba(60, 64, 67, 0.3), 0px 1px 3px 1px rgba(60, 64, 67, 0.15);\n",
              "      fill: #174EA6;\n",
              "    }\n",
              "\n",
              "    .colab-df-buttons div {\n",
              "      margin-bottom: 4px;\n",
              "    }\n",
              "\n",
              "    [theme=dark] .colab-df-convert {\n",
              "      background-color: #3B4455;\n",
              "      fill: #D2E3FC;\n",
              "    }\n",
              "\n",
              "    [theme=dark] .colab-df-convert:hover {\n",
              "      background-color: #434B5C;\n",
              "      box-shadow: 0px 1px 3px 1px rgba(0, 0, 0, 0.15);\n",
              "      filter: drop-shadow(0px 1px 2px rgba(0, 0, 0, 0.3));\n",
              "      fill: #FFFFFF;\n",
              "    }\n",
              "  </style>\n",
              "\n",
              "    <script>\n",
              "      const buttonEl =\n",
              "        document.querySelector('#df-76552725-2b74-44f7-b0a0-740e00143ee4 button.colab-df-convert');\n",
              "      buttonEl.style.display =\n",
              "        google.colab.kernel.accessAllowed ? 'block' : 'none';\n",
              "\n",
              "      async function convertToInteractive(key) {\n",
              "        const element = document.querySelector('#df-76552725-2b74-44f7-b0a0-740e00143ee4');\n",
              "        const dataTable =\n",
              "          await google.colab.kernel.invokeFunction('convertToInteractive',\n",
              "                                                    [key], {});\n",
              "        if (!dataTable) return;\n",
              "\n",
              "        const docLinkHtml = 'Like what you see? Visit the ' +\n",
              "          '<a target=\"_blank\" href=https://colab.research.google.com/notebooks/data_table.ipynb>data table notebook</a>'\n",
              "          + ' to learn more about interactive tables.';\n",
              "        element.innerHTML = '';\n",
              "        dataTable['output_type'] = 'display_data';\n",
              "        await google.colab.output.renderOutput(dataTable, element);\n",
              "        const docLink = document.createElement('div');\n",
              "        docLink.innerHTML = docLinkHtml;\n",
              "        element.appendChild(docLink);\n",
              "      }\n",
              "    </script>\n",
              "  </div>\n",
              "\n",
              "    </div>\n",
              "  </div>\n"
            ],
            "application/vnd.google.colaboratory.intrinsic+json": {
              "type": "dataframe"
            }
          },
          "metadata": {},
          "execution_count": 46
        }
      ],
      "source": [
        "# duplicate rows\n",
        "data[data.duplicated(keep=False)]"
      ]
    },
    {
      "cell_type": "code",
      "execution_count": 47,
      "metadata": {
        "id": "6q-AS1Cy7K7L",
        "colab": {
          "base_uri": "https://localhost:8080/"
        },
        "outputId": "b0de7ddd-77ce-4642-94b0-7099e6a6af6d"
      },
      "outputs": [
        {
          "output_type": "stream",
          "name": "stdout",
          "text": [
            "(18616, 32)\n",
            "(18616, 32)\n"
          ]
        }
      ],
      "source": [
        "# drop duplicate rows\n",
        "print(data.shape)\n",
        "data.drop_duplicates(inplace=True)\n",
        "print(data.shape)"
      ]
    },
    {
      "cell_type": "code",
      "source": [
        "# replace \"m\" with \"male\"\n",
        "data['victim_sex'] = data['victim_sex']\\\n",
        "    .apply(lambda n_group: 'MALE' if n_group == 'M' else n_group)\n",
        "data['victim_sex'].value_counts()"
      ],
      "metadata": {
        "id": "g_mkDULcCcAP",
        "colab": {
          "base_uri": "https://localhost:8080/"
        },
        "outputId": "17835f6a-cbd7-413a-f7ba-ef4b2f522365"
      },
      "execution_count": 48,
      "outputs": [
        {
          "output_type": "execute_result",
          "data": {
            "text/plain": [
              "victim_sex\n",
              "MALE             15401\n",
              "F                 1255\n",
              "FEMALE             486\n",
              "OTH                 24\n",
              "X                   14\n",
              "UNCLEAR              4\n",
              "U                    3\n",
              "TRANSGENDERED        1\n",
              "Name: count, dtype: int64"
            ]
          },
          "metadata": {},
          "execution_count": 48
        }
      ]
    },
    {
      "cell_type": "code",
      "source": [
        "# replace \"f\" with \"female\"\n",
        "data['victim_sex'] = data['victim_sex']\\\n",
        "    .apply(lambda n_group: 'FEMALE' if n_group == 'F' else n_group)\n",
        "data['victim_sex'].value_counts()\n"
      ],
      "metadata": {
        "id": "_ZBfp252DE9U",
        "colab": {
          "base_uri": "https://localhost:8080/"
        },
        "outputId": "aa36aa9e-7d2f-4f0c-d2a0-d5cf524e344f"
      },
      "execution_count": 49,
      "outputs": [
        {
          "output_type": "execute_result",
          "data": {
            "text/plain": [
              "victim_sex\n",
              "MALE             15401\n",
              "FEMALE            1741\n",
              "OTH                 24\n",
              "X                   14\n",
              "UNCLEAR              4\n",
              "U                    3\n",
              "TRANSGENDERED        1\n",
              "Name: count, dtype: int64"
            ]
          },
          "metadata": {},
          "execution_count": 49
        }
      ]
    },
    {
      "cell_type": "code",
      "source": [
        "# consolidate other categories into \"other\"\n",
        "data['victim_sex'] = data['victim_sex']\\\n",
        "    .apply(lambda n_group: 'OTHER' if n_group == 'OTH' else n_group)\n",
        "data['victim_sex'] = data['victim_sex']\\\n",
        "    .apply(lambda n_group: 'OTHER' if n_group == 'X' else n_group)\n",
        "data['victim_sex'] = data['victim_sex']\\\n",
        "    .apply(lambda n_group: 'OTHER' if n_group == 'UNCLEAR' else n_group)\n",
        "data['victim_sex'] = data['victim_sex']\\\n",
        "    .apply(lambda n_group: 'OTHER' if n_group == 'U' else n_group)\n",
        "data['victim_sex'] = data['victim_sex']\\\n",
        "    .apply(lambda n_group: 'OTHER' if n_group == 'TRANSGENDERED' else n_group)\n",
        "data['victim_sex'].value_counts()"
      ],
      "metadata": {
        "colab": {
          "base_uri": "https://localhost:8080/"
        },
        "id": "eoKdlGxSzQn6",
        "outputId": "a46554f5-aae6-46ff-e8b6-9a0d1674e423"
      },
      "execution_count": 50,
      "outputs": [
        {
          "output_type": "execute_result",
          "data": {
            "text/plain": [
              "victim_sex\n",
              "MALE      15401\n",
              "FEMALE     1741\n",
              "OTHER        46\n",
              "Name: count, dtype: int64"
            ]
          },
          "metadata": {},
          "execution_count": 50
        }
      ]
    },
    {
      "cell_type": "code",
      "execution_count": 51,
      "metadata": {
        "id": "ziausvYkjB04",
        "colab": {
          "base_uri": "https://localhost:8080/",
          "height": 423
        },
        "outputId": "ffe5e265-c0d4-4530-cf33-ccda6693432f"
      },
      "outputs": [
        {
          "output_type": "execute_result",
          "data": {
            "text/plain": [
              "<Axes: ylabel='count'>"
            ]
          },
          "metadata": {},
          "execution_count": 51
        },
        {
          "output_type": "display_data",
          "data": {
            "text/plain": [
              "<Figure size 640x480 with 1 Axes>"
            ],
            "image/png": "[encoded data removed]"
          },
          "metadata": {}
        }
      ],
      "source": [
        "# pie chart for victim_sex\n",
        "data['victim_sex'].str.lower().value_counts(dropna=False).plot.pie()"
      ]
    },
    {
      "cell_type": "code",
      "source": [
        "#delete  columns not relevant to research\n",
        "data = data.drop(data.columns[[0,1,3,4,8,9,10,12,22]], axis=1)\n",
        "# missing values\n",
        "print(data.isnull().sum())"
      ],
      "metadata": {
        "id": "1jHwczHIFk-5",
        "colab": {
          "base_uri": "https://localhost:8080/"
        },
        "outputId": "4d20da4b-5be4-47b6-a72a-3530350f1afd"
      },
      "execution_count": 52,
      "outputs": [
        {
          "output_type": "stream",
          "name": "stdout",
          "text": [
            "agency_name                     0\n",
            "occurred_date                   6\n",
            "occurred_time                5183\n",
            "offense_category                0\n",
            "weapon                       2393\n",
            "offense_group                   0\n",
            "domestic_violence_ind       16821\n",
            "family_violence_ind         18616\n",
            "gang_activity_ind            8554\n",
            "relationship_to_offender    18616\n",
            "circumstance                17879\n",
            "inside_outside              16827\n",
            "victim_age                   1598\n",
            "victim_race                  1433\n",
            "victim_race_condensed           0\n",
            "victim_sex                   1428\n",
            "case_status                  1635\n",
            "arrest_ind                   5938\n",
            "clearance_status              454\n",
            "clearance_group                 0\n",
            "clearance_date              18274\n",
            "arrest_date                 18616\n",
            "Fatality Status                 0\n",
            "dtype: int64\n"
          ]
        }
      ]
    },
    {
      "cell_type": "code",
      "source": [
        "#delete  columns with missing values > .75\n",
        "data.drop([ 'domestic_violence_ind','family_violence_ind','relationship_to_offender','circumstance',\n",
        "'inside_outside','arrest_date','clearance_date'], axis=1, inplace=True)\n",
        "print(data.isnull().sum())"
      ],
      "metadata": {
        "colab": {
          "base_uri": "https://localhost:8080/"
        },
        "id": "DlyuMQ35qjok",
        "outputId": "f769264c-8131-43fc-a9c2-07b35c6afe78"
      },
      "execution_count": 53,
      "outputs": [
        {
          "output_type": "stream",
          "name": "stdout",
          "text": [
            "agency_name                 0\n",
            "occurred_date               6\n",
            "occurred_time            5183\n",
            "offense_category            0\n",
            "weapon                   2393\n",
            "offense_group               0\n",
            "gang_activity_ind        8554\n",
            "victim_age               1598\n",
            "victim_race              1433\n",
            "victim_race_condensed       0\n",
            "victim_sex               1428\n",
            "case_status              1635\n",
            "arrest_ind               5938\n",
            "clearance_status          454\n",
            "clearance_group             0\n",
            "Fatality Status             0\n",
            "dtype: int64\n"
          ]
        }
      ]
    },
    {
      "cell_type": "code",
      "source": [
        "# quasi constant values\n",
        "for val in data.columns.sort_values():\n",
        "    if (len(data[val].unique()) < 3):\n",
        "        print(data[val].value_counts())"
      ],
      "metadata": {
        "id": "NfpyHbXMFpt_",
        "colab": {
          "base_uri": "https://localhost:8080/"
        },
        "outputId": "2d6d7c6f-c11d-4529-d4a6-c3287dc841e5"
      },
      "execution_count": 54,
      "outputs": [
        {
          "output_type": "stream",
          "name": "stdout",
          "text": [
            "Fatality Status\n",
            "Non-Fatal    13544\n",
            "Fatal         5072\n",
            "Name: count, dtype: int64\n"
          ]
        }
      ]
    },
    {
      "cell_type": "markdown",
      "source": [
        "**Drop Newark-PD**\n",
        "because it contained over 90% of missing values from clearance_status,weapon,victim_age, victim_sex, victim_race, case_status."
      ],
      "metadata": {
        "id": "TaNlkMkf87Pu"
      }
    },
    {
      "cell_type": "code",
      "source": [
        "#drop Newark-PD\n",
        "data.drop(index=data[data['agency_name'] =='NEWARK-PD'].index, inplace=True)\n",
        "print(data.isnull().sum())"
      ],
      "metadata": {
        "colab": {
          "base_uri": "https://localhost:8080/"
        },
        "id": "8uYeGaE58gPy",
        "outputId": "59c8de46-08a9-4832-99cd-7402a8366fed"
      },
      "execution_count": 55,
      "outputs": [
        {
          "output_type": "stream",
          "name": "stdout",
          "text": [
            "agency_name                 0\n",
            "occurred_date               0\n",
            "occurred_time            5171\n",
            "offense_category            0\n",
            "weapon                     24\n",
            "offense_group               0\n",
            "gang_activity_ind        7091\n",
            "victim_age                155\n",
            "victim_race                 6\n",
            "victim_race_condensed       0\n",
            "victim_sex                  5\n",
            "case_status               680\n",
            "arrest_ind               5938\n",
            "clearance_status            0\n",
            "clearance_group             0\n",
            "Fatality Status             0\n",
            "dtype: int64\n"
          ]
        }
      ]
    },
    {
      "cell_type": "code",
      "source": [
        "print(data['agency_name'].value_counts())"
      ],
      "metadata": {
        "colab": {
          "base_uri": "https://localhost:8080/"
        },
        "id": "b9pQh9LefhGT",
        "outputId": "e1cf7d73-ffc7-47ed-ae8a-ff7de453a2f6"
      },
      "execution_count": 56,
      "outputs": [
        {
          "output_type": "stream",
          "name": "stdout",
          "text": [
            "agency_name\n",
            "LOS-ANGELES-PD      9156\n",
            "BALTIMORE-PD        4892\n",
            "SAN-FRANCISCO-PD    1500\n",
            "BOSTON-PD            699\n",
            "Name: count, dtype: int64\n"
          ]
        }
      ]
    },
    {
      "cell_type": "code",
      "source": [
        "# impute missing values mode and  mean\n",
        "data['victim_age'].fillna(round(data['victim_age'].mean(), 2), inplace=True)\n",
        "data['victim_sex'].fillna(data['victim_sex'].mode()[0], inplace=True)\n",
        "data['weapon'].fillna(data['weapon'].mode()[0], inplace=True)\n",
        "data['victim_race'].fillna(data['victim_race'].mode()[0], inplace=True)\n",
        "data['case_status'].fillna(data['case_status'].mode()[0], inplace=True)\n",
        "data['gang_activity_ind'].fillna(data['gang_activity_ind'].mode()[0], inplace=True)\n",
        "\n",
        "# Dropping these two causes us to drop all of the data from San Francisco and Baltimore.\n",
        "data.dropna(axis=0, subset=['occurred_time'], inplace=True)\n",
        "data.dropna(axis=0, subset=['arrest_ind'], inplace=True)\n",
        "print(data.isnull().sum())"
      ],
      "metadata": {
        "id": "N16FLDqGvz-Y",
        "colab": {
          "base_uri": "https://localhost:8080/"
        },
        "outputId": "5979c324-fb67-4726-c010-5f7100ee333e"
      },
      "execution_count": 57,
      "outputs": [
        {
          "output_type": "stream",
          "name": "stdout",
          "text": [
            "agency_name              0\n",
            "occurred_date            0\n",
            "occurred_time            0\n",
            "offense_category         0\n",
            "weapon                   0\n",
            "offense_group            0\n",
            "gang_activity_ind        0\n",
            "victim_age               0\n",
            "victim_race              0\n",
            "victim_race_condensed    0\n",
            "victim_sex               0\n",
            "case_status              0\n",
            "arrest_ind               0\n",
            "clearance_status         0\n",
            "clearance_group          0\n",
            "Fatality Status          0\n",
            "dtype: int64\n"
          ]
        }
      ]
    },
    {
      "cell_type": "code",
      "source": [
        "print(data['agency_name'].value_counts())"
      ],
      "metadata": {
        "colab": {
          "base_uri": "https://localhost:8080/"
        },
        "id": "oLSVdnsLfkVU",
        "outputId": "5816059e-b1bb-4c63-a11c-edabefe57f83"
      },
      "execution_count": 58,
      "outputs": [
        {
          "output_type": "stream",
          "name": "stdout",
          "text": [
            "agency_name\n",
            "LOS-ANGELES-PD    9156\n",
            "BOSTON-PD          245\n",
            "Name: count, dtype: int64\n"
          ]
        }
      ]
    },
    {
      "cell_type": "markdown",
      "source": [
        "# Categorization\n",
        "**victim_age**\n",
        "\n",
        "**victim_sex**\n",
        "\n",
        "**victim_race**"
      ],
      "metadata": {
        "id": "1J9sRZaNhISC"
      }
    },
    {
      "cell_type": "code",
      "source": [
        "# A column of name 'age-groupings' is created in DataFrame\n",
        "# Categorizing Age into 4 Categories\n",
        "# Child: (0,17], 0 is excluded & 17 is included\n",
        "# Younger Adult: (17,25], 17 is excluded & 63 is included\n",
        "# Older Adult: (25,63], 40 is excluded & 63 is included\n",
        "# Elderly: (63,99], 63 is excluded & 99 is included\n",
        "data['victim_age_groupings'] = pd.cut(x=data['victim_age'], bins=[0, 17, 25, 63, 99],\n",
        "                     labels=['Child', 'Younger Adult', 'Older Adult',\n",
        "                             'Elderly'])\n",
        "\n",
        "# Check the number of values in each bin\n",
        "print(\"Categories: \")\n",
        "print(data['victim_age_groupings'].value_counts())"
      ],
      "metadata": {
        "colab": {
          "base_uri": "https://localhost:8080/"
        },
        "id": "du82NhDqe3tx",
        "outputId": "0f93c5ef-0366-4b0e-ec25-5ae00d793351"
      },
      "execution_count": 59,
      "outputs": [
        {
          "output_type": "stream",
          "name": "stdout",
          "text": [
            "Categories: \n",
            "victim_age_groupings\n",
            "Older Adult      4613\n",
            "Younger Adult    3879\n",
            "Child             841\n",
            "Elderly            68\n",
            "Name: count, dtype: int64\n"
          ]
        }
      ]
    },
    {
      "cell_type": "code",
      "source": [
        "#categorize victim_sex\n",
        "data['victim_sex'] = data['victim_sex']\\\n",
        "  .apply(lambda n_group: 'UNKNOWN' if n_group in ['X','U','UNCLEAR','OTH'] else n_group)\n",
        "data.victim_sex.unique()"
      ],
      "metadata": {
        "colab": {
          "base_uri": "https://localhost:8080/"
        },
        "id": "PRje4uwOpp8-",
        "outputId": "cb346f0e-275e-4189-83d3-1ff31678d497"
      },
      "execution_count": 60,
      "outputs": [
        {
          "output_type": "execute_result",
          "data": {
            "text/plain": [
              "array(['MALE', 'FEMALE', 'OTHER'], dtype=object)"
            ]
          },
          "metadata": {},
          "execution_count": 60
        }
      ]
    },
    {
      "cell_type": "code",
      "source": [
        "#categorize victim_race\n",
        "data['victim_race'] = data['victim_race']\\\n",
        "  .apply(lambda n_group: 'OTHER' if n_group in ['blank','I','INDIAN','O','OTH','OTHER','U','UNKNOWN'] else n_group)"
      ],
      "metadata": {
        "id": "aFkyH-aPJEcL"
      },
      "execution_count": 61,
      "outputs": []
    },
    {
      "cell_type": "code",
      "source": [
        "data['victim_race'] = data['victim_race']\\\n",
        "  .apply(lambda n_group: 'BLACK' if n_group in ['B','BLACK NON-HISPANIC'] else n_group)\n"
      ],
      "metadata": {
        "id": "ruj4awNuRLsn"
      },
      "execution_count": 62,
      "outputs": []
    },
    {
      "cell_type": "code",
      "source": [
        "data['victim_race'] = data['victim_race']\\\n",
        "  .apply(lambda n_group: 'HISPANIC' if n_group in ['H','WHITE HISPANIC'] else n_group)"
      ],
      "metadata": {
        "id": "U8XCaBbCNMw7"
      },
      "execution_count": 63,
      "outputs": []
    },
    {
      "cell_type": "code",
      "source": [
        "data['victim_race'] = data['victim_race']\\\n",
        "  .apply(lambda n_group: 'WHITE' if n_group in ['W','WHITE NON-HISPANIC'] else n_group)"
      ],
      "metadata": {
        "id": "oNKyob42R2ly"
      },
      "execution_count": 64,
      "outputs": []
    },
    {
      "cell_type": "code",
      "source": [
        "data['victim_race'] = data['victim_race']\\\n",
        "  .apply(lambda n_group: 'ASIAN OR PACIFIC ISLANDER' if n_group in ['A','ASIAN'] else n_group)"
      ],
      "metadata": {
        "id": "sqtrB69ESSfw"
      },
      "execution_count": 65,
      "outputs": []
    },
    {
      "cell_type": "code",
      "source": [
        "data.victim_race.unique()"
      ],
      "metadata": {
        "colab": {
          "base_uri": "https://localhost:8080/"
        },
        "id": "9QA9gT65Kh7R",
        "outputId": "28490409-749b-4804-b742-19e53c31d423"
      },
      "execution_count": 66,
      "outputs": [
        {
          "output_type": "execute_result",
          "data": {
            "text/plain": [
              "array(['BLACK', 'WHITE', 'HISPANIC', 'BLACK HISPANIC', 'OTHER',\n",
              "       'ASIAN OR PACIFIC ISLANDER'], dtype=object)"
            ]
          },
          "metadata": {},
          "execution_count": 66
        }
      ]
    },
    {
      "cell_type": "code",
      "source": [
        "data.victim_sex.unique()"
      ],
      "metadata": {
        "colab": {
          "base_uri": "https://localhost:8080/"
        },
        "id": "cUlDmZd_TcgH",
        "outputId": "763f1a29-d0f2-48dc-d01b-f6ce9b21da33"
      },
      "execution_count": 67,
      "outputs": [
        {
          "output_type": "execute_result",
          "data": {
            "text/plain": [
              "array(['MALE', 'FEMALE', 'OTHER'], dtype=object)"
            ]
          },
          "metadata": {},
          "execution_count": 67
        }
      ]
    },
    {
      "cell_type": "code",
      "source": [
        "data.rename(columns={\"Fatality Status\": \"fatality_status\"}, inplace= True)\n",
        "print(data['fatality_status'].value_counts())"
      ],
      "metadata": {
        "id": "9YyXCj2u2qJx",
        "colab": {
          "base_uri": "https://localhost:8080/"
        },
        "outputId": "6ad97130-6282-42b7-8f30-07fcec484d60"
      },
      "execution_count": 68,
      "outputs": [
        {
          "output_type": "stream",
          "name": "stdout",
          "text": [
            "fatality_status\n",
            "Non-Fatal    7601\n",
            "Fatal        1800\n",
            "Name: count, dtype: int64\n"
          ]
        }
      ]
    },
    {
      "cell_type": "code",
      "source": [
        "print(data['victim_race'].value_counts())"
      ],
      "metadata": {
        "colab": {
          "base_uri": "https://localhost:8080/"
        },
        "id": "9tjGyLhv4X-c",
        "outputId": "8997cf4d-1865-4748-a0eb-db3022cddf07"
      },
      "execution_count": 69,
      "outputs": [
        {
          "output_type": "stream",
          "name": "stdout",
          "text": [
            "victim_race\n",
            "HISPANIC                     4575\n",
            "BLACK                        4301\n",
            "WHITE                         268\n",
            "OTHER                         209\n",
            "ASIAN OR PACIFIC ISLANDER      38\n",
            "BLACK HISPANIC                 10\n",
            "Name: count, dtype: int64\n"
          ]
        }
      ]
    },
    {
      "cell_type": "code",
      "source": [
        "print(data['victim_race_condensed'].value_counts())"
      ],
      "metadata": {
        "colab": {
          "base_uri": "https://localhost:8080/"
        },
        "id": "hFZFvY_y4be7",
        "outputId": "af27c49c-4e78-481f-ee21-daf4e67b5715"
      },
      "execution_count": 70,
      "outputs": [
        {
          "output_type": "stream",
          "name": "stdout",
          "text": [
            "victim_race_condensed\n",
            "BLACK/HISPANIC    8887\n",
            "WHITE              263\n",
            "OTHER/UNKNOWN      251\n",
            "Name: count, dtype: int64\n"
          ]
        }
      ]
    },
    {
      "cell_type": "code",
      "source": [
        "#Remove extra/repetitive columns\n",
        "data.drop(['victim_age', 'offense_group', 'offense_category', 'victim_race_condensed'], axis=1, inplace=True)\n",
        "data.head()"
      ],
      "metadata": {
        "id": "8bSP9J4G1qqs",
        "colab": {
          "base_uri": "https://localhost:8080/",
          "height": 206
        },
        "outputId": "88898ffc-6e37-447c-8af5-60f5c765aacd"
      },
      "execution_count": 71,
      "outputs": [
        {
          "output_type": "execute_result",
          "data": {
            "text/plain": [
              "     agency_name occurred_date occurred_time weapon gang_activity_ind  \\\n",
              "5346   BOSTON-PD      1/8/2015         22:45    GSW                 Y   \n",
              "5347   BOSTON-PD     1/20/2015         11:04    GSW                 Y   \n",
              "5348   BOSTON-PD     2/11/2015         10:30    GSW                 Y   \n",
              "5349   BOSTON-PD     3/14/2015         15:46    GSW                 Y   \n",
              "5350   BOSTON-PD     3/15/2015          3:59    GSW                 Y   \n",
              "\n",
              "     victim_race victim_sex  case_status arrest_ind clearance_status  \\\n",
              "5346       BLACK       MALE  INVEST CONT          N             OPEN   \n",
              "5347       WHITE       MALE  INVEST CONT          N       CLEARED-EX   \n",
              "5348       BLACK       MALE  INVEST CONT          Y   CLEARED-ARREST   \n",
              "5349       WHITE       MALE  INVEST CONT          N       CLEARED-EX   \n",
              "5350       BLACK       MALE  INVEST CONT          N             OPEN   \n",
              "\n",
              "                          clearance_group fatality_status victim_age_groupings  \n",
              "5346         Open & No Arrest-Unspecified           Fatal        Younger Adult  \n",
              "5347                           Cleared-Ex           Fatal          Older Adult  \n",
              "5348  Cleared-Arrest & Arrest-Unspecified           Fatal        Younger Adult  \n",
              "5349                           Cleared-Ex           Fatal          Older Adult  \n",
              "5350         Open & No Arrest-Unspecified           Fatal        Younger Adult  "
            ],
            "text/html": [
              "\n",
              "  <div id=\"df-134762ec-f2f9-4c65-8fd2-ae7c61e5189d\" class=\"colab-df-container\">\n",
              "    <div>\n",
              "<style scoped>\n",
              "    .dataframe tbody tr th:only-of-type {\n",
              "        vertical-align: middle;\n",
              "    }\n",
              "\n",
              "    .dataframe tbody tr th {\n",
              "        vertical-align: top;\n",
              "    }\n",
              "\n",
              "    .dataframe thead th {\n",
              "        text-align: right;\n",
              "    }\n",
              "</style>\n",
              "<table border=\"1\" class=\"dataframe\">\n",
              "  <thead>\n",
              "    <tr style=\"text-align: right;\">\n",
              "      <th></th>\n",
              "      <th>agency_name</th>\n",
              "      <th>occurred_date</th>\n",
              "      <th>occurred_time</th>\n",
              "      <th>weapon</th>\n",
              "      <th>gang_activity_ind</th>\n",
              "      <th>victim_race</th>\n",
              "      <th>victim_sex</th>\n",
              "      <th>case_status</th>\n",
              "      <th>arrest_ind</th>\n",
              "      <th>clearance_status</th>\n",
              "      <th>clearance_group</th>\n",
              "      <th>fatality_status</th>\n",
              "      <th>victim_age_groupings</th>\n",
              "    </tr>\n",
              "  </thead>\n",
              "  <tbody>\n",
              "    <tr>\n",
              "      <th>5346</th>\n",
              "      <td>BOSTON-PD</td>\n",
              "      <td>1/8/2015</td>\n",
              "      <td>22:45</td>\n",
              "      <td>GSW</td>\n",
              "      <td>Y</td>\n",
              "      <td>BLACK</td>\n",
              "      <td>MALE</td>\n",
              "      <td>INVEST CONT</td>\n",
              "      <td>N</td>\n",
              "      <td>OPEN</td>\n",
              "      <td>Open &amp; No Arrest-Unspecified</td>\n",
              "      <td>Fatal</td>\n",
              "      <td>Younger Adult</td>\n",
              "    </tr>\n",
              "    <tr>\n",
              "      <th>5347</th>\n",
              "      <td>BOSTON-PD</td>\n",
              "      <td>1/20/2015</td>\n",
              "      <td>11:04</td>\n",
              "      <td>GSW</td>\n",
              "      <td>Y</td>\n",
              "      <td>WHITE</td>\n",
              "      <td>MALE</td>\n",
              "      <td>INVEST CONT</td>\n",
              "      <td>N</td>\n",
              "      <td>CLEARED-EX</td>\n",
              "      <td>Cleared-Ex</td>\n",
              "      <td>Fatal</td>\n",
              "      <td>Older Adult</td>\n",
              "    </tr>\n",
              "    <tr>\n",
              "      <th>5348</th>\n",
              "      <td>BOSTON-PD</td>\n",
              "      <td>2/11/2015</td>\n",
              "      <td>10:30</td>\n",
              "      <td>GSW</td>\n",
              "      <td>Y</td>\n",
              "      <td>BLACK</td>\n",
              "      <td>MALE</td>\n",
              "      <td>INVEST CONT</td>\n",
              "      <td>Y</td>\n",
              "      <td>CLEARED-ARREST</td>\n",
              "      <td>Cleared-Arrest &amp; Arrest-Unspecified</td>\n",
              "      <td>Fatal</td>\n",
              "      <td>Younger Adult</td>\n",
              "    </tr>\n",
              "    <tr>\n",
              "      <th>5349</th>\n",
              "      <td>BOSTON-PD</td>\n",
              "      <td>3/14/2015</td>\n",
              "      <td>15:46</td>\n",
              "      <td>GSW</td>\n",
              "      <td>Y</td>\n",
              "      <td>WHITE</td>\n",
              "      <td>MALE</td>\n",
              "      <td>INVEST CONT</td>\n",
              "      <td>N</td>\n",
              "      <td>CLEARED-EX</td>\n",
              "      <td>Cleared-Ex</td>\n",
              "      <td>Fatal</td>\n",
              "      <td>Older Adult</td>\n",
              "    </tr>\n",
              "    <tr>\n",
              "      <th>5350</th>\n",
              "      <td>BOSTON-PD</td>\n",
              "      <td>3/15/2015</td>\n",
              "      <td>3:59</td>\n",
              "      <td>GSW</td>\n",
              "      <td>Y</td>\n",
              "      <td>BLACK</td>\n",
              "      <td>MALE</td>\n",
              "      <td>INVEST CONT</td>\n",
              "      <td>N</td>\n",
              "      <td>OPEN</td>\n",
              "      <td>Open &amp; No Arrest-Unspecified</td>\n",
              "      <td>Fatal</td>\n",
              "      <td>Younger Adult</td>\n",
              "    </tr>\n",
              "  </tbody>\n",
              "</table>\n",
              "</div>\n",
              "    <div class=\"colab-df-buttons\">\n",
              "\n",
              "  <div class=\"colab-df-container\">\n",
              "    <button class=\"colab-df-convert\" onclick=\"convertToInteractive('df-134762ec-f2f9-4c65-8fd2-ae7c61e5189d')\"\n",
              "            title=\"Convert this dataframe to an interactive table.\"\n",
              "            style=\"display:none;\">\n",
              "\n",
              "  <svg xmlns=\"http://www.w3.org/2000/svg\" height=\"24px\" viewBox=\"0 -960 960 960\">\n",
              "    <path d=\"M120-120v-720h720v720H120Zm60-500h600v-160H180v160Zm220 220h160v-160H400v160Zm0 220h160v-160H400v160ZM180-400h160v-160H180v160Zm440 0h160v-160H620v160ZM180-180h160v-160H180v160Zm440 0h160v-160H620v160Z\"/>\n",
              "  </svg>\n",
              "    </button>\n",
              "\n",
              "  <style>\n",
              "    .colab-df-container {\n",
              "      display:flex;\n",
              "      gap: 12px;\n",
              "    }\n",
              "\n",
              "    .colab-df-convert {\n",
              "      background-color: #E8F0FE;\n",
              "      border: none;\n",
              "      border-radius: 50%;\n",
              "      cursor: pointer;\n",
              "      display: none;\n",
              "      fill: #1967D2;\n",
              "      height: 32px;\n",
              "      padding: 0 0 0 0;\n",
              "      width: 32px;\n",
              "    }\n",
              "\n",
              "    .colab-df-convert:hover {\n",
              "      background-color: #E2EBFA;\n",
              "      box-shadow: 0px 1px 2px rgba(60, 64, 67, 0.3), 0px 1px 3px 1px rgba(60, 64, 67, 0.15);\n",
              "      fill: #174EA6;\n",
              "    }\n",
              "\n",
              "    .colab-df-buttons div {\n",
              "      margin-bottom: 4px;\n",
              "    }\n",
              "\n",
              "    [theme=dark] .colab-df-convert {\n",
              "      background-color: #3B4455;\n",
              "      fill: #D2E3FC;\n",
              "    }\n",
              "\n",
              "    [theme=dark] .colab-df-convert:hover {\n",
              "      background-color: #434B5C;\n",
              "      box-shadow: 0px 1px 3px 1px rgba(0, 0, 0, 0.15);\n",
              "      filter: drop-shadow(0px 1px 2px rgba(0, 0, 0, 0.3));\n",
              "      fill: #FFFFFF;\n",
              "    }\n",
              "  </style>\n",
              "\n",
              "    <script>\n",
              "      const buttonEl =\n",
              "        document.querySelector('#df-134762ec-f2f9-4c65-8fd2-ae7c61e5189d button.colab-df-convert');\n",
              "      buttonEl.style.display =\n",
              "        google.colab.kernel.accessAllowed ? 'block' : 'none';\n",
              "\n",
              "      async function convertToInteractive(key) {\n",
              "        const element = document.querySelector('#df-134762ec-f2f9-4c65-8fd2-ae7c61e5189d');\n",
              "        const dataTable =\n",
              "          await google.colab.kernel.invokeFunction('convertToInteractive',\n",
              "                                                    [key], {});\n",
              "        if (!dataTable) return;\n",
              "\n",
              "        const docLinkHtml = 'Like what you see? Visit the ' +\n",
              "          '<a target=\"_blank\" href=https://colab.research.google.com/notebooks/data_table.ipynb>data table notebook</a>'\n",
              "          + ' to learn more about interactive tables.';\n",
              "        element.innerHTML = '';\n",
              "        dataTable['output_type'] = 'display_data';\n",
              "        await google.colab.output.renderOutput(dataTable, element);\n",
              "        const docLink = document.createElement('div');\n",
              "        docLink.innerHTML = docLinkHtml;\n",
              "        element.appendChild(docLink);\n",
              "      }\n",
              "    </script>\n",
              "  </div>\n",
              "\n",
              "\n",
              "<div id=\"df-e5590049-bf30-4710-a25d-d5f246c057d9\">\n",
              "  <button class=\"colab-df-quickchart\" onclick=\"quickchart('df-e5590049-bf30-4710-a25d-d5f246c057d9')\"\n",
              "            title=\"Suggest charts\"\n",
              "            style=\"display:none;\">\n",
              "\n",
              "<svg xmlns=\"http://www.w3.org/2000/svg\" height=\"24px\"viewBox=\"0 0 24 24\"\n",
              "     width=\"24px\">\n",
              "    <g>\n",
              "        <path d=\"M19 3H5c-1.1 0-2 .9-2 2v14c0 1.1.9 2 2 2h14c1.1 0 2-.9 2-2V5c0-1.1-.9-2-2-2zM9 17H7v-7h2v7zm4 0h-2V7h2v10zm4 0h-2v-4h2v4z\"/>\n",
              "    </g>\n",
              "</svg>\n",
              "  </button>\n",
              "\n",
              "<style>\n",
              "  .colab-df-quickchart {\n",
              "      --bg-color: #E8F0FE;\n",
              "      --fill-color: #1967D2;\n",
              "      --hover-bg-color: #E2EBFA;\n",
              "      --hover-fill-color: #174EA6;\n",
              "      --disabled-fill-color: #AAA;\n",
              "      --disabled-bg-color: #DDD;\n",
              "  }\n",
              "\n",
              "  [theme=dark] .colab-df-quickchart {\n",
              "      --bg-color: #3B4455;\n",
              "      --fill-color: #D2E3FC;\n",
              "      --hover-bg-color: #434B5C;\n",
              "      --hover-fill-color: #FFFFFF;\n",
              "      --disabled-bg-color: #3B4455;\n",
              "      --disabled-fill-color: #666;\n",
              "  }\n",
              "\n",
              "  .colab-df-quickchart {\n",
              "    background-color: var(--bg-color);\n",
              "    border: none;\n",
              "    border-radius: 50%;\n",
              "    cursor: pointer;\n",
              "    display: none;\n",
              "    fill: var(--fill-color);\n",
              "    height: 32px;\n",
              "    padding: 0;\n",
              "    width: 32px;\n",
              "  }\n",
              "\n",
              "  .colab-df-quickchart:hover {\n",
              "    background-color: var(--hover-bg-color);\n",
              "    box-shadow: 0 1px 2px rgba(60, 64, 67, 0.3), 0 1px 3px 1px rgba(60, 64, 67, 0.15);\n",
              "    fill: var(--button-hover-fill-color);\n",
              "  }\n",
              "\n",
              "  .colab-df-quickchart-complete:disabled,\n",
              "  .colab-df-quickchart-complete:disabled:hover {\n",
              "    background-color: var(--disabled-bg-color);\n",
              "    fill: var(--disabled-fill-color);\n",
              "    box-shadow: none;\n",
              "  }\n",
              "\n",
              "  .colab-df-spinner {\n",
              "    border: 2px solid var(--fill-color);\n",
              "    border-color: transparent;\n",
              "    border-bottom-color: var(--fill-color);\n",
              "    animation:\n",
              "      spin 1s steps(1) infinite;\n",
              "  }\n",
              "\n",
              "  @keyframes spin {\n",
              "    0% {\n",
              "      border-color: transparent;\n",
              "      border-bottom-color: var(--fill-color);\n",
              "      border-left-color: var(--fill-color);\n",
              "    }\n",
              "    20% {\n",
              "      border-color: transparent;\n",
              "      border-left-color: var(--fill-color);\n",
              "      border-top-color: var(--fill-color);\n",
              "    }\n",
              "    30% {\n",
              "      border-color: transparent;\n",
              "      border-left-color: var(--fill-color);\n",
              "      border-top-color: var(--fill-color);\n",
              "      border-right-color: var(--fill-color);\n",
              "    }\n",
              "    40% {\n",
              "      border-color: transparent;\n",
              "      border-right-color: var(--fill-color);\n",
              "      border-top-color: var(--fill-color);\n",
              "    }\n",
              "    60% {\n",
              "      border-color: transparent;\n",
              "      border-right-color: var(--fill-color);\n",
              "    }\n",
              "    80% {\n",
              "      border-color: transparent;\n",
              "      border-right-color: var(--fill-color);\n",
              "      border-bottom-color: var(--fill-color);\n",
              "    }\n",
              "    90% {\n",
              "      border-color: transparent;\n",
              "      border-bottom-color: var(--fill-color);\n",
              "    }\n",
              "  }\n",
              "</style>\n",
              "\n",
              "  <script>\n",
              "    async function quickchart(key) {\n",
              "      const quickchartButtonEl =\n",
              "        document.querySelector('#' + key + ' button');\n",
              "      quickchartButtonEl.disabled = true;  // To prevent multiple clicks.\n",
              "      quickchartButtonEl.classList.add('colab-df-spinner');\n",
              "      try {\n",
              "        const charts = await google.colab.kernel.invokeFunction(\n",
              "            'suggestCharts', [key], {});\n",
              "      } catch (error) {\n",
              "        console.error('Error during call to suggestCharts:', error);\n",
              "      }\n",
              "      quickchartButtonEl.classList.remove('colab-df-spinner');\n",
              "      quickchartButtonEl.classList.add('colab-df-quickchart-complete');\n",
              "    }\n",
              "    (() => {\n",
              "      let quickchartButtonEl =\n",
              "        document.querySelector('#df-e5590049-bf30-4710-a25d-d5f246c057d9 button');\n",
              "      quickchartButtonEl.style.display =\n",
              "        google.colab.kernel.accessAllowed ? 'block' : 'none';\n",
              "    })();\n",
              "  </script>\n",
              "</div>\n",
              "    </div>\n",
              "  </div>\n"
            ],
            "application/vnd.google.colaboratory.intrinsic+json": {
              "type": "dataframe",
              "variable_name": "data",
              "repr_error": "0"
            }
          },
          "metadata": {},
          "execution_count": 71
        }
      ]
    },
    {
      "cell_type": "code",
      "source": [
        "#Create categorizations for season (fall, spring, summer, winter)\n",
        "data['occurred_date'] = pd.to_datetime(data['occurred_date'])\n",
        "data['month'] = data['occurred_date'].dt.month\n",
        "data['season'] = pd.cut(data['month'],\n",
        "                        bins=[0, 2, 5, 8, 11, 13],\n",
        "                        labels=['Winter','Spring','Summer','Fall', 'Winter2'])\n",
        "data['season'] = data['season']\\\n",
        "  .apply(lambda n_group: 'Winter' if n_group in ['Winter2'] else n_group)\n",
        "\n",
        "#Create column for year and then remove date and month columns.\n",
        "data['year'] = data['occurred_date'].dt.year\n",
        "data.drop(['month','occurred_date'], axis=1, inplace=True)\n",
        "data.head(5)"
      ],
      "metadata": {
        "id": "M3-TO9EP6xjl",
        "colab": {
          "base_uri": "https://localhost:8080/",
          "height": 206
        },
        "outputId": "c67861d1-28f0-457e-89ca-c1255f70d37d"
      },
      "execution_count": 72,
      "outputs": [
        {
          "output_type": "execute_result",
          "data": {
            "text/plain": [
              "     agency_name occurred_time weapon gang_activity_ind victim_race  \\\n",
              "5346   BOSTON-PD         22:45    GSW                 Y       BLACK   \n",
              "5347   BOSTON-PD         11:04    GSW                 Y       WHITE   \n",
              "5348   BOSTON-PD         10:30    GSW                 Y       BLACK   \n",
              "5349   BOSTON-PD         15:46    GSW                 Y       WHITE   \n",
              "5350   BOSTON-PD          3:59    GSW                 Y       BLACK   \n",
              "\n",
              "     victim_sex  case_status arrest_ind clearance_status  \\\n",
              "5346       MALE  INVEST CONT          N             OPEN   \n",
              "5347       MALE  INVEST CONT          N       CLEARED-EX   \n",
              "5348       MALE  INVEST CONT          Y   CLEARED-ARREST   \n",
              "5349       MALE  INVEST CONT          N       CLEARED-EX   \n",
              "5350       MALE  INVEST CONT          N             OPEN   \n",
              "\n",
              "                          clearance_group fatality_status  \\\n",
              "5346         Open & No Arrest-Unspecified           Fatal   \n",
              "5347                           Cleared-Ex           Fatal   \n",
              "5348  Cleared-Arrest & Arrest-Unspecified           Fatal   \n",
              "5349                           Cleared-Ex           Fatal   \n",
              "5350         Open & No Arrest-Unspecified           Fatal   \n",
              "\n",
              "     victim_age_groupings  season  year  \n",
              "5346        Younger Adult  Winter  2015  \n",
              "5347          Older Adult  Winter  2015  \n",
              "5348        Younger Adult  Winter  2015  \n",
              "5349          Older Adult  Spring  2015  \n",
              "5350        Younger Adult  Spring  2015  "
            ],
            "text/html": [
              "\n",
              "  <div id=\"df-28887603-3a0e-4166-ab25-c5ab50e4647a\" class=\"colab-df-container\">\n",
              "    <div>\n",
              "<style scoped>\n",
              "    .dataframe tbody tr th:only-of-type {\n",
              "        vertical-align: middle;\n",
              "    }\n",
              "\n",
              "    .dataframe tbody tr th {\n",
              "        vertical-align: top;\n",
              "    }\n",
              "\n",
              "    .dataframe thead th {\n",
              "        text-align: right;\n",
              "    }\n",
              "</style>\n",
              "<table border=\"1\" class=\"dataframe\">\n",
              "  <thead>\n",
              "    <tr style=\"text-align: right;\">\n",
              "      <th></th>\n",
              "      <th>agency_name</th>\n",
              "      <th>occurred_time</th>\n",
              "      <th>weapon</th>\n",
              "      <th>gang_activity_ind</th>\n",
              "      <th>victim_race</th>\n",
              "      <th>victim_sex</th>\n",
              "      <th>case_status</th>\n",
              "      <th>arrest_ind</th>\n",
              "      <th>clearance_status</th>\n",
              "      <th>clearance_group</th>\n",
              "      <th>fatality_status</th>\n",
              "      <th>victim_age_groupings</th>\n",
              "      <th>season</th>\n",
              "      <th>year</th>\n",
              "    </tr>\n",
              "  </thead>\n",
              "  <tbody>\n",
              "    <tr>\n",
              "      <th>5346</th>\n",
              "      <td>BOSTON-PD</td>\n",
              "      <td>22:45</td>\n",
              "      <td>GSW</td>\n",
              "      <td>Y</td>\n",
              "      <td>BLACK</td>\n",
              "      <td>MALE</td>\n",
              "      <td>INVEST CONT</td>\n",
              "      <td>N</td>\n",
              "      <td>OPEN</td>\n",
              "      <td>Open &amp; No Arrest-Unspecified</td>\n",
              "      <td>Fatal</td>\n",
              "      <td>Younger Adult</td>\n",
              "      <td>Winter</td>\n",
              "      <td>2015</td>\n",
              "    </tr>\n",
              "    <tr>\n",
              "      <th>5347</th>\n",
              "      <td>BOSTON-PD</td>\n",
              "      <td>11:04</td>\n",
              "      <td>GSW</td>\n",
              "      <td>Y</td>\n",
              "      <td>WHITE</td>\n",
              "      <td>MALE</td>\n",
              "      <td>INVEST CONT</td>\n",
              "      <td>N</td>\n",
              "      <td>CLEARED-EX</td>\n",
              "      <td>Cleared-Ex</td>\n",
              "      <td>Fatal</td>\n",
              "      <td>Older Adult</td>\n",
              "      <td>Winter</td>\n",
              "      <td>2015</td>\n",
              "    </tr>\n",
              "    <tr>\n",
              "      <th>5348</th>\n",
              "      <td>BOSTON-PD</td>\n",
              "      <td>10:30</td>\n",
              "      <td>GSW</td>\n",
              "      <td>Y</td>\n",
              "      <td>BLACK</td>\n",
              "      <td>MALE</td>\n",
              "      <td>INVEST CONT</td>\n",
              "      <td>Y</td>\n",
              "      <td>CLEARED-ARREST</td>\n",
              "      <td>Cleared-Arrest &amp; Arrest-Unspecified</td>\n",
              "      <td>Fatal</td>\n",
              "      <td>Younger Adult</td>\n",
              "      <td>Winter</td>\n",
              "      <td>2015</td>\n",
              "    </tr>\n",
              "    <tr>\n",
              "      <th>5349</th>\n",
              "      <td>BOSTON-PD</td>\n",
              "      <td>15:46</td>\n",
              "      <td>GSW</td>\n",
              "      <td>Y</td>\n",
              "      <td>WHITE</td>\n",
              "      <td>MALE</td>\n",
              "      <td>INVEST CONT</td>\n",
              "      <td>N</td>\n",
              "      <td>CLEARED-EX</td>\n",
              "      <td>Cleared-Ex</td>\n",
              "      <td>Fatal</td>\n",
              "      <td>Older Adult</td>\n",
              "      <td>Spring</td>\n",
              "      <td>2015</td>\n",
              "    </tr>\n",
              "    <tr>\n",
              "      <th>5350</th>\n",
              "      <td>BOSTON-PD</td>\n",
              "      <td>3:59</td>\n",
              "      <td>GSW</td>\n",
              "      <td>Y</td>\n",
              "      <td>BLACK</td>\n",
              "      <td>MALE</td>\n",
              "      <td>INVEST CONT</td>\n",
              "      <td>N</td>\n",
              "      <td>OPEN</td>\n",
              "      <td>Open &amp; No Arrest-Unspecified</td>\n",
              "      <td>Fatal</td>\n",
              "      <td>Younger Adult</td>\n",
              "      <td>Spring</td>\n",
              "      <td>2015</td>\n",
              "    </tr>\n",
              "  </tbody>\n",
              "</table>\n",
              "</div>\n",
              "    <div class=\"colab-df-buttons\">\n",
              "\n",
              "  <div class=\"colab-df-container\">\n",
              "    <button class=\"colab-df-convert\" onclick=\"convertToInteractive('df-28887603-3a0e-4166-ab25-c5ab50e4647a')\"\n",
              "            title=\"Convert this dataframe to an interactive table.\"\n",
              "            style=\"display:none;\">\n",
              "\n",
              "  <svg xmlns=\"http://www.w3.org/2000/svg\" height=\"24px\" viewBox=\"0 -960 960 960\">\n",
              "    <path d=\"M120-120v-720h720v720H120Zm60-500h600v-160H180v160Zm220 220h160v-160H400v160Zm0 220h160v-160H400v160ZM180-400h160v-160H180v160Zm440 0h160v-160H620v160ZM180-180h160v-160H180v160Zm440 0h160v-160H620v160Z\"/>\n",
              "  </svg>\n",
              "    </button>\n",
              "\n",
              "  <style>\n",
              "    .colab-df-container {\n",
              "      display:flex;\n",
              "      gap: 12px;\n",
              "    }\n",
              "\n",
              "    .colab-df-convert {\n",
              "      background-color: #E8F0FE;\n",
              "      border: none;\n",
              "      border-radius: 50%;\n",
              "      cursor: pointer;\n",
              "      display: none;\n",
              "      fill: #1967D2;\n",
              "      height: 32px;\n",
              "      padding: 0 0 0 0;\n",
              "      width: 32px;\n",
              "    }\n",
              "\n",
              "    .colab-df-convert:hover {\n",
              "      background-color: #E2EBFA;\n",
              "      box-shadow: 0px 1px 2px rgba(60, 64, 67, 0.3), 0px 1px 3px 1px rgba(60, 64, 67, 0.15);\n",
              "      fill: #174EA6;\n",
              "    }\n",
              "\n",
              "    .colab-df-buttons div {\n",
              "      margin-bottom: 4px;\n",
              "    }\n",
              "\n",
              "    [theme=dark] .colab-df-convert {\n",
              "      background-color: #3B4455;\n",
              "      fill: #D2E3FC;\n",
              "    }\n",
              "\n",
              "    [theme=dark] .colab-df-convert:hover {\n",
              "      background-color: #434B5C;\n",
              "      box-shadow: 0px 1px 3px 1px rgba(0, 0, 0, 0.15);\n",
              "      filter: drop-shadow(0px 1px 2px rgba(0, 0, 0, 0.3));\n",
              "      fill: #FFFFFF;\n",
              "    }\n",
              "  </style>\n",
              "\n",
              "    <script>\n",
              "      const buttonEl =\n",
              "        document.querySelector('#df-28887603-3a0e-4166-ab25-c5ab50e4647a button.colab-df-convert');\n",
              "      buttonEl.style.display =\n",
              "        google.colab.kernel.accessAllowed ? 'block' : 'none';\n",
              "\n",
              "      async function convertToInteractive(key) {\n",
              "        const element = document.querySelector('#df-28887603-3a0e-4166-ab25-c5ab50e4647a');\n",
              "        const dataTable =\n",
              "          await google.colab.kernel.invokeFunction('convertToInteractive',\n",
              "                                                    [key], {});\n",
              "        if (!dataTable) return;\n",
              "\n",
              "        const docLinkHtml = 'Like what you see? Visit the ' +\n",
              "          '<a target=\"_blank\" href=https://colab.research.google.com/notebooks/data_table.ipynb>data table notebook</a>'\n",
              "          + ' to learn more about interactive tables.';\n",
              "        element.innerHTML = '';\n",
              "        dataTable['output_type'] = 'display_data';\n",
              "        await google.colab.output.renderOutput(dataTable, element);\n",
              "        const docLink = document.createElement('div');\n",
              "        docLink.innerHTML = docLinkHtml;\n",
              "        element.appendChild(docLink);\n",
              "      }\n",
              "    </script>\n",
              "  </div>\n",
              "\n",
              "\n",
              "<div id=\"df-fdda765c-b5a4-4d13-8672-518bd2b254f0\">\n",
              "  <button class=\"colab-df-quickchart\" onclick=\"quickchart('df-fdda765c-b5a4-4d13-8672-518bd2b254f0')\"\n",
              "            title=\"Suggest charts\"\n",
              "            style=\"display:none;\">\n",
              "\n",
              "<svg xmlns=\"http://www.w3.org/2000/svg\" height=\"24px\"viewBox=\"0 0 24 24\"\n",
              "     width=\"24px\">\n",
              "    <g>\n",
              "        <path d=\"M19 3H5c-1.1 0-2 .9-2 2v14c0 1.1.9 2 2 2h14c1.1 0 2-.9 2-2V5c0-1.1-.9-2-2-2zM9 17H7v-7h2v7zm4 0h-2V7h2v10zm4 0h-2v-4h2v4z\"/>\n",
              "    </g>\n",
              "</svg>\n",
              "  </button>\n",
              "\n",
              "<style>\n",
              "  .colab-df-quickchart {\n",
              "      --bg-color: #E8F0FE;\n",
              "      --fill-color: #1967D2;\n",
              "      --hover-bg-color: #E2EBFA;\n",
              "      --hover-fill-color: #174EA6;\n",
              "      --disabled-fill-color: #AAA;\n",
              "      --disabled-bg-color: #DDD;\n",
              "  }\n",
              "\n",
              "  [theme=dark] .colab-df-quickchart {\n",
              "      --bg-color: #3B4455;\n",
              "      --fill-color: #D2E3FC;\n",
              "      --hover-bg-color: #434B5C;\n",
              "      --hover-fill-color: #FFFFFF;\n",
              "      --disabled-bg-color: #3B4455;\n",
              "      --disabled-fill-color: #666;\n",
              "  }\n",
              "\n",
              "  .colab-df-quickchart {\n",
              "    background-color: var(--bg-color);\n",
              "    border: none;\n",
              "    border-radius: 50%;\n",
              "    cursor: pointer;\n",
              "    display: none;\n",
              "    fill: var(--fill-color);\n",
              "    height: 32px;\n",
              "    padding: 0;\n",
              "    width: 32px;\n",
              "  }\n",
              "\n",
              "  .colab-df-quickchart:hover {\n",
              "    background-color: var(--hover-bg-color);\n",
              "    box-shadow: 0 1px 2px rgba(60, 64, 67, 0.3), 0 1px 3px 1px rgba(60, 64, 67, 0.15);\n",
              "    fill: var(--button-hover-fill-color);\n",
              "  }\n",
              "\n",
              "  .colab-df-quickchart-complete:disabled,\n",
              "  .colab-df-quickchart-complete:disabled:hover {\n",
              "    background-color: var(--disabled-bg-color);\n",
              "    fill: var(--disabled-fill-color);\n",
              "    box-shadow: none;\n",
              "  }\n",
              "\n",
              "  .colab-df-spinner {\n",
              "    border: 2px solid var(--fill-color);\n",
              "    border-color: transparent;\n",
              "    border-bottom-color: var(--fill-color);\n",
              "    animation:\n",
              "      spin 1s steps(1) infinite;\n",
              "  }\n",
              "\n",
              "  @keyframes spin {\n",
              "    0% {\n",
              "      border-color: transparent;\n",
              "      border-bottom-color: var(--fill-color);\n",
              "      border-left-color: var(--fill-color);\n",
              "    }\n",
              "    20% {\n",
              "      border-color: transparent;\n",
              "      border-left-color: var(--fill-color);\n",
              "      border-top-color: var(--fill-color);\n",
              "    }\n",
              "    30% {\n",
              "      border-color: transparent;\n",
              "      border-left-color: var(--fill-color);\n",
              "      border-top-color: var(--fill-color);\n",
              "      border-right-color: var(--fill-color);\n",
              "    }\n",
              "    40% {\n",
              "      border-color: transparent;\n",
              "      border-right-color: var(--fill-color);\n",
              "      border-top-color: var(--fill-color);\n",
              "    }\n",
              "    60% {\n",
              "      border-color: transparent;\n",
              "      border-right-color: var(--fill-color);\n",
              "    }\n",
              "    80% {\n",
              "      border-color: transparent;\n",
              "      border-right-color: var(--fill-color);\n",
              "      border-bottom-color: var(--fill-color);\n",
              "    }\n",
              "    90% {\n",
              "      border-color: transparent;\n",
              "      border-bottom-color: var(--fill-color);\n",
              "    }\n",
              "  }\n",
              "</style>\n",
              "\n",
              "  <script>\n",
              "    async function quickchart(key) {\n",
              "      const quickchartButtonEl =\n",
              "        document.querySelector('#' + key + ' button');\n",
              "      quickchartButtonEl.disabled = true;  // To prevent multiple clicks.\n",
              "      quickchartButtonEl.classList.add('colab-df-spinner');\n",
              "      try {\n",
              "        const charts = await google.colab.kernel.invokeFunction(\n",
              "            'suggestCharts', [key], {});\n",
              "      } catch (error) {\n",
              "        console.error('Error during call to suggestCharts:', error);\n",
              "      }\n",
              "      quickchartButtonEl.classList.remove('colab-df-spinner');\n",
              "      quickchartButtonEl.classList.add('colab-df-quickchart-complete');\n",
              "    }\n",
              "    (() => {\n",
              "      let quickchartButtonEl =\n",
              "        document.querySelector('#df-fdda765c-b5a4-4d13-8672-518bd2b254f0 button');\n",
              "      quickchartButtonEl.style.display =\n",
              "        google.colab.kernel.accessAllowed ? 'block' : 'none';\n",
              "    })();\n",
              "  </script>\n",
              "</div>\n",
              "    </div>\n",
              "  </div>\n"
            ],
            "application/vnd.google.colaboratory.intrinsic+json": {
              "type": "dataframe",
              "variable_name": "data",
              "repr_error": "0"
            }
          },
          "metadata": {},
          "execution_count": 72
        }
      ]
    },
    {
      "cell_type": "code",
      "source": [
        "print(data['weapon'].value_counts())"
      ],
      "metadata": {
        "colab": {
          "base_uri": "https://localhost:8080/"
        },
        "id": "m1_lrCS-ZXcD",
        "outputId": "d5c24116-7469-4fe4-cd4d-a4e1a0ab4555"
      },
      "execution_count": 73,
      "outputs": [
        {
          "output_type": "stream",
          "name": "stdout",
          "text": [
            "weapon\n",
            "HAND GUN                                          4407\n",
            "UNKNOWN FIREARM                                   1916\n",
            "SEMI-AUTOMATIC PISTOL                             1663\n",
            "REVOLVER                                           445\n",
            "FIREARM                                            199\n",
            "SHOTGUN                                            141\n",
            "RIFLE                                              117\n",
            "OTHER FIREARM                                      108\n",
            "UNKNOWN WEAPON/OTHER WEAPON                         86\n",
            "GSW                                                 69\n",
            "AIR PISTOL/REVOLVER/RIFLE/BB GUN                    66\n",
            "STRONG-ARM (HANDS, FIST, FEET OR BODILY FORCE)      48\n",
            "ASSAULT WEAPON/UZI/AK47/ETC                         38\n",
            "AUTOMATIC WEAPON/SUB-MACHINE GUN                    24\n",
            "SEMI-AUTOMATIC RIFLE                                21\n",
            "SAWED OFF RIFLE/SHOTGUN                             12\n",
            "STARTER PISTOL/REVOLVER                              8\n",
            "UNK TYPE SEMIAUTOMATIC ASSAULT RIFLE                 4\n",
            "KNIFE WITH BLADE 6INCHES OR LESS                     4\n",
            "SWITCH BLADE                                         3\n",
            "TOY GUN                                              2\n",
            "OTHER KNIFE                                          2\n",
            "VEHICLE                                              2\n",
            "BOMB THREAT                                          2\n",
            "DIRK/DAGGER                                          2\n",
            "VERBAL THREAT                                        1\n",
            "ANTIQUE FIREARM                                      1\n",
            "MAC-11 SEMIAUTOMATIC ASSAULT WEAPON                  1\n",
            "UNKNOWN TYPE CUTTING INSTRUMENT                      1\n",
            "EXPLOXIVE DEVICE                                     1\n",
            "MAC-10 SEMIAUTOMATIC ASSAULT WEAPON                  1\n",
            "PHYSICAL PRESENCE                                    1\n",
            "KNIFE WITH BLADE OVER 6 INCHES IN LENGTH             1\n",
            "OTHER CUTTING INSTRUMENT                             1\n",
            "BLUNT INSTRUMENT                                     1\n",
            "GSW/KNIFE                                            1\n",
            "HECKLER & KOCH 93 SEMIAUTOMATIC ASSAULT RIFLE        1\n",
            "Name: count, dtype: int64\n"
          ]
        }
      ]
    },
    {
      "cell_type": "code",
      "source": [
        "#Remove all non-gun crimes from the datset.\n",
        "data = data.drop(data[(data['weapon'] == 'BLUNT INSTRUMENT') | (data['weapon'] == 'VEHICLE')| (data['weapon'] == 'OTHER KNIFE')| (data['weapon'] == 'EXPLOSIVE DEVICE')].index)\n",
        "data = data.drop(data[(data['weapon'] == 'STRONG-ARM (HANDS, FIST, FEET OR BODILY FORCE)') | (data['weapon'] == 'PHYSICAL PRESENCE')| (data['weapon'] == 'KNIFE WITH BLADE 6INCHES OR LESS')| (data['weapon'] == 'SWITCH BLADE')].index)\n",
        "data = data.drop(data[(data['weapon'] == 'VERBAL THREAT') | (data['weapon'] == 'EXPLOXIVE DEVICE')| (data['weapon'] == 'BOMB THREAT')| (data['weapon'] == 'OTHER CUTTING INSTRUMENT')].index)\n",
        "data = data.drop(data[(data['weapon'] == 'KNIFE WITH BLADE OVER 6 INCHES IN LENGTH') | (data['weapon'] == 'UNKNOWN TYPE CUTTING INSTRUMENT')| (data['weapon'] == 'UNKNOWN WEAPON/OTHER WEAPON')| (data['weapon'] == 'DIRK/DAGGER')].index)\n",
        "\n",
        "#Consolidate repeated categories.\n",
        "data['weapon'] = data['weapon']\\\n",
        "  .apply(lambda n_group: 'FIREARM' if n_group in ['OTHER FIREARM','UNKNOWN FIREARM', 'ANTIQUE FIREARM'] else n_group)\n",
        "data['weapon'] = data['weapon']\\\n",
        "  .apply(lambda n_group: 'GSW' if n_group in ['GSW/KNIFE'] else n_group)\n",
        "data['weapon'] = data['weapon']\\\n",
        "  .apply(lambda n_group: 'SEMI-AUTOMATIC PISTOL' if n_group in ['MAC-10 SEMIAUTOMATIC ASSAULT WEAPON', 'MAC-11 SEMIAUTOMATIC ASSAULT WEAPON'] else n_group)\n",
        "data['weapon'] = data['weapon']\\\n",
        "  .apply(lambda n_group: 'SEMI-AUTOMATIC RIFLE' if n_group in ['HECKLER & KOCH 93 SEMIAUTOMATIC ASSAULT RIFLE','UNK TYPE SEMIAUTOMATIC ASSAULT RIFLE'] else n_group)\n",
        "print(data['weapon'].value_counts())"
      ],
      "metadata": {
        "colab": {
          "base_uri": "https://localhost:8080/"
        },
        "id": "gsT15k8lZj8T",
        "outputId": "9955b5b2-a2ac-4584-9b58-492bbf2d3a4d"
      },
      "execution_count": 74,
      "outputs": [
        {
          "output_type": "stream",
          "name": "stdout",
          "text": [
            "weapon\n",
            "HAND GUN                            4407\n",
            "FIREARM                             2224\n",
            "SEMI-AUTOMATIC PISTOL               1665\n",
            "REVOLVER                             445\n",
            "SHOTGUN                              141\n",
            "RIFLE                                117\n",
            "GSW                                   70\n",
            "AIR PISTOL/REVOLVER/RIFLE/BB GUN      66\n",
            "ASSAULT WEAPON/UZI/AK47/ETC           38\n",
            "SEMI-AUTOMATIC RIFLE                  26\n",
            "AUTOMATIC WEAPON/SUB-MACHINE GUN      24\n",
            "SAWED OFF RIFLE/SHOTGUN               12\n",
            "STARTER PISTOL/REVOLVER                8\n",
            "TOY GUN                                2\n",
            "Name: count, dtype: int64\n"
          ]
        }
      ]
    },
    {
      "cell_type": "code",
      "source": [
        "#Categorize time into buckets\n",
        "data['hour'] = data['occurred_time'].str.split(':').str[0].astype(int)\n",
        "data['time_of_day'] = pd.cut(data['hour'],\n",
        "                        bins=[0, 4, 10, 16, 20, 24],\n",
        "                        labels=['Late Midnight','Morning','Afternoon','Evening', 'Early Night'])\n",
        "data.drop(['hour','occurred_time'], axis=1, inplace=True)\n",
        "print(data['time_of_day'].value_counts())"
      ],
      "metadata": {
        "colab": {
          "base_uri": "https://localhost:8080/"
        },
        "id": "ejdnGkpKgPru",
        "outputId": "851e3ebd-28a7-4651-f90d-2de1d6e087c0"
      },
      "execution_count": 75,
      "outputs": [
        {
          "output_type": "stream",
          "name": "stdout",
          "text": [
            "time_of_day\n",
            "Early Night      2385\n",
            "Evening          2100\n",
            "Afternoon        1750\n",
            "Late Midnight    1637\n",
            "Morning           699\n",
            "Name: count, dtype: int64\n"
          ]
        }
      ]
    },
    {
      "cell_type": "code",
      "source": [
        "# clearance_group is a repeat of clearance_status, so drop this column\n",
        "data.drop(['clearance_group'], axis=1, inplace=True)"
      ],
      "metadata": {
        "id": "6dJS0sIJlOGv"
      },
      "execution_count": 76,
      "outputs": []
    },
    {
      "cell_type": "code",
      "source": [
        "# case_status just repeats information in victim_age_groupings and clearance_status, so drop this column\n",
        "data.drop(['case_status'], axis=1, inplace=True)"
      ],
      "metadata": {
        "id": "QkXT1TFwlnU3"
      },
      "execution_count": 77,
      "outputs": []
    },
    {
      "cell_type": "code",
      "source": [
        "data.head()"
      ],
      "metadata": {
        "colab": {
          "base_uri": "https://localhost:8080/",
          "height": 206
        },
        "id": "zzX2P0vDndlA",
        "outputId": "42149235-e419-4529-cada-d6d9629bb883"
      },
      "execution_count": 78,
      "outputs": [
        {
          "output_type": "execute_result",
          "data": {
            "text/plain": [
              "     agency_name weapon gang_activity_ind victim_race victim_sex arrest_ind  \\\n",
              "5346   BOSTON-PD    GSW                 Y       BLACK       MALE          N   \n",
              "5347   BOSTON-PD    GSW                 Y       WHITE       MALE          N   \n",
              "5348   BOSTON-PD    GSW                 Y       BLACK       MALE          Y   \n",
              "5349   BOSTON-PD    GSW                 Y       WHITE       MALE          N   \n",
              "5350   BOSTON-PD    GSW                 Y       BLACK       MALE          N   \n",
              "\n",
              "     clearance_status fatality_status victim_age_groupings  season  year  \\\n",
              "5346             OPEN           Fatal        Younger Adult  Winter  2015   \n",
              "5347       CLEARED-EX           Fatal          Older Adult  Winter  2015   \n",
              "5348   CLEARED-ARREST           Fatal        Younger Adult  Winter  2015   \n",
              "5349       CLEARED-EX           Fatal          Older Adult  Spring  2015   \n",
              "5350             OPEN           Fatal        Younger Adult  Spring  2015   \n",
              "\n",
              "        time_of_day  \n",
              "5346    Early Night  \n",
              "5347      Afternoon  \n",
              "5348        Morning  \n",
              "5349      Afternoon  \n",
              "5350  Late Midnight  "
            ],
            "text/html": [
              "\n",
              "  <div id=\"df-40af5545-ffc3-4a30-8286-369c2fee65d3\" class=\"colab-df-container\">\n",
              "    <div>\n",
              "<style scoped>\n",
              "    .dataframe tbody tr th:only-of-type {\n",
              "        vertical-align: middle;\n",
              "    }\n",
              "\n",
              "    .dataframe tbody tr th {\n",
              "        vertical-align: top;\n",
              "    }\n",
              "\n",
              "    .dataframe thead th {\n",
              "        text-align: right;\n",
              "    }\n",
              "</style>\n",
              "<table border=\"1\" class=\"dataframe\">\n",
              "  <thead>\n",
              "    <tr style=\"text-align: right;\">\n",
              "      <th></th>\n",
              "      <th>agency_name</th>\n",
              "      <th>weapon</th>\n",
              "      <th>gang_activity_ind</th>\n",
              "      <th>victim_race</th>\n",
              "      <th>victim_sex</th>\n",
              "      <th>arrest_ind</th>\n",
              "      <th>clearance_status</th>\n",
              "      <th>fatality_status</th>\n",
              "      <th>victim_age_groupings</th>\n",
              "      <th>season</th>\n",
              "      <th>year</th>\n",
              "      <th>time_of_day</th>\n",
              "    </tr>\n",
              "  </thead>\n",
              "  <tbody>\n",
              "    <tr>\n",
              "      <th>5346</th>\n",
              "      <td>BOSTON-PD</td>\n",
              "      <td>GSW</td>\n",
              "      <td>Y</td>\n",
              "      <td>BLACK</td>\n",
              "      <td>MALE</td>\n",
              "      <td>N</td>\n",
              "      <td>OPEN</td>\n",
              "      <td>Fatal</td>\n",
              "      <td>Younger Adult</td>\n",
              "      <td>Winter</td>\n",
              "      <td>2015</td>\n",
              "      <td>Early Night</td>\n",
              "    </tr>\n",
              "    <tr>\n",
              "      <th>5347</th>\n",
              "      <td>BOSTON-PD</td>\n",
              "      <td>GSW</td>\n",
              "      <td>Y</td>\n",
              "      <td>WHITE</td>\n",
              "      <td>MALE</td>\n",
              "      <td>N</td>\n",
              "      <td>CLEARED-EX</td>\n",
              "      <td>Fatal</td>\n",
              "      <td>Older Adult</td>\n",
              "      <td>Winter</td>\n",
              "      <td>2015</td>\n",
              "      <td>Afternoon</td>\n",
              "    </tr>\n",
              "    <tr>\n",
              "      <th>5348</th>\n",
              "      <td>BOSTON-PD</td>\n",
              "      <td>GSW</td>\n",
              "      <td>Y</td>\n",
              "      <td>BLACK</td>\n",
              "      <td>MALE</td>\n",
              "      <td>Y</td>\n",
              "      <td>CLEARED-ARREST</td>\n",
              "      <td>Fatal</td>\n",
              "      <td>Younger Adult</td>\n",
              "      <td>Winter</td>\n",
              "      <td>2015</td>\n",
              "      <td>Morning</td>\n",
              "    </tr>\n",
              "    <tr>\n",
              "      <th>5349</th>\n",
              "      <td>BOSTON-PD</td>\n",
              "      <td>GSW</td>\n",
              "      <td>Y</td>\n",
              "      <td>WHITE</td>\n",
              "      <td>MALE</td>\n",
              "      <td>N</td>\n",
              "      <td>CLEARED-EX</td>\n",
              "      <td>Fatal</td>\n",
              "      <td>Older Adult</td>\n",
              "      <td>Spring</td>\n",
              "      <td>2015</td>\n",
              "      <td>Afternoon</td>\n",
              "    </tr>\n",
              "    <tr>\n",
              "      <th>5350</th>\n",
              "      <td>BOSTON-PD</td>\n",
              "      <td>GSW</td>\n",
              "      <td>Y</td>\n",
              "      <td>BLACK</td>\n",
              "      <td>MALE</td>\n",
              "      <td>N</td>\n",
              "      <td>OPEN</td>\n",
              "      <td>Fatal</td>\n",
              "      <td>Younger Adult</td>\n",
              "      <td>Spring</td>\n",
              "      <td>2015</td>\n",
              "      <td>Late Midnight</td>\n",
              "    </tr>\n",
              "  </tbody>\n",
              "</table>\n",
              "</div>\n",
              "    <div class=\"colab-df-buttons\">\n",
              "\n",
              "  <div class=\"colab-df-container\">\n",
              "    <button class=\"colab-df-convert\" onclick=\"convertToInteractive('df-40af5545-ffc3-4a30-8286-369c2fee65d3')\"\n",
              "            title=\"Convert this dataframe to an interactive table.\"\n",
              "            style=\"display:none;\">\n",
              "\n",
              "  <svg xmlns=\"http://www.w3.org/2000/svg\" height=\"24px\" viewBox=\"0 -960 960 960\">\n",
              "    <path d=\"M120-120v-720h720v720H120Zm60-500h600v-160H180v160Zm220 220h160v-160H400v160Zm0 220h160v-160H400v160ZM180-400h160v-160H180v160Zm440 0h160v-160H620v160ZM180-180h160v-160H180v160Zm440 0h160v-160H620v160Z\"/>\n",
              "  </svg>\n",
              "    </button>\n",
              "\n",
              "  <style>\n",
              "    .colab-df-container {\n",
              "      display:flex;\n",
              "      gap: 12px;\n",
              "    }\n",
              "\n",
              "    .colab-df-convert {\n",
              "      background-color: #E8F0FE;\n",
              "      border: none;\n",
              "      border-radius: 50%;\n",
              "      cursor: pointer;\n",
              "      display: none;\n",
              "      fill: #1967D2;\n",
              "      height: 32px;\n",
              "      padding: 0 0 0 0;\n",
              "      width: 32px;\n",
              "    }\n",
              "\n",
              "    .colab-df-convert:hover {\n",
              "      background-color: #E2EBFA;\n",
              "      box-shadow: 0px 1px 2px rgba(60, 64, 67, 0.3), 0px 1px 3px 1px rgba(60, 64, 67, 0.15);\n",
              "      fill: #174EA6;\n",
              "    }\n",
              "\n",
              "    .colab-df-buttons div {\n",
              "      margin-bottom: 4px;\n",
              "    }\n",
              "\n",
              "    [theme=dark] .colab-df-convert {\n",
              "      background-color: #3B4455;\n",
              "      fill: #D2E3FC;\n",
              "    }\n",
              "\n",
              "    [theme=dark] .colab-df-convert:hover {\n",
              "      background-color: #434B5C;\n",
              "      box-shadow: 0px 1px 3px 1px rgba(0, 0, 0, 0.15);\n",
              "      filter: drop-shadow(0px 1px 2px rgba(0, 0, 0, 0.3));\n",
              "      fill: #FFFFFF;\n",
              "    }\n",
              "  </style>\n",
              "\n",
              "    <script>\n",
              "      const buttonEl =\n",
              "        document.querySelector('#df-40af5545-ffc3-4a30-8286-369c2fee65d3 button.colab-df-convert');\n",
              "      buttonEl.style.display =\n",
              "        google.colab.kernel.accessAllowed ? 'block' : 'none';\n",
              "\n",
              "      async function convertToInteractive(key) {\n",
              "        const element = document.querySelector('#df-40af5545-ffc3-4a30-8286-369c2fee65d3');\n",
              "        const dataTable =\n",
              "          await google.colab.kernel.invokeFunction('convertToInteractive',\n",
              "                                                    [key], {});\n",
              "        if (!dataTable) return;\n",
              "\n",
              "        const docLinkHtml = 'Like what you see? Visit the ' +\n",
              "          '<a target=\"_blank\" href=https://colab.research.google.com/notebooks/data_table.ipynb>data table notebook</a>'\n",
              "          + ' to learn more about interactive tables.';\n",
              "        element.innerHTML = '';\n",
              "        dataTable['output_type'] = 'display_data';\n",
              "        await google.colab.output.renderOutput(dataTable, element);\n",
              "        const docLink = document.createElement('div');\n",
              "        docLink.innerHTML = docLinkHtml;\n",
              "        element.appendChild(docLink);\n",
              "      }\n",
              "    </script>\n",
              "  </div>\n",
              "\n",
              "\n",
              "<div id=\"df-507d9fad-af75-4dea-8190-885d4042b6b5\">\n",
              "  <button class=\"colab-df-quickchart\" onclick=\"quickchart('df-507d9fad-af75-4dea-8190-885d4042b6b5')\"\n",
              "            title=\"Suggest charts\"\n",
              "            style=\"display:none;\">\n",
              "\n",
              "<svg xmlns=\"http://www.w3.org/2000/svg\" height=\"24px\"viewBox=\"0 0 24 24\"\n",
              "     width=\"24px\">\n",
              "    <g>\n",
              "        <path d=\"M19 3H5c-1.1 0-2 .9-2 2v14c0 1.1.9 2 2 2h14c1.1 0 2-.9 2-2V5c0-1.1-.9-2-2-2zM9 17H7v-7h2v7zm4 0h-2V7h2v10zm4 0h-2v-4h2v4z\"/>\n",
              "    </g>\n",
              "</svg>\n",
              "  </button>\n",
              "\n",
              "<style>\n",
              "  .colab-df-quickchart {\n",
              "      --bg-color: #E8F0FE;\n",
              "      --fill-color: #1967D2;\n",
              "      --hover-bg-color: #E2EBFA;\n",
              "      --hover-fill-color: #174EA6;\n",
              "      --disabled-fill-color: #AAA;\n",
              "      --disabled-bg-color: #DDD;\n",
              "  }\n",
              "\n",
              "  [theme=dark] .colab-df-quickchart {\n",
              "      --bg-color: #3B4455;\n",
              "      --fill-color: #D2E3FC;\n",
              "      --hover-bg-color: #434B5C;\n",
              "      --hover-fill-color: #FFFFFF;\n",
              "      --disabled-bg-color: #3B4455;\n",
              "      --disabled-fill-color: #666;\n",
              "  }\n",
              "\n",
              "  .colab-df-quickchart {\n",
              "    background-color: var(--bg-color);\n",
              "    border: none;\n",
              "    border-radius: 50%;\n",
              "    cursor: pointer;\n",
              "    display: none;\n",
              "    fill: var(--fill-color);\n",
              "    height: 32px;\n",
              "    padding: 0;\n",
              "    width: 32px;\n",
              "  }\n",
              "\n",
              "  .colab-df-quickchart:hover {\n",
              "    background-color: var(--hover-bg-color);\n",
              "    box-shadow: 0 1px 2px rgba(60, 64, 67, 0.3), 0 1px 3px 1px rgba(60, 64, 67, 0.15);\n",
              "    fill: var(--button-hover-fill-color);\n",
              "  }\n",
              "\n",
              "  .colab-df-quickchart-complete:disabled,\n",
              "  .colab-df-quickchart-complete:disabled:hover {\n",
              "    background-color: var(--disabled-bg-color);\n",
              "    fill: var(--disabled-fill-color);\n",
              "    box-shadow: none;\n",
              "  }\n",
              "\n",
              "  .colab-df-spinner {\n",
              "    border: 2px solid var(--fill-color);\n",
              "    border-color: transparent;\n",
              "    border-bottom-color: var(--fill-color);\n",
              "    animation:\n",
              "      spin 1s steps(1) infinite;\n",
              "  }\n",
              "\n",
              "  @keyframes spin {\n",
              "    0% {\n",
              "      border-color: transparent;\n",
              "      border-bottom-color: var(--fill-color);\n",
              "      border-left-color: var(--fill-color);\n",
              "    }\n",
              "    20% {\n",
              "      border-color: transparent;\n",
              "      border-left-color: var(--fill-color);\n",
              "      border-top-color: var(--fill-color);\n",
              "    }\n",
              "    30% {\n",
              "      border-color: transparent;\n",
              "      border-left-color: var(--fill-color);\n",
              "      border-top-color: var(--fill-color);\n",
              "      border-right-color: var(--fill-color);\n",
              "    }\n",
              "    40% {\n",
              "      border-color: transparent;\n",
              "      border-right-color: var(--fill-color);\n",
              "      border-top-color: var(--fill-color);\n",
              "    }\n",
              "    60% {\n",
              "      border-color: transparent;\n",
              "      border-right-color: var(--fill-color);\n",
              "    }\n",
              "    80% {\n",
              "      border-color: transparent;\n",
              "      border-right-color: var(--fill-color);\n",
              "      border-bottom-color: var(--fill-color);\n",
              "    }\n",
              "    90% {\n",
              "      border-color: transparent;\n",
              "      border-bottom-color: var(--fill-color);\n",
              "    }\n",
              "  }\n",
              "</style>\n",
              "\n",
              "  <script>\n",
              "    async function quickchart(key) {\n",
              "      const quickchartButtonEl =\n",
              "        document.querySelector('#' + key + ' button');\n",
              "      quickchartButtonEl.disabled = true;  // To prevent multiple clicks.\n",
              "      quickchartButtonEl.classList.add('colab-df-spinner');\n",
              "      try {\n",
              "        const charts = await google.colab.kernel.invokeFunction(\n",
              "            'suggestCharts', [key], {});\n",
              "      } catch (error) {\n",
              "        console.error('Error during call to suggestCharts:', error);\n",
              "      }\n",
              "      quickchartButtonEl.classList.remove('colab-df-spinner');\n",
              "      quickchartButtonEl.classList.add('colab-df-quickchart-complete');\n",
              "    }\n",
              "    (() => {\n",
              "      let quickchartButtonEl =\n",
              "        document.querySelector('#df-507d9fad-af75-4dea-8190-885d4042b6b5 button');\n",
              "      quickchartButtonEl.style.display =\n",
              "        google.colab.kernel.accessAllowed ? 'block' : 'none';\n",
              "    })();\n",
              "  </script>\n",
              "</div>\n",
              "    </div>\n",
              "  </div>\n"
            ],
            "application/vnd.google.colaboratory.intrinsic+json": {
              "type": "dataframe",
              "variable_name": "data",
              "summary": "{\n  \"name\": \"data\",\n  \"rows\": 9245,\n  \"fields\": [\n    {\n      \"column\": \"agency_name\",\n      \"properties\": {\n        \"dtype\": \"category\",\n        \"num_unique_values\": 2,\n        \"samples\": [\n          \"LOS-ANGELES-PD\",\n          \"BOSTON-PD\"\n        ],\n        \"semantic_type\": \"\",\n        \"description\": \"\"\n      }\n    },\n    {\n      \"column\": \"weapon\",\n      \"properties\": {\n        \"dtype\": \"category\",\n        \"num_unique_values\": 14,\n        \"samples\": [\n          \"SHOTGUN\",\n          \"TOY GUN\"\n        ],\n        \"semantic_type\": \"\",\n        \"description\": \"\"\n      }\n    },\n    {\n      \"column\": \"gang_activity_ind\",\n      \"properties\": {\n        \"dtype\": \"category\",\n        \"num_unique_values\": 3,\n        \"samples\": [\n          \"Y\",\n          \"UNSPECIFIED\"\n        ],\n        \"semantic_type\": \"\",\n        \"description\": \"\"\n      }\n    },\n    {\n      \"column\": \"victim_race\",\n      \"properties\": {\n        \"dtype\": \"category\",\n        \"num_unique_values\": 6,\n        \"samples\": [\n          \"BLACK\",\n          \"WHITE\"\n        ],\n        \"semantic_type\": \"\",\n        \"description\": \"\"\n      }\n    },\n    {\n      \"column\": \"victim_sex\",\n      \"properties\": {\n        \"dtype\": \"category\",\n        \"num_unique_values\": 3,\n        \"samples\": [\n          \"MALE\",\n          \"FEMALE\"\n        ],\n        \"semantic_type\": \"\",\n        \"description\": \"\"\n      }\n    },\n    {\n      \"column\": \"arrest_ind\",\n      \"properties\": {\n        \"dtype\": \"category\",\n        \"num_unique_values\": 2,\n        \"samples\": [\n          \"Y\",\n          \"N\"\n        ],\n        \"semantic_type\": \"\",\n        \"description\": \"\"\n      }\n    },\n    {\n      \"column\": \"clearance_status\",\n      \"properties\": {\n        \"dtype\": \"category\",\n        \"num_unique_values\": 3,\n        \"samples\": [\n          \"OPEN\",\n          \"CLEARED-EX\"\n        ],\n        \"semantic_type\": \"\",\n        \"description\": \"\"\n      }\n    },\n    {\n      \"column\": \"fatality_status\",\n      \"properties\": {\n        \"dtype\": \"category\",\n        \"num_unique_values\": 2,\n        \"samples\": [\n          \"Non-Fatal\",\n          \"Fatal\"\n        ],\n        \"semantic_type\": \"\",\n        \"description\": \"\"\n      }\n    },\n    {\n      \"column\": \"victim_age_groupings\",\n      \"properties\": {\n        \"dtype\": \"category\",\n        \"num_unique_values\": 4,\n        \"samples\": [\n          \"Older Adult\",\n          \"Elderly\"\n        ],\n        \"semantic_type\": \"\",\n        \"description\": \"\"\n      }\n    },\n    {\n      \"column\": \"season\",\n      \"properties\": {\n        \"dtype\": \"category\",\n        \"num_unique_values\": 4,\n        \"samples\": [\n          \"Spring\",\n          \"Fall\"\n        ],\n        \"semantic_type\": \"\",\n        \"description\": \"\"\n      }\n    },\n    {\n      \"column\": \"year\",\n      \"properties\": {\n        \"dtype\": \"int32\",\n        \"num_unique_values\": 11,\n        \"samples\": [\n          2010,\n          2015\n        ],\n        \"semantic_type\": \"\",\n        \"description\": \"\"\n      }\n    },\n    {\n      \"column\": \"time_of_day\",\n      \"properties\": {\n        \"dtype\": \"category\",\n        \"num_unique_values\": 5,\n        \"samples\": [\n          \"Afternoon\",\n          \"Evening\"\n        ],\n        \"semantic_type\": \"\",\n        \"description\": \"\"\n      }\n    }\n  ]\n}"
            }
          },
          "metadata": {},
          "execution_count": 78
        }
      ]
    },
    {
      "cell_type": "code",
      "source": [
        "data.keys()"
      ],
      "metadata": {
        "id": "gDCKCrlknSZf",
        "outputId": "9d5c1bcc-791f-449c-c550-c6e29b7b693e",
        "colab": {
          "base_uri": "https://localhost:8080/"
        }
      },
      "execution_count": 79,
      "outputs": [
        {
          "output_type": "execute_result",
          "data": {
            "text/plain": [
              "Index(['agency_name', 'weapon', 'gang_activity_ind', 'victim_race',\n",
              "       'victim_sex', 'arrest_ind', 'clearance_status', 'fatality_status',\n",
              "       'victim_age_groupings', 'season', 'year', 'time_of_day'],\n",
              "      dtype='object')"
            ]
          },
          "metadata": {},
          "execution_count": 79
        }
      ]
    },
    {
      "cell_type": "markdown",
      "source": [
        "# One-Hot Encoding"
      ],
      "metadata": {
        "id": "y9WFfzUP--fE"
      }
    },
    {
      "cell_type": "code",
      "source": [
        "#one hot encoding of categorical variables\n",
        "from sklearn.preprocessing import OneHotEncoder\n",
        "from sklearn.compose import make_column_transformer\n",
        "\n",
        "transformer = make_column_transformer(\n",
        "    (OneHotEncoder(), ['agency_name', 'weapon','gang_activity_ind','victim_race','victim_sex','arrest_ind','victim_age_groupings','clearance_status','fatality_status','season','time_of_day']),\n",
        "    remainder='passthrough')\n",
        "\n",
        "transformed = transformer.fit_transform(data)\n",
        "transformed_df = pd.DataFrame((transformed), columns=transformer.get_feature_names_out())\n",
        "transformed_df.head()\n"
      ],
      "metadata": {
        "id": "BjYgqWiP112G",
        "colab": {
          "base_uri": "https://localhost:8080/",
          "height": 339
        },
        "outputId": "467efaee-19e6-4656-b0fc-a969e86fd9b8"
      },
      "execution_count": 81,
      "outputs": [
        {
          "output_type": "error",
          "ename": "ValueError",
          "evalue": "Shape of passed values is (9245, 1), indices imply (9245, 50)",
          "traceback": [
            "\u001b[0;31m---------------------------------------------------------------------------\u001b[0m",
            "\u001b[0;31mValueError\u001b[0m                                Traceback (most recent call last)",
            "\u001b[0;32m<ipython-input-81-c5666f1514fa>\u001b[0m in \u001b[0;36m<cell line: 10>\u001b[0;34m()\u001b[0m\n\u001b[1;32m      8\u001b[0m \u001b[0;34m\u001b[0m\u001b[0m\n\u001b[1;32m      9\u001b[0m \u001b[0mtransformed\u001b[0m \u001b[0;34m=\u001b[0m \u001b[0mtransformer\u001b[0m\u001b[0;34m.\u001b[0m\u001b[0mfit_transform\u001b[0m\u001b[0;34m(\u001b[0m\u001b[0mdata\u001b[0m\u001b[0;34m)\u001b[0m\u001b[0;34m\u001b[0m\u001b[0;34m\u001b[0m\u001b[0m\n\u001b[0;32m---> 10\u001b[0;31m \u001b[0mtransformed_df\u001b[0m \u001b[0;34m=\u001b[0m \u001b[0mpd\u001b[0m\u001b[0;34m.\u001b[0m\u001b[0mDataFrame\u001b[0m\u001b[0;34m(\u001b[0m\u001b[0;34m(\u001b[0m\u001b[0mtransformed\u001b[0m\u001b[0;34m)\u001b[0m\u001b[0;34m,\u001b[0m \u001b[0mcolumns\u001b[0m\u001b[0;34m=\u001b[0m\u001b[0mtransformer\u001b[0m\u001b[0;34m.\u001b[0m\u001b[0mget_feature_names_out\u001b[0m\u001b[0;34m(\u001b[0m\u001b[0;34m)\u001b[0m\u001b[0;34m)\u001b[0m\u001b[0;34m\u001b[0m\u001b[0;34m\u001b[0m\u001b[0m\n\u001b[0m\u001b[1;32m     11\u001b[0m \u001b[0mtransformed_df\u001b[0m\u001b[0;34m.\u001b[0m\u001b[0mhead\u001b[0m\u001b[0;34m(\u001b[0m\u001b[0;34m)\u001b[0m\u001b[0;34m\u001b[0m\u001b[0;34m\u001b[0m\u001b[0m\n",
            "\u001b[0;32m/usr/local/lib/python3.10/dist-packages/pandas/core/frame.py\u001b[0m in \u001b[0;36m__init__\u001b[0;34m(self, data, index, columns, dtype, copy)\u001b[0m\n\u001b[1;32m    796\u001b[0m                     )\n\u001b[1;32m    797\u001b[0m                 \u001b[0;32melse\u001b[0m\u001b[0;34m:\u001b[0m\u001b[0;34m\u001b[0m\u001b[0;34m\u001b[0m\u001b[0m\n\u001b[0;32m--> 798\u001b[0;31m                     mgr = ndarray_to_mgr(\n\u001b[0m\u001b[1;32m    799\u001b[0m                         \u001b[0mdata\u001b[0m\u001b[0;34m,\u001b[0m\u001b[0;34m\u001b[0m\u001b[0;34m\u001b[0m\u001b[0m\n\u001b[1;32m    800\u001b[0m                         \u001b[0mindex\u001b[0m\u001b[0;34m,\u001b[0m\u001b[0;34m\u001b[0m\u001b[0;34m\u001b[0m\u001b[0m\n",
            "\u001b[0;32m/usr/local/lib/python3.10/dist-packages/pandas/core/internals/construction.py\u001b[0m in \u001b[0;36mndarray_to_mgr\u001b[0;34m(values, index, columns, dtype, copy, typ)\u001b[0m\n\u001b[1;32m    335\u001b[0m     )\n\u001b[1;32m    336\u001b[0m \u001b[0;34m\u001b[0m\u001b[0m\n\u001b[0;32m--> 337\u001b[0;31m     \u001b[0m_check_values_indices_shape_match\u001b[0m\u001b[0;34m(\u001b[0m\u001b[0mvalues\u001b[0m\u001b[0;34m,\u001b[0m \u001b[0mindex\u001b[0m\u001b[0;34m,\u001b[0m \u001b[0mcolumns\u001b[0m\u001b[0;34m)\u001b[0m\u001b[0;34m\u001b[0m\u001b[0;34m\u001b[0m\u001b[0m\n\u001b[0m\u001b[1;32m    338\u001b[0m \u001b[0;34m\u001b[0m\u001b[0m\n\u001b[1;32m    339\u001b[0m     \u001b[0;32mif\u001b[0m \u001b[0mtyp\u001b[0m \u001b[0;34m==\u001b[0m \u001b[0;34m\"array\"\u001b[0m\u001b[0;34m:\u001b[0m\u001b[0;34m\u001b[0m\u001b[0;34m\u001b[0m\u001b[0m\n",
            "\u001b[0;32m/usr/local/lib/python3.10/dist-packages/pandas/core/internals/construction.py\u001b[0m in \u001b[0;36m_check_values_indices_shape_match\u001b[0;34m(values, index, columns)\u001b[0m\n\u001b[1;32m    406\u001b[0m         \u001b[0mpassed\u001b[0m \u001b[0;34m=\u001b[0m \u001b[0mvalues\u001b[0m\u001b[0;34m.\u001b[0m\u001b[0mshape\u001b[0m\u001b[0;34m\u001b[0m\u001b[0;34m\u001b[0m\u001b[0m\n\u001b[1;32m    407\u001b[0m         \u001b[0mimplied\u001b[0m \u001b[0;34m=\u001b[0m \u001b[0;34m(\u001b[0m\u001b[0mlen\u001b[0m\u001b[0;34m(\u001b[0m\u001b[0mindex\u001b[0m\u001b[0;34m)\u001b[0m\u001b[0;34m,\u001b[0m \u001b[0mlen\u001b[0m\u001b[0;34m(\u001b[0m\u001b[0mcolumns\u001b[0m\u001b[0;34m)\u001b[0m\u001b[0;34m)\u001b[0m\u001b[0;34m\u001b[0m\u001b[0;34m\u001b[0m\u001b[0m\n\u001b[0;32m--> 408\u001b[0;31m         \u001b[0;32mraise\u001b[0m \u001b[0mValueError\u001b[0m\u001b[0;34m(\u001b[0m\u001b[0;34mf\"Shape of passed values is {passed}, indices imply {implied}\"\u001b[0m\u001b[0;34m)\u001b[0m\u001b[0;34m\u001b[0m\u001b[0;34m\u001b[0m\u001b[0m\n\u001b[0m\u001b[1;32m    409\u001b[0m \u001b[0;34m\u001b[0m\u001b[0m\n\u001b[1;32m    410\u001b[0m \u001b[0;34m\u001b[0m\u001b[0m\n",
            "\u001b[0;31mValueError\u001b[0m: Shape of passed values is (9245, 1), indices imply (9245, 50)"
          ]
        }
      ]
    },
    {
      "cell_type": "code",
      "source": [
        "transformed_df.keys()"
      ],
      "metadata": {
        "id": "WvMjKBXQfGlT"
      },
      "execution_count": null,
      "outputs": []
    },
    {
      "cell_type": "code",
      "source": [
        "#violin plot\n",
        "import seaborn\n",
        "\n",
        "seaborn.set(style = 'whitegrid')\n",
        "\n",
        "seaborn.violinplot(x ='Fatality Status', data = data)"
      ],
      "metadata": {
        "id": "uXTI5pne0etY"
      },
      "execution_count": null,
      "outputs": []
    },
    {
      "cell_type": "code",
      "source": [
        "# show histograms\n",
        "import matplotlib.pyplot as plt\n",
        "\n",
        "data.hist()\n",
        "plt.tight_layout()"
      ],
      "metadata": {
        "id": "VbW2_ABm1Dfm"
      },
      "execution_count": null,
      "outputs": []
    },
    {
      "cell_type": "code",
      "source": [
        "# pie chart\n",
        "data['Fatality Status'].str.lower().value_counts(dropna=False).plot.pie()"
      ],
      "metadata": {
        "id": "wn8hZLu-No4b"
      },
      "execution_count": null,
      "outputs": []
    },
    {
      "cell_type": "code",
      "source": [
        "# pie chart\n",
        "data['victim_age_groupings'].str.lower().value_counts(dropna=False).plot.pie()"
      ],
      "metadata": {
        "id": "MjiG0UwmfNA-"
      },
      "execution_count": null,
      "outputs": []
    },
    {
      "cell_type": "markdown",
      "source": [
        "# Train Test Split"
      ],
      "metadata": {
        "id": "5U1aQSiW_u0P"
      }
    },
    {
      "cell_type": "code",
      "source": [
        "# train test split\n",
        "from sklearn.model_selection import train_test_split\n",
        "\n",
        "X_train, X_test, y_train, y_test = train_test_split(data.drop(['fatality_status'], axis=1), data['fatality_status'], test_size=.2, random_state=42)\n",
        "\n",
        "print(X_train.shape)\n",
        "print(X_test.shape)"
      ],
      "metadata": {
        "id": "114U3FgO_tpg"
      },
      "execution_count": null,
      "outputs": []
    },
    {
      "cell_type": "code",
      "source": [
        "print(X_train.apply(pd.Series.unique))"
      ],
      "metadata": {
        "id": "LCZ6Nb8ST9Pj"
      },
      "execution_count": null,
      "outputs": []
    },
    {
      "cell_type": "code",
      "source": [
        "X_train.head()\n"
      ],
      "metadata": {
        "id": "Y-gWQgTEs4Ch"
      },
      "execution_count": null,
      "outputs": []
    }
  ],
  "metadata": {
    "colab": {
      "provenance": [],
      "include_colab_link": true
    },
    "kernelspec": {
      "display_name": "Python 3",
      "name": "python3"
    },
    "language_info": {
      "name": "python"
    }
  },
  "nbformat": 4,
  "nbformat_minor": 0
}