{
  "cells": [
    {
      "cell_type": "markdown",
      "metadata": {
        "id": "view-in-github",
        "colab_type": "text"
      },
      "source": [
        "<a href=\"https://colab.research.google.com/github/AI4ALL-Class8-Group2/offensive-standard-data/blob/google-colab-group/Apply_AI_Group8_2_Project_EDA.ipynb\" target=\"_parent\"><img src=\"https://colab.research.google.com/assets/colab-badge.svg\" alt=\"Open In Colab\"/></a>"
      ]
    },
    {
      "cell_type": "markdown",
      "source": [
        "**Title**\n",
        "\n",
        "Gun Violence Incident Fatality Predictor\n",
        "\n",
        "**Introduction**\n",
        "\n",
        "This project seeks to determine the fatality of gun violence incidents. The initial dataset comprised of data from 22 Police Departments across the United States.\n",
        "\n",
        "Dataset - https://github.com/the-trace-and-buzzfeed-news/local-police-data-analysis"
      ],
      "metadata": {
        "id": "-9ZsGhHR2OI1"
      }
    },
    {
      "cell_type": "markdown",
      "source": [
        "**4 PDs Dataset used**\n",
        "*   Baltimore PD\n",
        "*   Boston PD\n",
        "*   Los Angeles PD\n",
        "*   San Francisco PD\n",
        "\n",
        "**16,247 rows and 18 columns**\n",
        "\n",
        "**Data Selection**\n",
        "1.\tAll have ‘Non-Fatal Shooting’ and ‘Homicide-Gun’ variables under ‘offence_group’ column except Los Angeles.\n",
        "2.\tLos Angeles has ‘Homicide-Criminal-Fatal-Shooting’ and ‘Agg Assault - Shooting - Non-Fatal’ under ‘offence_category’.\n",
        "\n",
        "**Fatal** means ‘Homicide-Gun’ (as recorded by Baltimore PD, Boston PD, Newark PD, San Francisco PD) and ‘Homicide-Criminal-Fatal-Shooting’ (as recorded Los Angeles PD)\n",
        "\n",
        "**Non-Fatal** means ‘‘Non-Fatal Shooting’ (as recorded by Baltimore PD, Boston PD, Newark PD, San Francisco PD) and ‘Agg Assault - Shooting - Non-Fatal’ (as recorded by Los Angeles PD)\n",
        "\n",
        "**NOTE**  \n",
        "Initially, 5 PDs dataset was being used but *Newark-PD* was dropped after further analysis.\n"
      ],
      "metadata": {
        "id": "kS3ym1BU4U6i"
      }
    },
    {
      "cell_type": "code",
      "execution_count": null,
      "metadata": {
        "id": "nuim8-b56gv4",
        "colab": {
          "base_uri": "https://localhost:8080/",
          "height": 481
        },
        "outputId": "a690f1f3-586e-43ab-e6f6-43093fd54f2c"
      },
      "outputs": [
        {
          "output_type": "stream",
          "name": "stderr",
          "text": [
            "<ipython-input-79-27649a4ab19f>:3: DtypeWarning: Columns (14,16,19,22,29) have mixed types. Specify dtype option on import or set low_memory=False.\n",
            "  data = pd.read_csv(r'https://raw.githubusercontent.com/AI4ALL-Class8-Group2/offensive-standard-data/main/offenses_5pd_fatality.csv')\n"
          ]
        },
        {
          "output_type": "execute_result",
          "data": {
            "text/plain": [
              "                     row_hash          source   agency_name agency_ori  \\\n",
              "0  MDBPD0000-C419771020-01-01  BALTIMORE-MAIN  BALTIMORE-PD  MDBPD0000   \n",
              "1  MDBPD0000-B63BECA76C-01-01  BALTIMORE-MAIN  BALTIMORE-PD  MDBPD0000   \n",
              "2  MDBPD0000-8A7079014F-01-01  BALTIMORE-MAIN  BALTIMORE-PD  MDBPD0000   \n",
              "3  MDBPD0000-3EF6B5EBEF-01-01  BALTIMORE-MAIN  BALTIMORE-PD  MDBPD0000   \n",
              "4  MDBPD0000-5995BFA411-01-01  BALTIMORE-MAIN  BALTIMORE-PD  MDBPD0000   \n",
              "\n",
              "  agency_incident_id occurred_date occurred_time    offense_category  \\\n",
              "0            17V0351     7/26/2017           NaN  NON FATAL SHOOTING   \n",
              "1            17H0198     7/26/2017           NaN  NON FATAL SHOOTING   \n",
              "2            17V0349     7/25/2017           NaN  NON FATAL SHOOTING   \n",
              "3            17V0348     7/25/2017           NaN  NON FATAL SHOOTING   \n",
              "4            17V0346     7/24/2017           NaN  NON FATAL SHOOTING   \n",
              "\n",
              "  top_ucr_classification top_local_classification  ...  victim_ethnicity  \\\n",
              "0                    NaN       NON FATAL SHOOTING  ...               NaN   \n",
              "1                    NaN       NON FATAL SHOOTING  ...               NaN   \n",
              "2                    NaN       NON FATAL SHOOTING  ...               NaN   \n",
              "3                    NaN       NON FATAL SHOOTING  ...               NaN   \n",
              "4                    NaN       NON FATAL SHOOTING  ...               NaN   \n",
              "\n",
              "  victim_race_condensed victim_sex case_status arrest_ind  clearance_status  \\\n",
              "0        BLACK/HISPANIC       MALE        OPEN        NaN              OPEN   \n",
              "1        BLACK/HISPANIC     FEMALE        OPEN        NaN              OPEN   \n",
              "2        BLACK/HISPANIC       MALE        OPEN        NaN              OPEN   \n",
              "3        BLACK/HISPANIC       MALE        OPEN        NaN              OPEN   \n",
              "4        BLACK/HISPANIC       MALE        OPEN        NaN              OPEN   \n",
              "\n",
              "                clearance_group  clearance_date arrest_date Fatality Status  \n",
              "0  Open & No Arrest-Unspecified             NaN         NaN       Non-Fatal  \n",
              "1  Open & No Arrest-Unspecified             NaN         NaN       Non-Fatal  \n",
              "2  Open & No Arrest-Unspecified             NaN         NaN       Non-Fatal  \n",
              "3  Open & No Arrest-Unspecified             NaN         NaN       Non-Fatal  \n",
              "4  Open & No Arrest-Unspecified             NaN         NaN       Non-Fatal  \n",
              "\n",
              "[5 rows x 32 columns]"
            ],
            "text/html": [
              "\n",
              "  <div id=\"df-2a52cdd8-6bf9-4633-b995-81708aeeb223\" class=\"colab-df-container\">\n",
              "    <div>\n",
              "<style scoped>\n",
              "    .dataframe tbody tr th:only-of-type {\n",
              "        vertical-align: middle;\n",
              "    }\n",
              "\n",
              "    .dataframe tbody tr th {\n",
              "        vertical-align: top;\n",
              "    }\n",
              "\n",
              "    .dataframe thead th {\n",
              "        text-align: right;\n",
              "    }\n",
              "</style>\n",
              "<table border=\"1\" class=\"dataframe\">\n",
              "  <thead>\n",
              "    <tr style=\"text-align: right;\">\n",
              "      <th></th>\n",
              "      <th>row_hash</th>\n",
              "      <th>source</th>\n",
              "      <th>agency_name</th>\n",
              "      <th>agency_ori</th>\n",
              "      <th>agency_incident_id</th>\n",
              "      <th>occurred_date</th>\n",
              "      <th>occurred_time</th>\n",
              "      <th>offense_category</th>\n",
              "      <th>top_ucr_classification</th>\n",
              "      <th>top_local_classification</th>\n",
              "      <th>...</th>\n",
              "      <th>victim_ethnicity</th>\n",
              "      <th>victim_race_condensed</th>\n",
              "      <th>victim_sex</th>\n",
              "      <th>case_status</th>\n",
              "      <th>arrest_ind</th>\n",
              "      <th>clearance_status</th>\n",
              "      <th>clearance_group</th>\n",
              "      <th>clearance_date</th>\n",
              "      <th>arrest_date</th>\n",
              "      <th>Fatality Status</th>\n",
              "    </tr>\n",
              "  </thead>\n",
              "  <tbody>\n",
              "    <tr>\n",
              "      <th>0</th>\n",
              "      <td>MDBPD0000-C419771020-01-01</td>\n",
              "      <td>BALTIMORE-MAIN</td>\n",
              "      <td>BALTIMORE-PD</td>\n",
              "      <td>MDBPD0000</td>\n",
              "      <td>17V0351</td>\n",
              "      <td>7/26/2017</td>\n",
              "      <td>NaN</td>\n",
              "      <td>NON FATAL SHOOTING</td>\n",
              "      <td>NaN</td>\n",
              "      <td>NON FATAL SHOOTING</td>\n",
              "      <td>...</td>\n",
              "      <td>NaN</td>\n",
              "      <td>BLACK/HISPANIC</td>\n",
              "      <td>MALE</td>\n",
              "      <td>OPEN</td>\n",
              "      <td>NaN</td>\n",
              "      <td>OPEN</td>\n",
              "      <td>Open &amp; No Arrest-Unspecified</td>\n",
              "      <td>NaN</td>\n",
              "      <td>NaN</td>\n",
              "      <td>Non-Fatal</td>\n",
              "    </tr>\n",
              "    <tr>\n",
              "      <th>1</th>\n",
              "      <td>MDBPD0000-B63BECA76C-01-01</td>\n",
              "      <td>BALTIMORE-MAIN</td>\n",
              "      <td>BALTIMORE-PD</td>\n",
              "      <td>MDBPD0000</td>\n",
              "      <td>17H0198</td>\n",
              "      <td>7/26/2017</td>\n",
              "      <td>NaN</td>\n",
              "      <td>NON FATAL SHOOTING</td>\n",
              "      <td>NaN</td>\n",
              "      <td>NON FATAL SHOOTING</td>\n",
              "      <td>...</td>\n",
              "      <td>NaN</td>\n",
              "      <td>BLACK/HISPANIC</td>\n",
              "      <td>FEMALE</td>\n",
              "      <td>OPEN</td>\n",
              "      <td>NaN</td>\n",
              "      <td>OPEN</td>\n",
              "      <td>Open &amp; No Arrest-Unspecified</td>\n",
              "      <td>NaN</td>\n",
              "      <td>NaN</td>\n",
              "      <td>Non-Fatal</td>\n",
              "    </tr>\n",
              "    <tr>\n",
              "      <th>2</th>\n",
              "      <td>MDBPD0000-8A7079014F-01-01</td>\n",
              "      <td>BALTIMORE-MAIN</td>\n",
              "      <td>BALTIMORE-PD</td>\n",
              "      <td>MDBPD0000</td>\n",
              "      <td>17V0349</td>\n",
              "      <td>7/25/2017</td>\n",
              "      <td>NaN</td>\n",
              "      <td>NON FATAL SHOOTING</td>\n",
              "      <td>NaN</td>\n",
              "      <td>NON FATAL SHOOTING</td>\n",
              "      <td>...</td>\n",
              "      <td>NaN</td>\n",
              "      <td>BLACK/HISPANIC</td>\n",
              "      <td>MALE</td>\n",
              "      <td>OPEN</td>\n",
              "      <td>NaN</td>\n",
              "      <td>OPEN</td>\n",
              "      <td>Open &amp; No Arrest-Unspecified</td>\n",
              "      <td>NaN</td>\n",
              "      <td>NaN</td>\n",
              "      <td>Non-Fatal</td>\n",
              "    </tr>\n",
              "    <tr>\n",
              "      <th>3</th>\n",
              "      <td>MDBPD0000-3EF6B5EBEF-01-01</td>\n",
              "      <td>BALTIMORE-MAIN</td>\n",
              "      <td>BALTIMORE-PD</td>\n",
              "      <td>MDBPD0000</td>\n",
              "      <td>17V0348</td>\n",
              "      <td>7/25/2017</td>\n",
              "      <td>NaN</td>\n",
              "      <td>NON FATAL SHOOTING</td>\n",
              "      <td>NaN</td>\n",
              "      <td>NON FATAL SHOOTING</td>\n",
              "      <td>...</td>\n",
              "      <td>NaN</td>\n",
              "      <td>BLACK/HISPANIC</td>\n",
              "      <td>MALE</td>\n",
              "      <td>OPEN</td>\n",
              "      <td>NaN</td>\n",
              "      <td>OPEN</td>\n",
              "      <td>Open &amp; No Arrest-Unspecified</td>\n",
              "      <td>NaN</td>\n",
              "      <td>NaN</td>\n",
              "      <td>Non-Fatal</td>\n",
              "    </tr>\n",
              "    <tr>\n",
              "      <th>4</th>\n",
              "      <td>MDBPD0000-5995BFA411-01-01</td>\n",
              "      <td>BALTIMORE-MAIN</td>\n",
              "      <td>BALTIMORE-PD</td>\n",
              "      <td>MDBPD0000</td>\n",
              "      <td>17V0346</td>\n",
              "      <td>7/24/2017</td>\n",
              "      <td>NaN</td>\n",
              "      <td>NON FATAL SHOOTING</td>\n",
              "      <td>NaN</td>\n",
              "      <td>NON FATAL SHOOTING</td>\n",
              "      <td>...</td>\n",
              "      <td>NaN</td>\n",
              "      <td>BLACK/HISPANIC</td>\n",
              "      <td>MALE</td>\n",
              "      <td>OPEN</td>\n",
              "      <td>NaN</td>\n",
              "      <td>OPEN</td>\n",
              "      <td>Open &amp; No Arrest-Unspecified</td>\n",
              "      <td>NaN</td>\n",
              "      <td>NaN</td>\n",
              "      <td>Non-Fatal</td>\n",
              "    </tr>\n",
              "  </tbody>\n",
              "</table>\n",
              "<p>5 rows × 32 columns</p>\n",
              "</div>\n",
              "    <div class=\"colab-df-buttons\">\n",
              "\n",
              "  <div class=\"colab-df-container\">\n",
              "    <button class=\"colab-df-convert\" onclick=\"convertToInteractive('df-2a52cdd8-6bf9-4633-b995-81708aeeb223')\"\n",
              "            title=\"Convert this dataframe to an interactive table.\"\n",
              "            style=\"display:none;\">\n",
              "\n",
              "  <svg xmlns=\"http://www.w3.org/2000/svg\" height=\"24px\" viewBox=\"0 -960 960 960\">\n",
              "    <path d=\"M120-120v-720h720v720H120Zm60-500h600v-160H180v160Zm220 220h160v-160H400v160Zm0 220h160v-160H400v160ZM180-400h160v-160H180v160Zm440 0h160v-160H620v160ZM180-180h160v-160H180v160Zm440 0h160v-160H620v160Z\"/>\n",
              "  </svg>\n",
              "    </button>\n",
              "\n",
              "  <style>\n",
              "    .colab-df-container {\n",
              "      display:flex;\n",
              "      gap: 12px;\n",
              "    }\n",
              "\n",
              "    .colab-df-convert {\n",
              "      background-color: #E8F0FE;\n",
              "      border: none;\n",
              "      border-radius: 50%;\n",
              "      cursor: pointer;\n",
              "      display: none;\n",
              "      fill: #1967D2;\n",
              "      height: 32px;\n",
              "      padding: 0 0 0 0;\n",
              "      width: 32px;\n",
              "    }\n",
              "\n",
              "    .colab-df-convert:hover {\n",
              "      background-color: #E2EBFA;\n",
              "      box-shadow: 0px 1px 2px rgba(60, 64, 67, 0.3), 0px 1px 3px 1px rgba(60, 64, 67, 0.15);\n",
              "      fill: #174EA6;\n",
              "    }\n",
              "\n",
              "    .colab-df-buttons div {\n",
              "      margin-bottom: 4px;\n",
              "    }\n",
              "\n",
              "    [theme=dark] .colab-df-convert {\n",
              "      background-color: #3B4455;\n",
              "      fill: #D2E3FC;\n",
              "    }\n",
              "\n",
              "    [theme=dark] .colab-df-convert:hover {\n",
              "      background-color: #434B5C;\n",
              "      box-shadow: 0px 1px 3px 1px rgba(0, 0, 0, 0.15);\n",
              "      filter: drop-shadow(0px 1px 2px rgba(0, 0, 0, 0.3));\n",
              "      fill: #FFFFFF;\n",
              "    }\n",
              "  </style>\n",
              "\n",
              "    <script>\n",
              "      const buttonEl =\n",
              "        document.querySelector('#df-2a52cdd8-6bf9-4633-b995-81708aeeb223 button.colab-df-convert');\n",
              "      buttonEl.style.display =\n",
              "        google.colab.kernel.accessAllowed ? 'block' : 'none';\n",
              "\n",
              "      async function convertToInteractive(key) {\n",
              "        const element = document.querySelector('#df-2a52cdd8-6bf9-4633-b995-81708aeeb223');\n",
              "        const dataTable =\n",
              "          await google.colab.kernel.invokeFunction('convertToInteractive',\n",
              "                                                    [key], {});\n",
              "        if (!dataTable) return;\n",
              "\n",
              "        const docLinkHtml = 'Like what you see? Visit the ' +\n",
              "          '<a target=\"_blank\" href=https://colab.research.google.com/notebooks/data_table.ipynb>data table notebook</a>'\n",
              "          + ' to learn more about interactive tables.';\n",
              "        element.innerHTML = '';\n",
              "        dataTable['output_type'] = 'display_data';\n",
              "        await google.colab.output.renderOutput(dataTable, element);\n",
              "        const docLink = document.createElement('div');\n",
              "        docLink.innerHTML = docLinkHtml;\n",
              "        element.appendChild(docLink);\n",
              "      }\n",
              "    </script>\n",
              "  </div>\n",
              "\n",
              "\n",
              "<div id=\"df-aa330246-6890-4821-bd60-bd9e13e93ec5\">\n",
              "  <button class=\"colab-df-quickchart\" onclick=\"quickchart('df-aa330246-6890-4821-bd60-bd9e13e93ec5')\"\n",
              "            title=\"Suggest charts\"\n",
              "            style=\"display:none;\">\n",
              "\n",
              "<svg xmlns=\"http://www.w3.org/2000/svg\" height=\"24px\"viewBox=\"0 0 24 24\"\n",
              "     width=\"24px\">\n",
              "    <g>\n",
              "        <path d=\"M19 3H5c-1.1 0-2 .9-2 2v14c0 1.1.9 2 2 2h14c1.1 0 2-.9 2-2V5c0-1.1-.9-2-2-2zM9 17H7v-7h2v7zm4 0h-2V7h2v10zm4 0h-2v-4h2v4z\"/>\n",
              "    </g>\n",
              "</svg>\n",
              "  </button>\n",
              "\n",
              "<style>\n",
              "  .colab-df-quickchart {\n",
              "      --bg-color: #E8F0FE;\n",
              "      --fill-color: #1967D2;\n",
              "      --hover-bg-color: #E2EBFA;\n",
              "      --hover-fill-color: #174EA6;\n",
              "      --disabled-fill-color: #AAA;\n",
              "      --disabled-bg-color: #DDD;\n",
              "  }\n",
              "\n",
              "  [theme=dark] .colab-df-quickchart {\n",
              "      --bg-color: #3B4455;\n",
              "      --fill-color: #D2E3FC;\n",
              "      --hover-bg-color: #434B5C;\n",
              "      --hover-fill-color: #FFFFFF;\n",
              "      --disabled-bg-color: #3B4455;\n",
              "      --disabled-fill-color: #666;\n",
              "  }\n",
              "\n",
              "  .colab-df-quickchart {\n",
              "    background-color: var(--bg-color);\n",
              "    border: none;\n",
              "    border-radius: 50%;\n",
              "    cursor: pointer;\n",
              "    display: none;\n",
              "    fill: var(--fill-color);\n",
              "    height: 32px;\n",
              "    padding: 0;\n",
              "    width: 32px;\n",
              "  }\n",
              "\n",
              "  .colab-df-quickchart:hover {\n",
              "    background-color: var(--hover-bg-color);\n",
              "    box-shadow: 0 1px 2px rgba(60, 64, 67, 0.3), 0 1px 3px 1px rgba(60, 64, 67, 0.15);\n",
              "    fill: var(--button-hover-fill-color);\n",
              "  }\n",
              "\n",
              "  .colab-df-quickchart-complete:disabled,\n",
              "  .colab-df-quickchart-complete:disabled:hover {\n",
              "    background-color: var(--disabled-bg-color);\n",
              "    fill: var(--disabled-fill-color);\n",
              "    box-shadow: none;\n",
              "  }\n",
              "\n",
              "  .colab-df-spinner {\n",
              "    border: 2px solid var(--fill-color);\n",
              "    border-color: transparent;\n",
              "    border-bottom-color: var(--fill-color);\n",
              "    animation:\n",
              "      spin 1s steps(1) infinite;\n",
              "  }\n",
              "\n",
              "  @keyframes spin {\n",
              "    0% {\n",
              "      border-color: transparent;\n",
              "      border-bottom-color: var(--fill-color);\n",
              "      border-left-color: var(--fill-color);\n",
              "    }\n",
              "    20% {\n",
              "      border-color: transparent;\n",
              "      border-left-color: var(--fill-color);\n",
              "      border-top-color: var(--fill-color);\n",
              "    }\n",
              "    30% {\n",
              "      border-color: transparent;\n",
              "      border-left-color: var(--fill-color);\n",
              "      border-top-color: var(--fill-color);\n",
              "      border-right-color: var(--fill-color);\n",
              "    }\n",
              "    40% {\n",
              "      border-color: transparent;\n",
              "      border-right-color: var(--fill-color);\n",
              "      border-top-color: var(--fill-color);\n",
              "    }\n",
              "    60% {\n",
              "      border-color: transparent;\n",
              "      border-right-color: var(--fill-color);\n",
              "    }\n",
              "    80% {\n",
              "      border-color: transparent;\n",
              "      border-right-color: var(--fill-color);\n",
              "      border-bottom-color: var(--fill-color);\n",
              "    }\n",
              "    90% {\n",
              "      border-color: transparent;\n",
              "      border-bottom-color: var(--fill-color);\n",
              "    }\n",
              "  }\n",
              "</style>\n",
              "\n",
              "  <script>\n",
              "    async function quickchart(key) {\n",
              "      const quickchartButtonEl =\n",
              "        document.querySelector('#' + key + ' button');\n",
              "      quickchartButtonEl.disabled = true;  // To prevent multiple clicks.\n",
              "      quickchartButtonEl.classList.add('colab-df-spinner');\n",
              "      try {\n",
              "        const charts = await google.colab.kernel.invokeFunction(\n",
              "            'suggestCharts', [key], {});\n",
              "      } catch (error) {\n",
              "        console.error('Error during call to suggestCharts:', error);\n",
              "      }\n",
              "      quickchartButtonEl.classList.remove('colab-df-spinner');\n",
              "      quickchartButtonEl.classList.add('colab-df-quickchart-complete');\n",
              "    }\n",
              "    (() => {\n",
              "      let quickchartButtonEl =\n",
              "        document.querySelector('#df-aa330246-6890-4821-bd60-bd9e13e93ec5 button');\n",
              "      quickchartButtonEl.style.display =\n",
              "        google.colab.kernel.accessAllowed ? 'block' : 'none';\n",
              "    })();\n",
              "  </script>\n",
              "</div>\n",
              "\n",
              "    </div>\n",
              "  </div>\n"
            ],
            "application/vnd.google.colaboratory.intrinsic+json": {
              "type": "dataframe",
              "variable_name": "data"
            }
          },
          "metadata": {},
          "execution_count": 79
        }
      ],
      "source": [
        "#import library and load dataset\n",
        "import pandas as pd\n",
        "data = pd.read_csv(r'https://raw.githubusercontent.com/AI4ALL-Class8-Group2/offensive-standard-data/main/offenses_5pd_fatality.csv')\n",
        "\n",
        "\n",
        "# show the first 5 rows of the data\n",
        "data.head()"
      ]
    },
    {
      "cell_type": "code",
      "execution_count": null,
      "metadata": {
        "id": "abolTbYV3SUJ",
        "colab": {
          "base_uri": "https://localhost:8080/"
        },
        "outputId": "537a1465-94ef-4e79-dc27-cba78c798164"
      },
      "outputs": [
        {
          "output_type": "stream",
          "name": "stdout",
          "text": [
            "(18616, 32)\n"
          ]
        }
      ],
      "source": [
        "# show number of rows and columns\n",
        "print(data.shape)"
      ]
    },
    {
      "cell_type": "code",
      "execution_count": null,
      "metadata": {
        "id": "iUTOaFhA3buE",
        "colab": {
          "base_uri": "https://localhost:8080/"
        },
        "outputId": "3fe80593-2235-4038-e013-eb4f87b51eb1"
      },
      "outputs": [
        {
          "output_type": "stream",
          "name": "stdout",
          "text": [
            "<class 'pandas.core.frame.DataFrame'>\n",
            "RangeIndex: 18616 entries, 0 to 18615\n",
            "Data columns (total 32 columns):\n",
            " #   Column                    Non-Null Count  Dtype  \n",
            "---  ------                    --------------  -----  \n",
            " 0   row_hash                  18616 non-null  object \n",
            " 1   source                    18616 non-null  object \n",
            " 2   agency_name               18616 non-null  object \n",
            " 3   agency_ori                18616 non-null  object \n",
            " 4   agency_incident_id        18616 non-null  object \n",
            " 5   occurred_date             18610 non-null  object \n",
            " 6   occurred_time             13433 non-null  object \n",
            " 7   offense_category          18616 non-null  object \n",
            " 8   top_ucr_classification    9748 non-null   object \n",
            " 9   top_local_classification  14640 non-null  object \n",
            " 10  nibrs_code                0 non-null      float64\n",
            " 11  weapon                    16223 non-null  object \n",
            " 12  firearm_ind               18616 non-null  object \n",
            " 13  offense_group             18616 non-null  object \n",
            " 14  domestic_violence_ind     1795 non-null   object \n",
            " 15  family_violence_ind       0 non-null      float64\n",
            " 16  gang_activity_ind         10062 non-null  object \n",
            " 17  relationship_to_offender  0 non-null      float64\n",
            " 18  circumstance              737 non-null    object \n",
            " 19  inside_outside            1789 non-null   object \n",
            " 20  victim_age                17018 non-null  float64\n",
            " 21  victim_race               17183 non-null  object \n",
            " 22  victim_ethnicity          9676 non-null   object \n",
            " 23  victim_race_condensed     18616 non-null  object \n",
            " 24  victim_sex                17188 non-null  object \n",
            " 25  case_status               16981 non-null  object \n",
            " 26  arrest_ind                12678 non-null  object \n",
            " 27  clearance_status          18162 non-null  object \n",
            " 28  clearance_group           18616 non-null  object \n",
            " 29  clearance_date            342 non-null    object \n",
            " 30  arrest_date               0 non-null      float64\n",
            " 31  Fatality Status           18616 non-null  object \n",
            "dtypes: float64(5), object(27)\n",
            "memory usage: 4.5+ MB\n",
            "None\n"
          ]
        }
      ],
      "source": [
        "# show data info\n",
        "print(data.info())"
      ]
    },
    {
      "cell_type": "code",
      "execution_count": null,
      "metadata": {
        "id": "NjTVfbyp3fPz",
        "colab": {
          "base_uri": "https://localhost:8080/"
        },
        "outputId": "b4a070bd-0bfd-42fd-9139-2161d32692f6"
      },
      "outputs": [
        {
          "output_type": "stream",
          "name": "stdout",
          "text": [
            "Index(['row_hash', 'source', 'agency_name', 'agency_ori', 'agency_incident_id',\n",
            "       'occurred_date', 'occurred_time', 'offense_category',\n",
            "       'top_ucr_classification', 'top_local_classification', 'nibrs_code',\n",
            "       'weapon', 'firearm_ind', 'offense_group', 'domestic_violence_ind',\n",
            "       'family_violence_ind', 'gang_activity_ind', 'relationship_to_offender',\n",
            "       'circumstance', 'inside_outside', 'victim_age', 'victim_race',\n",
            "       'victim_ethnicity', 'victim_race_condensed', 'victim_sex',\n",
            "       'case_status', 'arrest_ind', 'clearance_status', 'clearance_group',\n",
            "       'clearance_date', 'arrest_date', 'Fatality Status'],\n",
            "      dtype='object')\n"
          ]
        }
      ],
      "source": [
        "# show feature names\n",
        "print(data.keys())"
      ]
    },
    {
      "cell_type": "code",
      "execution_count": null,
      "metadata": {
        "id": "kycy4_J-60qU",
        "colab": {
          "base_uri": "https://localhost:8080/"
        },
        "outputId": "6bd89752-1ebb-45f7-e6fe-2ab585f5f908"
      },
      "outputs": [
        {
          "output_type": "stream",
          "name": "stdout",
          "text": [
            "(18616, 32)\n",
            "(0, 32)\n"
          ]
        }
      ],
      "source": [
        "# delete rows with missing values\n",
        "print(data.shape)\n",
        "print(data.dropna().shape)"
      ]
    },
    {
      "cell_type": "code",
      "execution_count": null,
      "metadata": {
        "id": "JWlSH9rw55VV",
        "colab": {
          "base_uri": "https://localhost:8080/",
          "height": 116
        },
        "outputId": "5a1defc5-8f00-4686-b526-bf0bcb7291e4"
      },
      "outputs": [
        {
          "output_type": "execute_result",
          "data": {
            "text/plain": [
              "Empty DataFrame\n",
              "Columns: [row_hash, source, agency_name, agency_ori, agency_incident_id, occurred_date, occurred_time, offense_category, top_ucr_classification, top_local_classification, nibrs_code, weapon, firearm_ind, offense_group, domestic_violence_ind, family_violence_ind, gang_activity_ind, relationship_to_offender, circumstance, inside_outside, victim_age, victim_race, victim_ethnicity, victim_race_condensed, victim_sex, case_status, arrest_ind, clearance_status, clearance_group, clearance_date, arrest_date, Fatality Status]\n",
              "Index: []\n",
              "\n",
              "[0 rows x 32 columns]"
            ],
            "text/html": [
              "\n",
              "  <div id=\"df-3395d28b-8a80-4eec-be30-960bf5787919\" class=\"colab-df-container\">\n",
              "    <div>\n",
              "<style scoped>\n",
              "    .dataframe tbody tr th:only-of-type {\n",
              "        vertical-align: middle;\n",
              "    }\n",
              "\n",
              "    .dataframe tbody tr th {\n",
              "        vertical-align: top;\n",
              "    }\n",
              "\n",
              "    .dataframe thead th {\n",
              "        text-align: right;\n",
              "    }\n",
              "</style>\n",
              "<table border=\"1\" class=\"dataframe\">\n",
              "  <thead>\n",
              "    <tr style=\"text-align: right;\">\n",
              "      <th></th>\n",
              "      <th>row_hash</th>\n",
              "      <th>source</th>\n",
              "      <th>agency_name</th>\n",
              "      <th>agency_ori</th>\n",
              "      <th>agency_incident_id</th>\n",
              "      <th>occurred_date</th>\n",
              "      <th>occurred_time</th>\n",
              "      <th>offense_category</th>\n",
              "      <th>top_ucr_classification</th>\n",
              "      <th>top_local_classification</th>\n",
              "      <th>...</th>\n",
              "      <th>victim_ethnicity</th>\n",
              "      <th>victim_race_condensed</th>\n",
              "      <th>victim_sex</th>\n",
              "      <th>case_status</th>\n",
              "      <th>arrest_ind</th>\n",
              "      <th>clearance_status</th>\n",
              "      <th>clearance_group</th>\n",
              "      <th>clearance_date</th>\n",
              "      <th>arrest_date</th>\n",
              "      <th>Fatality Status</th>\n",
              "    </tr>\n",
              "  </thead>\n",
              "  <tbody>\n",
              "  </tbody>\n",
              "</table>\n",
              "<p>0 rows × 32 columns</p>\n",
              "</div>\n",
              "    <div class=\"colab-df-buttons\">\n",
              "\n",
              "  <div class=\"colab-df-container\">\n",
              "    <button class=\"colab-df-convert\" onclick=\"convertToInteractive('df-3395d28b-8a80-4eec-be30-960bf5787919')\"\n",
              "            title=\"Convert this dataframe to an interactive table.\"\n",
              "            style=\"display:none;\">\n",
              "\n",
              "  <svg xmlns=\"http://www.w3.org/2000/svg\" height=\"24px\" viewBox=\"0 -960 960 960\">\n",
              "    <path d=\"M120-120v-720h720v720H120Zm60-500h600v-160H180v160Zm220 220h160v-160H400v160Zm0 220h160v-160H400v160ZM180-400h160v-160H180v160Zm440 0h160v-160H620v160ZM180-180h160v-160H180v160Zm440 0h160v-160H620v160Z\"/>\n",
              "  </svg>\n",
              "    </button>\n",
              "\n",
              "  <style>\n",
              "    .colab-df-container {\n",
              "      display:flex;\n",
              "      gap: 12px;\n",
              "    }\n",
              "\n",
              "    .colab-df-convert {\n",
              "      background-color: #E8F0FE;\n",
              "      border: none;\n",
              "      border-radius: 50%;\n",
              "      cursor: pointer;\n",
              "      display: none;\n",
              "      fill: #1967D2;\n",
              "      height: 32px;\n",
              "      padding: 0 0 0 0;\n",
              "      width: 32px;\n",
              "    }\n",
              "\n",
              "    .colab-df-convert:hover {\n",
              "      background-color: #E2EBFA;\n",
              "      box-shadow: 0px 1px 2px rgba(60, 64, 67, 0.3), 0px 1px 3px 1px rgba(60, 64, 67, 0.15);\n",
              "      fill: #174EA6;\n",
              "    }\n",
              "\n",
              "    .colab-df-buttons div {\n",
              "      margin-bottom: 4px;\n",
              "    }\n",
              "\n",
              "    [theme=dark] .colab-df-convert {\n",
              "      background-color: #3B4455;\n",
              "      fill: #D2E3FC;\n",
              "    }\n",
              "\n",
              "    [theme=dark] .colab-df-convert:hover {\n",
              "      background-color: #434B5C;\n",
              "      box-shadow: 0px 1px 3px 1px rgba(0, 0, 0, 0.15);\n",
              "      filter: drop-shadow(0px 1px 2px rgba(0, 0, 0, 0.3));\n",
              "      fill: #FFFFFF;\n",
              "    }\n",
              "  </style>\n",
              "\n",
              "    <script>\n",
              "      const buttonEl =\n",
              "        document.querySelector('#df-3395d28b-8a80-4eec-be30-960bf5787919 button.colab-df-convert');\n",
              "      buttonEl.style.display =\n",
              "        google.colab.kernel.accessAllowed ? 'block' : 'none';\n",
              "\n",
              "      async function convertToInteractive(key) {\n",
              "        const element = document.querySelector('#df-3395d28b-8a80-4eec-be30-960bf5787919');\n",
              "        const dataTable =\n",
              "          await google.colab.kernel.invokeFunction('convertToInteractive',\n",
              "                                                    [key], {});\n",
              "        if (!dataTable) return;\n",
              "\n",
              "        const docLinkHtml = 'Like what you see? Visit the ' +\n",
              "          '<a target=\"_blank\" href=https://colab.research.google.com/notebooks/data_table.ipynb>data table notebook</a>'\n",
              "          + ' to learn more about interactive tables.';\n",
              "        element.innerHTML = '';\n",
              "        dataTable['output_type'] = 'display_data';\n",
              "        await google.colab.output.renderOutput(dataTable, element);\n",
              "        const docLink = document.createElement('div');\n",
              "        docLink.innerHTML = docLinkHtml;\n",
              "        element.appendChild(docLink);\n",
              "      }\n",
              "    </script>\n",
              "  </div>\n",
              "\n",
              "\n",
              "    </div>\n",
              "  </div>\n"
            ],
            "application/vnd.google.colaboratory.intrinsic+json": {
              "type": "dataframe"
            }
          },
          "metadata": {},
          "execution_count": 85
        }
      ],
      "source": [
        "# duplicate rows\n",
        "data[data.duplicated(keep=False)]"
      ]
    },
    {
      "cell_type": "code",
      "execution_count": null,
      "metadata": {
        "id": "6q-AS1Cy7K7L",
        "colab": {
          "base_uri": "https://localhost:8080/"
        },
        "outputId": "973a580d-044d-4df3-813d-91aa0a27adfa"
      },
      "outputs": [
        {
          "output_type": "stream",
          "name": "stdout",
          "text": [
            "(18616, 32)\n",
            "(18616, 32)\n"
          ]
        }
      ],
      "source": [
        "# drop duplicate rows\n",
        "print(data.shape)\n",
        "data.drop_duplicates(inplace=True)\n",
        "print(data.shape)"
      ]
    },
    {
      "cell_type": "code",
      "source": [
        "# replace \"m\" with \"male\"\n",
        "data['victim_sex'] = data['victim_sex']\\\n",
        "    .apply(lambda n_group: 'MALE' if n_group == 'M' else n_group)\n",
        "data['victim_sex'].value_counts()"
      ],
      "metadata": {
        "id": "g_mkDULcCcAP",
        "colab": {
          "base_uri": "https://localhost:8080/"
        },
        "outputId": "fe087b7f-42a6-4b79-eed5-16432e2d1181"
      },
      "execution_count": null,
      "outputs": [
        {
          "output_type": "execute_result",
          "data": {
            "text/plain": [
              "MALE             15401\n",
              "F                 1255\n",
              "FEMALE             486\n",
              "OTH                 24\n",
              "X                   14\n",
              "UNCLEAR              4\n",
              "U                    3\n",
              "TRANSGENDERED        1\n",
              "Name: victim_sex, dtype: int64"
            ]
          },
          "metadata": {},
          "execution_count": 87
        }
      ]
    },
    {
      "cell_type": "code",
      "source": [
        "# replace \"f\" with \"female\"\n",
        "data['victim_sex'] = data['victim_sex']\\\n",
        "    .apply(lambda n_group: 'FEMALE' if n_group == 'F' else n_group)\n",
        "data['victim_sex'].value_counts()\n"
      ],
      "metadata": {
        "id": "_ZBfp252DE9U",
        "colab": {
          "base_uri": "https://localhost:8080/"
        },
        "outputId": "cf3611ca-16a7-47ce-c6dc-486a8227b9f8"
      },
      "execution_count": null,
      "outputs": [
        {
          "output_type": "execute_result",
          "data": {
            "text/plain": [
              "MALE             15401\n",
              "FEMALE            1741\n",
              "OTH                 24\n",
              "X                   14\n",
              "UNCLEAR              4\n",
              "U                    3\n",
              "TRANSGENDERED        1\n",
              "Name: victim_sex, dtype: int64"
            ]
          },
          "metadata": {},
          "execution_count": 88
        }
      ]
    },
    {
      "cell_type": "code",
      "execution_count": null,
      "metadata": {
        "id": "ziausvYkjB04",
        "colab": {
          "base_uri": "https://localhost:8080/",
          "height": 423
        },
        "outputId": "a6366491-453a-4556-cfef-d0c3307d2a7e"
      },
      "outputs": [
        {
          "output_type": "execute_result",
          "data": {
            "text/plain": [
              "<Axes: ylabel='victim_sex'>"
            ]
          },
          "metadata": {},
          "execution_count": 89
        },
        {
          "output_type": "display_data",
          "data": {
            "text/plain": [
              "<Figure size 640x480 with 1 Axes>"
            ],
            "image/png": "[encoded data removed]"
          },
          "metadata": {}
        }
      ],
      "source": [
        "# pie chart for victim_sex\n",
        "data['victim_sex'].str.lower().value_counts(dropna=False).plot.pie()"
      ]
    },
    {
      "cell_type": "code",
      "source": [
        "#delete  columns not relevant to research\n",
        "data = data.drop(data.columns[[0,1,3,4,8,9,10,12,22]], axis=1)\n",
        "data.info()"
      ],
      "metadata": {
        "id": "1jHwczHIFk-5",
        "colab": {
          "base_uri": "https://localhost:8080/"
        },
        "outputId": "ce8ee403-b107-44c0-c3b9-c8b0c8e46304"
      },
      "execution_count": null,
      "outputs": [
        {
          "output_type": "stream",
          "name": "stdout",
          "text": [
            "<class 'pandas.core.frame.DataFrame'>\n",
            "Int64Index: 18616 entries, 0 to 18615\n",
            "Data columns (total 23 columns):\n",
            " #   Column                    Non-Null Count  Dtype  \n",
            "---  ------                    --------------  -----  \n",
            " 0   agency_name               18616 non-null  object \n",
            " 1   occurred_date             18610 non-null  object \n",
            " 2   occurred_time             13433 non-null  object \n",
            " 3   offense_category          18616 non-null  object \n",
            " 4   weapon                    16223 non-null  object \n",
            " 5   offense_group             18616 non-null  object \n",
            " 6   domestic_violence_ind     1795 non-null   object \n",
            " 7   family_violence_ind       0 non-null      float64\n",
            " 8   gang_activity_ind         10062 non-null  object \n",
            " 9   relationship_to_offender  0 non-null      float64\n",
            " 10  circumstance              737 non-null    object \n",
            " 11  inside_outside            1789 non-null   object \n",
            " 12  victim_age                17018 non-null  float64\n",
            " 13  victim_race               17183 non-null  object \n",
            " 14  victim_race_condensed     18616 non-null  object \n",
            " 15  victim_sex                17188 non-null  object \n",
            " 16  case_status               16981 non-null  object \n",
            " 17  arrest_ind                12678 non-null  object \n",
            " 18  clearance_status          18162 non-null  object \n",
            " 19  clearance_group           18616 non-null  object \n",
            " 20  clearance_date            342 non-null    object \n",
            " 21  arrest_date               0 non-null      float64\n",
            " 22  Fatality Status           18616 non-null  object \n",
            "dtypes: float64(4), object(19)\n",
            "memory usage: 3.4+ MB\n"
          ]
        }
      ]
    },
    {
      "cell_type": "code",
      "source": [
        "# count nulls - the number you see are the missing values of each feature\n",
        "print(data.isnull().sum())"
      ],
      "metadata": {
        "id": "hMWdUJPAO_0n",
        "colab": {
          "base_uri": "https://localhost:8080/"
        },
        "outputId": "5a9fe9e5-604c-4e68-a1d9-3c521536ee3a"
      },
      "execution_count": null,
      "outputs": [
        {
          "output_type": "stream",
          "name": "stdout",
          "text": [
            "agency_name                     0\n",
            "occurred_date                   6\n",
            "occurred_time                5183\n",
            "offense_category                0\n",
            "weapon                       2393\n",
            "offense_group                   0\n",
            "domestic_violence_ind       16821\n",
            "family_violence_ind         18616\n",
            "gang_activity_ind            8554\n",
            "relationship_to_offender    18616\n",
            "circumstance                17879\n",
            "inside_outside              16827\n",
            "victim_age                   1598\n",
            "victim_race                  1433\n",
            "victim_race_condensed           0\n",
            "victim_sex                   1428\n",
            "case_status                  1635\n",
            "arrest_ind                   5938\n",
            "clearance_status              454\n",
            "clearance_group                 0\n",
            "clearance_date              18274\n",
            "arrest_date                 18616\n",
            "Fatality Status                 0\n",
            "dtype: int64\n"
          ]
        }
      ]
    },
    {
      "cell_type": "code",
      "source": [
        "#delete  columns with missing values > .75\n",
        "data.drop([ 'domestic_violence_ind','family_violence_ind','relationship_to_offender','circumstance',\n",
        "'inside_outside'], axis=1, inplace=True)\n",
        "print(data.isnull().sum())"
      ],
      "metadata": {
        "colab": {
          "base_uri": "https://localhost:8080/"
        },
        "id": "DlyuMQ35qjok",
        "outputId": "20742816-0b04-4bf3-8b63-08031e0373d8"
      },
      "execution_count": null,
      "outputs": [
        {
          "output_type": "stream",
          "name": "stdout",
          "text": [
            "agency_name                  0\n",
            "occurred_date                6\n",
            "occurred_time             5183\n",
            "offense_category             0\n",
            "weapon                    2393\n",
            "offense_group                0\n",
            "gang_activity_ind         8554\n",
            "victim_age                1598\n",
            "victim_race               1433\n",
            "victim_race_condensed        0\n",
            "victim_sex                1428\n",
            "case_status               1635\n",
            "arrest_ind                5938\n",
            "clearance_status           454\n",
            "clearance_group              0\n",
            "clearance_date           18274\n",
            "arrest_date              18616\n",
            "Fatality Status              0\n",
            "dtype: int64\n"
          ]
        }
      ]
    },
    {
      "cell_type": "code",
      "source": [
        "# quasi constant values\n",
        "for val in data.columns.sort_values():\n",
        "    if (len(data[val].unique()) < 3):\n",
        "        print(data[val].value_counts())"
      ],
      "metadata": {
        "id": "NfpyHbXMFpt_",
        "colab": {
          "base_uri": "https://localhost:8080/"
        },
        "outputId": "9d51f74e-e75b-4593-c5fd-2de875816911"
      },
      "execution_count": null,
      "outputs": [
        {
          "output_type": "stream",
          "name": "stdout",
          "text": [
            "Non-Fatal    13544\n",
            "Fatal         5072\n",
            "Name: Fatality Status, dtype: int64\n",
            "Series([], Name: arrest_date, dtype: int64)\n"
          ]
        }
      ]
    },
    {
      "cell_type": "markdown",
      "source": [
        "**NEWARK-PD Dropped**\n",
        "\n",
        "This is because over 80% of the missing values in victim_sex, victim_age, victim_race, weapon , case_status, and clearence_status where from Newark."
      ],
      "metadata": {
        "id": "5do1NYSaC2ps"
      }
    },
    {
      "cell_type": "code",
      "source": [
        "data.drop(data[data[\"agency_name\"] == 'NEWARK-PD'].index, inplace=True)\n",
        "print(data.isnull().sum())"
      ],
      "metadata": {
        "colab": {
          "base_uri": "https://localhost:8080/"
        },
        "id": "b3ehleDPA8EV",
        "outputId": "23aea0bd-d653-4b92-e7d5-57e7a0e2b1db"
      },
      "execution_count": null,
      "outputs": [
        {
          "output_type": "stream",
          "name": "stdout",
          "text": [
            "agency_name                  0\n",
            "occurred_date                0\n",
            "occurred_time             5171\n",
            "offense_category             0\n",
            "weapon                      24\n",
            "offense_group                0\n",
            "gang_activity_ind         7091\n",
            "victim_age                   0\n",
            "victim_race                  6\n",
            "victim_race_condensed        0\n",
            "victim_sex                   5\n",
            "case_status                680\n",
            "arrest_ind                5938\n",
            "clearance_status             0\n",
            "clearance_group              0\n",
            "clearance_date           15905\n",
            "arrest_date              16247\n",
            "Fatality Status              0\n",
            "dtype: int64\n"
          ]
        }
      ]
    },
    {
      "cell_type": "code",
      "source": [
        "print(data.info())"
      ],
      "metadata": {
        "colab": {
          "base_uri": "https://localhost:8080/"
        },
        "id": "y2MrYsbMFIGH",
        "outputId": "c62e32e6-9d52-440b-ebdc-c7a6a63f727d"
      },
      "execution_count": null,
      "outputs": [
        {
          "output_type": "stream",
          "name": "stdout",
          "text": [
            "<class 'pandas.core.frame.DataFrame'>\n",
            "Int64Index: 16247 entries, 0 to 18615\n",
            "Data columns (total 18 columns):\n",
            " #   Column                 Non-Null Count  Dtype  \n",
            "---  ------                 --------------  -----  \n",
            " 0   agency_name            16247 non-null  object \n",
            " 1   occurred_date          16247 non-null  object \n",
            " 2   occurred_time          11076 non-null  object \n",
            " 3   offense_category       16247 non-null  object \n",
            " 4   weapon                 16223 non-null  object \n",
            " 5   offense_group          16247 non-null  object \n",
            " 6   gang_activity_ind      9156 non-null   object \n",
            " 7   victim_age             16247 non-null  float64\n",
            " 8   victim_race            16241 non-null  object \n",
            " 9   victim_race_condensed  16247 non-null  object \n",
            " 10  victim_sex             16247 non-null  object \n",
            " 11  case_status            15567 non-null  object \n",
            " 12  arrest_ind             10309 non-null  object \n",
            " 13  clearance_status       16247 non-null  object \n",
            " 14  clearance_group        16247 non-null  object \n",
            " 15  clearance_date         342 non-null    object \n",
            " 16  arrest_date            0 non-null      float64\n",
            " 17  Fatality Status        16247 non-null  object \n",
            "dtypes: float64(2), object(16)\n",
            "memory usage: 2.4+ MB\n",
            "None\n"
          ]
        }
      ]
    },
    {
      "cell_type": "markdown",
      "source": [
        "**One-Hot Encoding**\n",
        "\n",
        "To convert catergorical variables like Fatality Status(target), victim_sex, victim_age, agency name to numeric data."
      ],
      "metadata": {
        "id": "qtFESUVH--xX"
      }
    },
    {
      "cell_type": "code",
      "source": [
        "#one hot encoding of fatality status variable\n",
        "from sklearn.preprocessing import OneHotEncoder\n",
        "from sklearn.compose import make_column_transformer\n",
        "import pandas as pd\n",
        "\n",
        "transformer = make_column_transformer(\n",
        "    (OneHotEncoder(), ['Fatality Status']),\n",
        "    remainder='passthrough')\n",
        "\n",
        "transformed = transformer.fit_transform(data)\n",
        "transformed_df = pd.DataFrame(\n",
        "    transformed,\n",
        "    columns=transformer.get_feature_names_out())\n",
        "print(transformed_df.head())"
      ],
      "metadata": {
        "colab": {
          "base_uri": "https://localhost:8080/"
        },
        "id": "BjYgqWiP112G",
        "outputId": "538f02c7-d2eb-4a4c-db47-27e51b0cfca0"
      },
      "execution_count": null,
      "outputs": [
        {
          "output_type": "stream",
          "name": "stdout",
          "text": [
            "  onehotencoder__Fatality Status_Fatal  \\\n",
            "0                                  0.0   \n",
            "1                                  0.0   \n",
            "2                                  0.0   \n",
            "3                                  0.0   \n",
            "4                                  0.0   \n",
            "\n",
            "  onehotencoder__Fatality Status_Non-Fatal remainder__agency_name  \\\n",
            "0                                      1.0           BALTIMORE-PD   \n",
            "1                                      1.0           BALTIMORE-PD   \n",
            "2                                      1.0           BALTIMORE-PD   \n",
            "3                                      1.0           BALTIMORE-PD   \n",
            "4                                      1.0           BALTIMORE-PD   \n",
            "\n",
            "  remainder__occurred_date remainder__occurred_time  \\\n",
            "0                7/26/2017                      NaN   \n",
            "1                7/26/2017                      NaN   \n",
            "2                7/25/2017                      NaN   \n",
            "3                7/25/2017                      NaN   \n",
            "4                7/24/2017                      NaN   \n",
            "\n",
            "  remainder__offense_category remainder__weapon remainder__offense_group  \\\n",
            "0          NON FATAL SHOOTING           FIREARM       Non-Fatal Shooting   \n",
            "1          NON FATAL SHOOTING           FIREARM       Non-Fatal Shooting   \n",
            "2          NON FATAL SHOOTING           FIREARM       Non-Fatal Shooting   \n",
            "3          NON FATAL SHOOTING           FIREARM       Non-Fatal Shooting   \n",
            "4          NON FATAL SHOOTING           FIREARM       Non-Fatal Shooting   \n",
            "\n",
            "  remainder__gang_activity_ind remainder__victim_age remainder__victim_race  \\\n",
            "0                          NaN                  22.0                  BLACK   \n",
            "1                          NaN                  53.0                  BLACK   \n",
            "2                          NaN                  19.0                  BLACK   \n",
            "3                          NaN                  29.0                  BLACK   \n",
            "4                          NaN                  22.0                  BLACK   \n",
            "\n",
            "  remainder__victim_race_condensed remainder__victim_sex  \\\n",
            "0                   BLACK/HISPANIC                  MALE   \n",
            "1                   BLACK/HISPANIC                FEMALE   \n",
            "2                   BLACK/HISPANIC                  MALE   \n",
            "3                   BLACK/HISPANIC                  MALE   \n",
            "4                   BLACK/HISPANIC                  MALE   \n",
            "\n",
            "  remainder__case_status remainder__arrest_ind remainder__clearance_status  \\\n",
            "0                   OPEN                   NaN                        OPEN   \n",
            "1                   OPEN                   NaN                        OPEN   \n",
            "2                   OPEN                   NaN                        OPEN   \n",
            "3                   OPEN                   NaN                        OPEN   \n",
            "4                   OPEN                   NaN                        OPEN   \n",
            "\n",
            "     remainder__clearance_group remainder__clearance_date  \\\n",
            "0  Open & No Arrest-Unspecified                       NaN   \n",
            "1  Open & No Arrest-Unspecified                       NaN   \n",
            "2  Open & No Arrest-Unspecified                       NaN   \n",
            "3  Open & No Arrest-Unspecified                       NaN   \n",
            "4  Open & No Arrest-Unspecified                       NaN   \n",
            "\n",
            "  remainder__arrest_date  \n",
            "0                    NaN  \n",
            "1                    NaN  \n",
            "2                    NaN  \n",
            "3                    NaN  \n",
            "4                    NaN  \n"
          ]
        }
      ]
    },
    {
      "cell_type": "code",
      "source": [
        "# look at the shape of variables that are numerical\n",
        "import matplotlib.pyplot as plt\n",
        "\n",
        "data.hist()\n",
        "plt.tight_layout();"
      ],
      "metadata": {
        "colab": {
          "base_uri": "https://localhost:8080/",
          "height": 480
        },
        "id": "sySUgRpptmzW",
        "outputId": "3d43066a-12b6-459c-9d76-f0089d8cfdc3"
      },
      "execution_count": null,
      "outputs": [
        {
          "output_type": "display_data",
          "data": {
            "text/plain": [
              "<Figure size 640x480 with 2 Axes>"
            ],
            "image/png": "[encoded data removed]"
          },
          "metadata": {}
        }
      ]
    },
    {
      "cell_type": "code",
      "source": [
        "# replace victim_sex with mode\n",
        "data['victim_sex'].fillna(data['victim_sex'].mode()[0], inplace=True)\n",
        "data.isnull().sum()"
      ],
      "metadata": {
        "colab": {
          "base_uri": "https://localhost:8080/"
        },
        "id": "OsnQ7lBzwlCV",
        "outputId": "31b78d6a-e1cb-4875-916e-17a174779a19"
      },
      "execution_count": null,
      "outputs": [
        {
          "output_type": "execute_result",
          "data": {
            "text/plain": [
              "agency_name                  0\n",
              "occurred_date                0\n",
              "occurred_time             5171\n",
              "offense_category             0\n",
              "weapon                      24\n",
              "offense_group                0\n",
              "gang_activity_ind         7091\n",
              "victim_age                   0\n",
              "victim_race                  6\n",
              "victim_race_condensed        0\n",
              "victim_sex                   0\n",
              "case_status                680\n",
              "arrest_ind                5938\n",
              "clearance_status             0\n",
              "clearance_group              0\n",
              "clearance_date           15905\n",
              "arrest_date              16247\n",
              "Fatality Status              0\n",
              "dtype: int64"
            ]
          },
          "metadata": {},
          "execution_count": 115
        }
      ]
    },
    {
      "cell_type": "code",
      "source": [
        "#violin plot\n",
        "import seaborn\n",
        "\n",
        "seaborn.set(style = 'whitegrid')\n",
        "\n",
        "seaborn.violinplot(x ='Fatality Status', data = data)"
      ],
      "metadata": {
        "colab": {
          "base_uri": "https://localhost:8080/",
          "height": 475
        },
        "id": "uXTI5pne0etY",
        "outputId": "12c7bda9-d60a-4917-8e52-ef7933a547ff"
      },
      "execution_count": null,
      "outputs": [
        {
          "output_type": "execute_result",
          "data": {
            "text/plain": [
              "<Axes: xlabel='Fatality Status'>"
            ]
          },
          "metadata": {},
          "execution_count": 105
        },
        {
          "output_type": "display_data",
          "data": {
            "text/plain": [
              "<Figure size 640x480 with 1 Axes>"
            ],
            "image/png": "[encoded data removed]"
          },
          "metadata": {}
        }
      ]
    },
    {
      "cell_type": "code",
      "source": [
        "# Import libraries\n",
        "import matplotlib.pyplot as plt\n",
        "import numpy as np\n",
        "# Creating plot\n",
        "data.boxplot()\n",
        "\n",
        "# show plot\n",
        "plt.show()"
      ],
      "metadata": {
        "colab": {
          "base_uri": "https://localhost:8080/",
          "height": 435
        },
        "id": "VbW2_ABm1Dfm",
        "outputId": "017ed7b0-8fc5-45cd-f674-2518eb24b52e"
      },
      "execution_count": null,
      "outputs": [
        {
          "output_type": "display_data",
          "data": {
            "text/plain": [
              "<Figure size 640x480 with 1 Axes>"
            ],
            "image/png": "[encoded data removed]"
          },
          "metadata": {}
        }
      ]
    },
    {
      "cell_type": "code",
      "source": [
        "# pie chart\n",
        "data['Fatality Status'].str.lower().value_counts(dropna=False).plot.pie()"
      ],
      "metadata": {
        "id": "wn8hZLu-No4b",
        "colab": {
          "base_uri": "https://localhost:8080/",
          "height": 423
        },
        "outputId": "4c3313dc-43db-4be7-e207-8e2db7b74715"
      },
      "execution_count": null,
      "outputs": [
        {
          "output_type": "execute_result",
          "data": {
            "text/plain": [
              "<Axes: ylabel='Fatality Status'>"
            ]
          },
          "metadata": {},
          "execution_count": 75
        },
        {
          "output_type": "display_data",
          "data": {
            "text/plain": [
              "<Figure size 640x480 with 1 Axes>"
            ],
            "image/png": "[encoded data removed]"
          },
          "metadata": {}
        }
      ]
    }
  ],
  "metadata": {
    "colab": {
      "provenance": [],
      "include_colab_link": true
    },
    "kernelspec": {
      "display_name": "Python 3",
      "name": "python3"
    },
    "language_info": {
      "name": "python"
    }
  },
  "nbformat": 4,
  "nbformat_minor": 0
}